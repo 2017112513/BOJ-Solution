{
  "nbformat": 4,
  "nbformat_minor": 0,
  "metadata": {
    "colab": {
      "name": "11052번: 카드 구매하기.ipynb",
      "provenance": [],
      "authorship_tag": "ABX9TyNUi5HWNJA0H8jD+rlo8RgU",
      "include_colab_link": true
    },
    "kernelspec": {
      "name": "python3",
      "display_name": "Python 3"
    },
    "language_info": {
      "name": "python"
    }
  },
  "cells": [
    {
      "cell_type": "markdown",
      "metadata": {
        "id": "view-in-github",
        "colab_type": "text"
      },
      "source": [
        "<a href=\"https://colab.research.google.com/github/easyseop/BOJ-Solution/blob/main/11052%EB%B2%88_%EC%B9%B4%EB%93%9C_%EA%B5%AC%EB%A7%A4%ED%95%98%EA%B8%B0.ipynb\" target=\"_parent\"><img src=\"https://colab.research.google.com/assets/colab-badge.svg\" alt=\"Open In Colab\"/></a>"
      ]
    },
    {
      "cell_type": "code",
      "source": [
        "n= int(input())\n",
        "lis = [0]*(n+1)\n",
        "card =[0]+list(map(int,input().split()))\n",
        "lis[1] = card[1]\n",
        "lis[2] = max(card[2],card[1]+card[1])\n",
        "for i in range(3,n+1):\n",
        "  lis[i]=card[i]\n",
        "  for j in range(1,i//2+1):\n",
        "    lis[i] = max(card[i],card[j]+lis[i-j])\n",
        "print(lis[-1])"
      ],
      "metadata": {
        "colab": {
          "base_uri": "https://localhost:8080/"
        },
        "id": "pzdsJ1uXBh6y",
        "outputId": "7e4e7845-11af-45e2-8a23-ce814e036e84"
      },
      "execution_count": 30,
      "outputs": [
        {
          "output_type": "execute_result",
          "data": {
            "text/plain": [
              "[0, 1, 5, 6, 7]"
            ]
          },
          "metadata": {},
          "execution_count": 30
        }
      ]
    },
    {
      "cell_type": "code",
      "source": [
        ""
      ],
      "metadata": {
        "colab": {
          "base_uri": "https://localhost:8080/"
        },
        "id": "5tPZF7ZxBm5_",
        "outputId": "2e35301f-f082-4801-94cf-b7cee91f3e2c"
      },
      "execution_count": 32,
      "outputs": [
        {
          "output_type": "stream",
          "name": "stdout",
          "text": [
            "10\n"
          ]
        }
      ]
    },
    {
      "cell_type": "code",
      "source": [
        "lis"
      ],
      "metadata": {
        "colab": {
          "base_uri": "https://localhost:8080/"
        },
        "id": "4mdCkkLAGD7s",
        "outputId": "ac413a43-3f7c-4f80-a3b6-a3374fadc6b1"
      },
      "execution_count": 27,
      "outputs": [
        {
          "output_type": "execute_result",
          "data": {
            "text/plain": [
              "[0, 1, 5, 6, 10]"
            ]
          },
          "metadata": {},
          "execution_count": 27
        }
      ]
    },
    {
      "cell_type": "code",
      "source": [
        ""
      ],
      "metadata": {
        "id": "Pc-ECJtzXyjv"
      },
      "execution_count": null,
      "outputs": []
    }
  ]
}