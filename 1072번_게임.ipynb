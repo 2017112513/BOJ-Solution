{
  "nbformat": 4,
  "nbformat_minor": 0,
  "metadata": {
    "colab": {
      "name": "1072번: 게임.ipynb",
      "provenance": [],
      "authorship_tag": "ABX9TyMT6dRw8OoZZttiGJaC/fpH",
      "include_colab_link": true
    },
    "kernelspec": {
      "name": "python3",
      "display_name": "Python 3"
    },
    "language_info": {
      "name": "python"
    }
  },
  "cells": [
    {
      "cell_type": "markdown",
      "metadata": {
        "id": "view-in-github",
        "colab_type": "text"
      },
      "source": [
        "<a href=\"https://colab.research.google.com/github/easyseop/BOJ-Solution/blob/main/1072%EB%B2%88_%EA%B2%8C%EC%9E%84.ipynb\" target=\"_parent\"><img src=\"https://colab.research.google.com/assets/colab-badge.svg\" alt=\"Open In Colab\"/></a>"
      ]
    },
    {
      "cell_type": "code",
      "execution_count": null,
      "metadata": {
        "id": "HFPmvwagWl-p"
      },
      "outputs": [],
      "source": [
        "total , curr =map(int,input().split())\n",
        "percent = int((curr*100/total))\n",
        "\n",
        "start = 1\n",
        "end = total\n",
        "ans = float('inf')\n",
        "flag = False\n",
        "while start<=end:\n",
        "    mid = (start+end)//2\n",
        "    \n",
        "    sub_total = total + mid\n",
        "    win = curr + mid\n",
        "    \n",
        "    score = int((win*100/sub_total))\n",
        "    print(score,percent)\n",
        "    if score<=percent:\n",
        "        \n",
        "        \n",
        "        \n",
        "        start=mid+1\n",
        "    else:\n",
        "        flag = True\n",
        "        ans =mid\n",
        "        end=mid-1\n",
        "\n",
        "if flag:\n",
        "    print(ans)\n",
        "else:\n",
        "    print(-1)"
      ]
    }
  ]
}