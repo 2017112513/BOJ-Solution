{
  "nbformat": 4,
  "nbformat_minor": 0,
  "metadata": {
    "colab": {
      "name": "11053: 가장 긴 증가하는 수열 (dp복습).ipynb",
      "provenance": [],
      "authorship_tag": "ABX9TyNjNAO27p1tI4l9hwlg224z",
      "include_colab_link": true
    },
    "kernelspec": {
      "name": "python3",
      "display_name": "Python 3"
    },
    "language_info": {
      "name": "python"
    }
  },
  "cells": [
    {
      "cell_type": "markdown",
      "metadata": {
        "id": "view-in-github",
        "colab_type": "text"
      },
      "source": [
        "<a href=\"https://colab.research.google.com/github/easyseop/BOJ-Solution/blob/main/11053_%EA%B0%80%EC%9E%A5_%EA%B8%B4_%EC%A6%9D%EA%B0%80%ED%95%98%EB%8A%94_%EC%88%98%EC%97%B4_(dp%EB%B3%B5%EC%8A%B5).ipynb\" target=\"_parent\"><img src=\"https://colab.research.google.com/assets/colab-badge.svg\" alt=\"Open In Colab\"/></a>"
      ]
    },
    {
      "cell_type": "code",
      "execution_count": null,
      "metadata": {
        "id": "eIsLzmQCe6aJ"
      },
      "outputs": [],
      "source": [
        "n = int(input())\n",
        "\n",
        "arr = list(map(int,input().split()))\n",
        "\n",
        "dp = [1]*(n)\n",
        "    \n",
        "for i in range(n):\n",
        "    j=i\n",
        "    while j>0:\n",
        "        if arr[i]>arr[j-1]:\n",
        "            dp[i] = max(dp[i],dp[j-1]+1)\n",
        "        j-=1\n",
        "\n",
        "\n",
        "print(max(dp))"
      ]
    }
  ]
}