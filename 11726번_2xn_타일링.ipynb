{
  "nbformat": 4,
  "nbformat_minor": 0,
  "metadata": {
    "colab": {
      "name": "11726번: 2xn 타일링.ipynb",
      "provenance": [],
      "authorship_tag": "ABX9TyNr8Bu8q5ivBBEwV7ZPGz49",
      "include_colab_link": true
    },
    "kernelspec": {
      "name": "python3",
      "display_name": "Python 3"
    },
    "language_info": {
      "name": "python"
    }
  },
  "cells": [
    {
      "cell_type": "markdown",
      "metadata": {
        "id": "view-in-github",
        "colab_type": "text"
      },
      "source": [
        "<a href=\"https://colab.research.google.com/github/easyseop/BOJ-Solution/blob/main/11726%EB%B2%88_2xn_%ED%83%80%EC%9D%BC%EB%A7%81.ipynb\" target=\"_parent\"><img src=\"https://colab.research.google.com/assets/colab-badge.svg\" alt=\"Open In Colab\"/></a>"
      ]
    },
    {
      "cell_type": "code",
      "execution_count": null,
      "metadata": {
        "colab": {
          "base_uri": "https://localhost:8080/"
        },
        "id": "StLt5i733cc_",
        "outputId": "bfb44660-34ee-45fb-bd8a-18b1d27a0a6e"
      },
      "outputs": [
        {
          "output_type": "stream",
          "name": "stdout",
          "text": [
            "9\n",
            "55\n"
          ]
        }
      ],
      "source": [
        "import sys\n",
        "input = sys.stdin.readline\n",
        "n = int(input())\n",
        "if n<=2:\n",
        "    print(n)\n",
        "else:\n",
        "    f=[0]*(n+1)\n",
        "    f[1]=1\n",
        "    f[2]=2\n",
        "    for i in range(3,n+1):\n",
        "        f[i] = f[i-1]+f[i-2]\n",
        "    print(f[n]%10_007)\n"
      ]
    },
    {
      "cell_type": "code",
      "source": [
        "f"
      ],
      "metadata": {
        "colab": {
          "base_uri": "https://localhost:8080/"
        },
        "id": "XGtFzRXA4yCs",
        "outputId": "f940f19c-fade-4e2e-ba5a-7751b065d802"
      },
      "execution_count": null,
      "outputs": [
        {
          "output_type": "execute_result",
          "data": {
            "text/plain": [
              "[0, 1, 2, 3, 5, 8, 13, 21, 34, 55]"
            ]
          },
          "metadata": {},
          "execution_count": 6
        }
      ]
    },
    {
      "cell_type": "code",
      "source": [
        ""
      ],
      "metadata": {
        "id": "vT45G8ms4ytf"
      },
      "execution_count": null,
      "outputs": []
    }
  ]
}