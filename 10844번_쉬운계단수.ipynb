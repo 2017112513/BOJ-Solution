{
  "nbformat": 4,
  "nbformat_minor": 0,
  "metadata": {
    "colab": {
      "name": "10844번:쉬운계단수.ipynb",
      "provenance": [],
      "authorship_tag": "ABX9TyNixg2CGuWqrpyoiMPLJVUM",
      "include_colab_link": true
    },
    "kernelspec": {
      "name": "python3",
      "display_name": "Python 3"
    },
    "language_info": {
      "name": "python"
    }
  },
  "cells": [
    {
      "cell_type": "markdown",
      "metadata": {
        "id": "view-in-github",
        "colab_type": "text"
      },
      "source": [
        "<a href=\"https://colab.research.google.com/github/easyseop/BOJ-Solution/blob/main/10844%EB%B2%88_%EC%89%AC%EC%9A%B4%EA%B3%84%EB%8B%A8%EC%88%98.ipynb\" target=\"_parent\"><img src=\"https://colab.research.google.com/assets/colab-badge.svg\" alt=\"Open In Colab\"/></a>"
      ]
    },
    {
      "cell_type": "code",
      "execution_count": null,
      "metadata": {
        "id": "7CDfzzn3s89c"
      },
      "outputs": [],
      "source": [
        "n = int(input())\n",
        "arr = [[0]*10 for _ in range(101)]\n",
        "for i in range(1,10):\n",
        "    arr[1][i] = 1\n",
        "for i in range(2,101):\n",
        "    for j in range(10):\n",
        "        if j==0:\n",
        "            arr[i][j+1]+=arr[i-1][j]\n",
        "        elif j==9:\n",
        "            arr[i][j-1]+=arr[i-1][j]\n",
        "        else:\n",
        "            arr[i][j-1]+=arr[i-1][j]\n",
        "            arr[i][j+1]+=arr[i-1][j]\n",
        "print(sum(arr[n])%1000000000)"
      ]
    },
    {
      "cell_type": "code",
      "source": [
        ""
      ],
      "metadata": {
        "id": "ga1Pgqhl9Fw7"
      },
      "execution_count": null,
      "outputs": []
    }
  ]
}