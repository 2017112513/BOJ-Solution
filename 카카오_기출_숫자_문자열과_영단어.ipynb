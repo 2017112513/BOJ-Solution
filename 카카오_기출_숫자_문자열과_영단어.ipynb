{
  "nbformat": 4,
  "nbformat_minor": 0,
  "metadata": {
    "colab": {
      "name": "카카오 기출:숫자 문자열과 영단어.ipynb",
      "provenance": [],
      "authorship_tag": "ABX9TyNNE9gtyOmdLD1t7QihqG2H",
      "include_colab_link": true
    },
    "kernelspec": {
      "name": "python3",
      "display_name": "Python 3"
    },
    "language_info": {
      "name": "python"
    }
  },
  "cells": [
    {
      "cell_type": "markdown",
      "metadata": {
        "id": "view-in-github",
        "colab_type": "text"
      },
      "source": [
        "<a href=\"https://colab.research.google.com/github/easyseop/BOJ-Solution/blob/main/%EC%B9%B4%EC%B9%B4%EC%98%A4_%EA%B8%B0%EC%B6%9C_%EC%88%AB%EC%9E%90_%EB%AC%B8%EC%9E%90%EC%97%B4%EA%B3%BC_%EC%98%81%EB%8B%A8%EC%96%B4.ipynb\" target=\"_parent\"><img src=\"https://colab.research.google.com/assets/colab-badge.svg\" alt=\"Open In Colab\"/></a>"
      ]
    },
    {
      "cell_type": "code",
      "execution_count": null,
      "metadata": {
        "id": "RK0FLvJSxrSy"
      },
      "outputs": [],
      "source": [
        "\n",
        "2\n",
        "3\n",
        "4\n",
        "5\n",
        "6\n",
        "7\n",
        "8\n",
        "9\n",
        "10\n",
        "11\n",
        "12\n",
        "13\n",
        "14\n",
        "15\n",
        "16\n",
        "17\n",
        "18\n",
        "19\n",
        "20\n",
        "21\n",
        "22\n",
        "23\n",
        "24\n",
        "25\n",
        "26\n",
        "27\n",
        "28\n",
        "29\n",
        "30\n",
        "31\n",
        "32\n",
        "33\n",
        "34\n",
        "35\n",
        "36\n",
        "37\n",
        "def solution(s):\n",
        "\n",
        "    from collections import defaultdict,deque\n",
        "    dic = defaultdict(str)\n",
        "    ans = \"\"\n",
        "    part = \"\"\n",
        "\n",
        "\n",
        "    dic['zero'] = '0'\n",
        "    dic['one'] = '1'\n",
        "    dic['two'] = '2'\n",
        "    dic['three'] = '3'\n",
        "    dic['four'] = '4'\n",
        "    dic['five'] = '5'\n",
        "    dic['six'] = '6'\n",
        "    dic['seven'] = '7'\n",
        "    dic['eight'] = '8'\n",
        "    dic['nine'] = '9'\n",
        "    ans = \"\"\n",
        "\n",
        "\n",
        "    d = deque(list(s))\n",
        "\n",
        "\n",
        "    while d:\n",
        "        x = d.popleft()\n",
        "        if not x.isnumeric():\n",
        "            part+=x\n",
        "            if dic[part]:\n",
        "                ans+=dic[part]\n",
        "                part=\"\"\n",
        "        else:\n",
        "            ans+=x\n",
        "\n",
        "\n",
        "    return int(ans)\n"
      ]
    },
    {
      "cell_type": "code",
      "source": [
        "#다른 사람의 풀이\n",
        "num_dic = {\"zero\":\"0\", \"one\":\"1\", \"two\":\"2\", \"three\":\"3\", \"four\":\"4\", \"five\":\"5\", \"six\":\"6\", \"seven\":\"7\", \"eight\":\"8\", \"nine\":\"9\"}\n",
        "\n",
        "def solution(s):\n",
        "    answer = s\n",
        "    for key, value in num_dic.items():\n",
        "        answer = answer.replace(key, value)\n",
        "    return int(answer)\n"
      ],
      "metadata": {
        "id": "o_MB0t7W7TvV"
      },
      "execution_count": null,
      "outputs": []
    }
  ]
}