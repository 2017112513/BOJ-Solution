{
  "nbformat": 4,
  "nbformat_minor": 0,
  "metadata": {
    "colab": {
      "name": "12865번: 평범한 배낭.ipynb",
      "provenance": [],
      "collapsed_sections": [],
      "authorship_tag": "ABX9TyM3WJoGNORYoEZhBzQUk38q",
      "include_colab_link": true
    },
    "kernelspec": {
      "name": "python3",
      "display_name": "Python 3"
    },
    "language_info": {
      "name": "python"
    }
  },
  "cells": [
    {
      "cell_type": "markdown",
      "metadata": {
        "id": "view-in-github",
        "colab_type": "text"
      },
      "source": [
        "<a href=\"https://colab.research.google.com/github/easyseop/BOJ-Solution/blob/main/12865%EB%B2%88_%ED%8F%89%EB%B2%94%ED%95%9C_%EB%B0%B0%EB%82%AD.ipynb\" target=\"_parent\"><img src=\"https://colab.research.google.com/assets/colab-badge.svg\" alt=\"Open In Colab\"/></a>"
      ]
    },
    {
      "cell_type": "code",
      "execution_count": 40,
      "metadata": {
        "colab": {
          "base_uri": "https://localhost:8080/"
        },
        "id": "108a7b5sZMcQ",
        "outputId": "ba046d7d-8185-446c-aa5a-cd89b3a524ea"
      },
      "outputs": [
        {
          "output_type": "stream",
          "name": "stdout",
          "text": [
            "4 7\n",
            "6 13\n",
            "4 8\n",
            "3 6\n",
            "5 12\n",
            "14\n"
          ]
        }
      ],
      "source": [
        "N,K = map(int,input().split())\n",
        "arr = [[0]*(K+1) for i in range(N+1)]\n",
        "lis = [tuple(map(int,input().split())) for i in range(N)]\n",
        "for i in range(1,N+1): # i는 물건 \n",
        "    for j in range(1,K+1): # j는 무게 \n",
        "        weight =lis[i-1][0]\n",
        "        value = lis[i-1][1]\n",
        "        if j<weight:\n",
        "            arr[i][j] = arr[i-1][j]\n",
        "        else:\n",
        "            arr[i][j] = max(arr[i-1][j],arr[i-1][j-weight]+value)\n",
        "print(arr[N][K])"
      ]
    },
    {
      "cell_type": "code",
      "source": [
        ""
      ],
      "metadata": {
        "id": "GY52Dmfgqwre"
      },
      "execution_count": null,
      "outputs": []
    }
  ]
}