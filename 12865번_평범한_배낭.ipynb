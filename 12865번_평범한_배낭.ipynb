{
  "nbformat": 4,
  "nbformat_minor": 0,
  "metadata": {
    "colab": {
      "name": "12865번: 평범한 배낭.ipynb",
      "provenance": [],
      "authorship_tag": "ABX9TyOHWUPdhCWHG5W4Yaur1skZ",
      "include_colab_link": true
    },
    "kernelspec": {
      "name": "python3",
      "display_name": "Python 3"
    },
    "language_info": {
      "name": "python"
    }
  },
  "cells": [
    {
      "cell_type": "markdown",
      "metadata": {
        "id": "view-in-github",
        "colab_type": "text"
      },
      "source": [
        "<a href=\"https://colab.research.google.com/github/easyseop/BOJ-Programmers/blob/main/12865%EB%B2%88_%ED%8F%89%EB%B2%94%ED%95%9C_%EB%B0%B0%EB%82%AD.ipynb\" target=\"_parent\"><img src=\"https://colab.research.google.com/assets/colab-badge.svg\" alt=\"Open In Colab\"/></a>"
      ]
    },
    {
      "cell_type": "code",
      "execution_count": null,
      "metadata": {
        "id": "VDr45IZDBGjC"
      },
      "outputs": [],
      "source": [
        "n,k = map(int,input().split())\n",
        "from collections import defaultdict\n",
        "dic  = defaultdict(list)\n",
        "for i in range(n):\n",
        "    a,b = map(int,input().split())\n",
        "    dic[a].append(b)\n",
        "\n",
        "arr = [0]*(k+1)\n",
        "dp = [0]*(k+1)\n",
        "for key,value in dic.items():\n",
        "    dic[key] = sorted(value,reverse = True)\n",
        "    print(dp,dic)\n",
        "    dp[key] = dic[key][0]\n",
        "    \n",
        "for i in range(1,k+1):\n",
        "    for j in range(1,i+1):\n",
        "        \n",
        "        a = j\n",
        "        b = i-j\n",
        "        if a==b:\n",
        "          continue\n",
        "        if dp[a] and dp[b]:\n",
        "            dp[i] = max(dp[i],dp[a]+dp[b])"
      ]
    },
    {
      "cell_type": "code",
      "source": [
        "N,M = map(int,input().split())\n",
        "w,v = [0],[0]\n",
        "arr = [[0]*(M+1) for i in range(N+1)]\n",
        "\n",
        "for i in range(1,N+1):\n",
        "    weight,value = map(int,input().split())\n",
        "    w.append(weight)\n",
        "    v.append(value)\n",
        "\n",
        "for i in range(1,N+1):\n",
        "    for j in range(1,M+1):\n",
        "        \n",
        "        if j>=w[i]:\n",
        "            arr[i][j] =  max(arr[i-1][j],v[i]+arr[i-1][j-w[i]])\n",
        "        else:\n",
        "            arr[i][j] = arr[i-1][j]\n",
        "\n",
        "print(arr[N][M])"
      ],
      "metadata": {
        "colab": {
          "base_uri": "https://localhost:8080/"
        },
        "id": "Tl_JrMc4BWfF",
        "outputId": "592687f6-010a-4c9b-fcf2-5588233aa27e"
      },
      "execution_count": null,
      "outputs": [
        {
          "name": "stdout",
          "output_type": "stream",
          "text": [
            "6 13\n",
            "4 8\n",
            "3 6\n",
            "5 12\n"
          ]
        }
      ]
    },
    {
      "cell_type": "code",
      "source": [
        ""
      ],
      "metadata": {
        "id": "zjeU2SwgIwkw"
      },
      "execution_count": null,
      "outputs": []
    }
  ]
}