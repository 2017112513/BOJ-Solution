{
  "nbformat": 4,
  "nbformat_minor": 0,
  "metadata": {
    "colab": {
      "name": "2776번: 암기왕 .ipynb",
      "provenance": [],
      "authorship_tag": "ABX9TyMWQvgBJXi9panJdKGyKNxH",
      "include_colab_link": true
    },
    "kernelspec": {
      "name": "python3",
      "display_name": "Python 3"
    },
    "language_info": {
      "name": "python"
    }
  },
  "cells": [
    {
      "cell_type": "markdown",
      "metadata": {
        "id": "view-in-github",
        "colab_type": "text"
      },
      "source": [
        "<a href=\"https://colab.research.google.com/github/easyseop/BOJ-Solution/blob/main/2776%EB%B2%88_%EC%95%94%EA%B8%B0%EC%99%95_.ipynb\" target=\"_parent\"><img src=\"https://colab.research.google.com/assets/colab-badge.svg\" alt=\"Open In Colab\"/></a>"
      ]
    },
    {
      "cell_type": "code",
      "execution_count": null,
      "metadata": {
        "id": "5aAgy5gX0dyC"
      },
      "outputs": [],
      "source": [
        "for i in range(int(input())):\n",
        "    N = int(input())\n",
        "    arr = sorted(list(map(int,input().split())))\n",
        "    M = int(input())\n",
        "    var = list(map(int,input().split()))\n",
        "\n",
        "    \n",
        "    for j in var:\n",
        "        flag = True\n",
        "        start = 0\n",
        "        end = len(arr)-1\n",
        "        while start<=end:\n",
        "            mid = (start+end)//2\n",
        "        \n",
        "            if j == arr[mid]:\n",
        "                print(1)\n",
        "                flag = False\n",
        "                break\n",
        "            elif j>arr[mid]:\n",
        "                start = mid+1\n",
        "            else:\n",
        "                end = mid-1\n",
        "        if flag:\n",
        "            print(0)"
      ]
    }
  ]
}