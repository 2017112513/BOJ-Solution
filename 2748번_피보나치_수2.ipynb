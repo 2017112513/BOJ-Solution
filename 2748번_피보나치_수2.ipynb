{
  "nbformat": 4,
  "nbformat_minor": 0,
  "metadata": {
    "colab": {
      "name": "2748번: 피보나치 수2.ipynb",
      "provenance": [],
      "authorship_tag": "ABX9TyNa7/RD20hqnb1ZIkWM5hKB",
      "include_colab_link": true
    },
    "kernelspec": {
      "name": "python3",
      "display_name": "Python 3"
    },
    "language_info": {
      "name": "python"
    }
  },
  "cells": [
    {
      "cell_type": "markdown",
      "metadata": {
        "id": "view-in-github",
        "colab_type": "text"
      },
      "source": [
        "<a href=\"https://colab.research.google.com/github/easyseop/BOJ-Solution/blob/main/2748%EB%B2%88_%ED%94%BC%EB%B3%B4%EB%82%98%EC%B9%98_%EC%88%982.ipynb\" target=\"_parent\"><img src=\"https://colab.research.google.com/assets/colab-badge.svg\" alt=\"Open In Colab\"/></a>"
      ]
    },
    {
      "cell_type": "code",
      "execution_count": 10,
      "metadata": {
        "colab": {
          "base_uri": "https://localhost:8080/"
        },
        "id": "tyRbH73eAhBj",
        "outputId": "cb9bc4b3-74f5-433b-821f-8f87fcc5e384"
      },
      "outputs": [
        {
          "output_type": "stream",
          "name": "stdout",
          "text": [
            "10\n",
            "55\n"
          ]
        }
      ],
      "source": [
        "#시간초과\n",
        "def fibo(x):\n",
        "  if x==0:\n",
        "    return x\n",
        "  elif x==1:\n",
        "    return x\n",
        "  elif n>=2:\n",
        "    return fibo(x-1)+fibo(x-2)\n",
        "x= int(input())\n",
        "fibo(x)\n"
      ]
    },
    {
      "cell_type": "code",
      "source": [
        "n = int(input())\n",
        "fibo=[0]*(n+1)\n",
        "fibo[0]=0\n",
        "fibo[1]=1\n",
        "for i in range(2,n+1):\n",
        "  fibo[i]=fibo[i-1]+fibo[i-2]\n",
        "print(fibo[n])"
      ],
      "metadata": {
        "colab": {
          "base_uri": "https://localhost:8080/"
        },
        "id": "7W33DAU_A81P",
        "outputId": "83d8e455-fb9b-4d53-d5e8-d07764afc56e"
      },
      "execution_count": 14,
      "outputs": [
        {
          "output_type": "stream",
          "name": "stdout",
          "text": [
            "17\n",
            "1597\n"
          ]
        }
      ]
    },
    {
      "cell_type": "code",
      "source": [
        ""
      ],
      "metadata": {
        "id": "KzHr06BjB1oZ"
      },
      "execution_count": null,
      "outputs": []
    }
  ]
}