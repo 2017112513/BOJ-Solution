{
  "nbformat": 4,
  "nbformat_minor": 0,
  "metadata": {
    "colab": {
      "name": "17626번: Four Squares.ipynb",
      "provenance": [],
      "authorship_tag": "ABX9TyOcdCTYojnGfRZGZzjFCfYM",
      "include_colab_link": true
    },
    "kernelspec": {
      "name": "python3",
      "display_name": "Python 3"
    },
    "language_info": {
      "name": "python"
    }
  },
  "cells": [
    {
      "cell_type": "markdown",
      "metadata": {
        "id": "view-in-github",
        "colab_type": "text"
      },
      "source": [
        "<a href=\"https://colab.research.google.com/github/easyseop/BOJ-Solution/blob/main/17626%EB%B2%88_Four_Squares.ipynb\" target=\"_parent\"><img src=\"https://colab.research.google.com/assets/colab-badge.svg\" alt=\"Open In Colab\"/></a>"
      ]
    },
    {
      "cell_type": "code",
      "execution_count": 1,
      "metadata": {
        "id": "lOV0oA9TmWVf"
      },
      "outputs": [],
      "source": [
        "from math import sqrt\n",
        "n = int(input())\n",
        "dp = [0 for i in range(1,n+2)]\n",
        "dp[1] = 1\n",
        "dp[2] = 2\n",
        "dp[3] = 3\n",
        "if n>=4:\n",
        "    for  i in range(4,n+1):\n",
        "        if sqrt(i)==int(sqrt(i)):\n",
        "            dp[i]=1\n",
        "        else:\n",
        "            dp[i]=9999\n",
        "    for i in range(4,n+1):\n",
        "        for j in range(1,int(sqrt(i))+1):\n",
        "            dp[i]=min(dp[i],dp[j*j]+dp[i-j*j])\n",
        "print(dp[n])"
      ]
    },
    {
      "cell_type": "code",
      "source": [
        ""
      ],
      "metadata": {
        "id": "w0EJI7chm6I2"
      },
      "execution_count": 20,
      "outputs": []
    },
    {
      "cell_type": "code",
      "source": [
        ""
      ],
      "metadata": {
        "colab": {
          "base_uri": "https://localhost:8080/"
        },
        "id": "5Cbv0boPnC77",
        "outputId": "a209a320-0a7e-4cf4-d2ec-44a1012bd79a"
      },
      "execution_count": 53,
      "outputs": [
        {
          "output_type": "execute_result",
          "data": {
            "text/plain": [
              "2"
            ]
          },
          "metadata": {},
          "execution_count": 53
        }
      ]
    },
    {
      "cell_type": "code",
      "source": [
        ""
      ],
      "metadata": {
        "id": "zmCTC8JzoRVA"
      },
      "execution_count": 54,
      "outputs": []
    },
    {
      "cell_type": "code",
      "source": [
        ""
      ],
      "metadata": {
        "colab": {
          "base_uri": "https://localhost:8080/"
        },
        "id": "-Yb3PhYqtYfu",
        "outputId": "e753b710-0242-48c1-fe9c-5b200632c897"
      },
      "execution_count": 58,
      "outputs": [
        {
          "output_type": "execute_result",
          "data": {
            "text/plain": [
              "314"
            ]
          },
          "metadata": {},
          "execution_count": 58
        }
      ]
    },
    {
      "cell_type": "code",
      "source": [
        "314-16**2"
      ],
      "metadata": {
        "colab": {
          "base_uri": "https://localhost:8080/"
        },
        "id": "Uwq2dQK4v3vi",
        "outputId": "115a5209-0067-4a53-ecdc-f98cdea46aeb"
      },
      "execution_count": 62,
      "outputs": [
        {
          "output_type": "execute_result",
          "data": {
            "text/plain": [
              "58"
            ]
          },
          "metadata": {},
          "execution_count": 62
        }
      ]
    },
    {
      "cell_type": "code",
      "source": [
        "49  9"
      ],
      "metadata": {
        "id": "0X9M1ggY0iNA"
      },
      "execution_count": null,
      "outputs": []
    }
  ]
}