{
  "nbformat": 4,
  "nbformat_minor": 0,
  "metadata": {
    "colab": {
      "name": "1로 만들기.ipynb",
      "provenance": [],
      "collapsed_sections": []
    },
    "kernelspec": {
      "name": "python3",
      "display_name": "Python 3"
    },
    "language_info": {
      "name": "python"
    }
  },
  "cells": [
    {
      "cell_type": "code",
      "metadata": {
        "colab": {
          "base_uri": "https://localhost:8080/"
        },
        "id": "8mMGzYk3D-C0",
        "outputId": "f0a39cbe-1f80-4e62-8640-cbd9fd679b33"
      },
      "source": [
        "n = int(input())\n",
        "d=[0]*(10**6+1)\n",
        "for i in range(2,n+1):\n",
        "    d[i]=d[i-1]+1\n",
        "    if i%3==0:\n",
        "        d[i]=min(d[i],d[i//3]+1)\n",
        "    if i%2==0:\n",
        "        d[i]=min(d[i],d[i//2]+1)  \n",
        "print(d[n])"
      ],
      "execution_count": null,
      "outputs": [
        {
          "output_type": "stream",
          "name": "stdout",
          "text": [
            "9\n",
            "2\n"
          ]
        }
      ]
    },
    {
      "cell_type": "code",
      "metadata": {
        "id": "lUzJL3i9D-gZ",
        "colab": {
          "base_uri": "https://localhost:8080/"
        },
        "outputId": "34954c30-0649-4c25-e1d4-9e6c4763a445"
      },
      "source": [
        "9d[n]"
      ],
      "execution_count": null,
      "outputs": [
        {
          "output_type": "execute_result",
          "data": {
            "text/plain": [
              "2"
            ]
          },
          "metadata": {},
          "execution_count": 36
        }
      ]
    },
    {
      "cell_type": "code",
      "metadata": {
        "id": "9cOrfiFPKhmn"
      },
      "source": [
        ""
      ],
      "execution_count": null,
      "outputs": []
    }
  ]
}