{
  "nbformat": 4,
  "nbformat_minor": 0,
  "metadata": {
    "colab": {
      "name": "1261번 : 알고스팟.ipynb",
      "provenance": [],
      "authorship_tag": "ABX9TyO0qR/ExKca4rZTimiIzLKS",
      "include_colab_link": true
    },
    "kernelspec": {
      "name": "python3",
      "display_name": "Python 3"
    },
    "language_info": {
      "name": "python"
    }
  },
  "cells": [
    {
      "cell_type": "markdown",
      "metadata": {
        "id": "view-in-github",
        "colab_type": "text"
      },
      "source": [
        "<a href=\"https://colab.research.google.com/github/easyseop/BOJ-Solution/blob/main/1261%EB%B2%88_%EC%95%8C%EA%B3%A0%EC%8A%A4%ED%8C%9F.ipynb\" target=\"_parent\"><img src=\"https://colab.research.google.com/assets/colab-badge.svg\" alt=\"Open In Colab\"/></a>"
      ]
    },
    {
      "cell_type": "code",
      "execution_count": 13,
      "metadata": {
        "colab": {
          "base_uri": "https://localhost:8080/"
        },
        "id": "-QkQsZg_knxB",
        "outputId": "66fb563a-fdb3-42f6-dd3a-861439727d77"
      },
      "outputs": [
        {
          "output_type": "stream",
          "name": "stdout",
          "text": [
            "4 2\n",
            "0001\n",
            "1000\n",
            "1 3\n",
            "0\n"
          ]
        }
      ],
      "source": [
        "n,m = map(int,input().split())\n",
        "arr = [list(input()) for i in range(m)]\n",
        "start_x, start_y =0,0\n",
        "target_x,target_y = m-1,n-1\n",
        "visited = [[0]*n for i in range(m)]\n",
        "from heapq import heappush,heappop\n",
        "h = []\n",
        "heappush(h,(0,0,0)) #cnt,start point\n",
        "dx=[1,-1,0,0]\n",
        "dy=[0,0,1,-1]\n",
        "ans = float('inf')\n",
        "while h:\n",
        "\n",
        "    cnt,x,y = heappop(h)  \n",
        "    if x==target_x and y==target_y:\n",
        "        # print(x,y)\n",
        "        ans=cnt\n",
        "        break\n",
        "    for i in range(4):\n",
        "        a = x+dx[i]\n",
        "        b = y+dy[i]\n",
        "   \n",
        "        if (0<=a<m and 0<=b<n) and visited[a][b]==0:\n",
        "            visited[a][b]=1\n",
        "            if arr[a][b]=='1':\n",
        "        \n",
        "                heappush(h,(cnt+1,a,b))\n",
        "            else:\n",
        "                heappush(h,(cnt,a,b))\n",
        "print(ans)"
      ]
    },
    {
      "cell_type": "code",
      "source": [
        ""
      ],
      "metadata": {
        "id": "gtagWGkdlON-",
        "colab": {
          "base_uri": "https://localhost:8080/"
        },
        "outputId": "54912186-6dec-4c3f-dfbd-36f035d0110b"
      },
      "execution_count": 5,
      "outputs": [
        {
          "output_type": "execute_result",
          "data": {
            "text/plain": [
              "[[1, 1, 0, 0], [1, 1, 0, 0]]"
            ]
          },
          "metadata": {},
          "execution_count": 5
        }
      ]
    },
    {
      "cell_type": "code",
      "source": [
        ""
      ],
      "metadata": {
        "id": "iTdNLRx3tTm5"
      },
      "execution_count": null,
      "outputs": []
    }
  ]
}