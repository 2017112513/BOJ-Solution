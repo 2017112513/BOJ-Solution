{
  "nbformat": 4,
  "nbformat_minor": 0,
  "metadata": {
    "colab": {
      "name": "백준 10159 저울.ipynb",
      "provenance": [],
      "authorship_tag": "ABX9TyOgdTyuOUFx0ab0J6+r+Fvq",
      "include_colab_link": true
    },
    "kernelspec": {
      "name": "python3",
      "display_name": "Python 3"
    },
    "language_info": {
      "name": "python"
    }
  },
  "cells": [
    {
      "cell_type": "markdown",
      "metadata": {
        "id": "view-in-github",
        "colab_type": "text"
      },
      "source": [
        "<a href=\"https://colab.research.google.com/github/easyseop/BOJ-Solution/blob/main/%EB%B0%B1%EC%A4%80_10159_%EC%A0%80%EC%9A%B8.ipynb\" target=\"_parent\"><img src=\"https://colab.research.google.com/assets/colab-badge.svg\" alt=\"Open In Colab\"/></a>"
      ]
    },
    {
      "cell_type": "code",
      "metadata": {
        "colab": {
          "base_uri": "https://localhost:8080/"
        },
        "id": "5bWCycInNqYz",
        "outputId": "dde53240-d9e7-4839-a917-da3dd1a1f951"
      },
      "source": [
        "n = int(input())\n",
        "m = int(input())\n",
        "\n",
        "lis = [[0]*(n+1) for i in range(n+1)]\n",
        "\n",
        "for _ in range(m):\n",
        "  a,b = map(int,input().split())\n",
        "  lis[a][b]=1\n",
        "\n",
        "for k in range(1,n+1):\n",
        "  for i in range(1,n+1):\n",
        "    for j in range(1,n+1):\n",
        "      if lis[i][k]==1 and lis[k][j]==1:\n",
        "        lis[i][j]=1\n",
        "\n",
        "ans=[]\n",
        "for i in range(1,n+1):\n",
        "  cnt=0\n",
        "  for j in range(1,n+1):\n",
        "    if i==j:\n",
        "      continue\n",
        "    if lis[i][j]==0 and lis[j][i]==0:\n",
        "      cnt+=1\n",
        "  ans.append(cnt)\n",
        "            \n",
        "for i in ans:\n",
        "  print(i)"
      ],
      "execution_count": 1,
      "outputs": [
        {
          "name": "stdout",
          "output_type": "stream",
          "text": [
            "6\n",
            "5\n"
          ]
        }
      ]
    },
    {
      "cell_type": "code",
      "metadata": {
        "id": "kCOTPVa9OpZ_"
      },
      "source": [
        "# 앞에 물건이 뒤 물건보다 무겁다.\n",
        "lis = [[0]*(n+1) for i in range(n+1)]\n",
        "\n",
        "for _ in range(m):\n",
        "  a,b = map(int,input().split())\n",
        "  lis[a][b]=1\n",
        "\n",
        "for k in range(1,n+1):\n",
        "  for i in range(1,n+1):\n",
        "    for j in range(1,n+1):\n",
        "      if lis[i][k]==1 and lis[k][j]==1:\n",
        "        lis[i][j]=1\n",
        "\n",
        "ans=[]\n",
        "for i in range(1,n+1):\n",
        "  cnt=0\n",
        "  for j in range(1,n+1):\n",
        "    if i==j:\n",
        "      continue\n",
        "    if lis[i][j]==0 and lis[j][i]==0:\n",
        "      cnt+=1\n",
        "  ans.append(cnt)\n",
        "            \n",
        "for i in ans:\n",
        "  print(i)"
      ],
      "execution_count": 39,
      "outputs": []
    },
    {
      "cell_type": "code",
      "metadata": {
        "colab": {
          "base_uri": "https://localhost:8080/"
        },
        "id": "r5O3Yx3EO00S",
        "outputId": "3fcac821-3ecf-4bdd-cb9e-b7e482229879"
      },
      "source": [
        "for _ in range(m):\n",
        "  a,b = map(int,input().split())\n",
        "  lis[a][b]=1\n",
        "\n",
        "for k in range(1,n+1):\n",
        "  for i in range(1,n+1):\n",
        "    for j in range(1,n+1):\n",
        "      if lis[i][k]==1 and lis[k][j]==1:\n",
        "        lis[i][j]=1\n",
        "\n",
        "ans=[]\n",
        "for i in range(1,n+1):\n",
        "  cnt=0\n",
        "  for j in range(1,n+1):\n",
        "    if i==j:\n",
        "      continue\n",
        "    if lis[i][j]==0 and lis[j][i]==0:\n",
        "      cnt+=1\n",
        "  ans.append(cnt)\n",
        "            \n",
        "for i in ans:\n",
        "  print(i)"
      ],
      "execution_count": 46,
      "outputs": [
        {
          "name": "stdout",
          "output_type": "stream",
          "text": [
            "1 2\n",
            "2 3\n",
            "3 4\n",
            "5 4\n",
            "6 5\n"
          ]
        }
      ]
    },
    {
      "cell_type": "code",
      "metadata": {
        "id": "oxqHGjw0PMO8"
      },
      "source": [
        "for k in range(1,n+1):\n",
        "  for i in range(1,n+1):\n",
        "    for j in range(1,n+1):\n",
        "      if lis[i][k]==1 and lis[k][j]==1:\n",
        "        lis[i][j]=1\n",
        "\n",
        "ans=[]\n",
        "for i in range(1,n+1):\n",
        "  cnt=0\n",
        "  for j in range(1,n+1):\n",
        "    if i==j:\n",
        "      continue\n",
        "    if lis[i][j]==0 and lis[j][i]==0:\n",
        "      cnt+=1\n",
        "  ans.append(cnt)\n",
        "            \n",
        "for i in ans:\n",
        "  print(i)"
      ],
      "execution_count": 47,
      "outputs": []
    },
    {
      "cell_type": "code",
      "metadata": {
        "colab": {
          "base_uri": "https://localhost:8080/"
        },
        "id": "ueTzAtIEPPxe",
        "outputId": "f71738f6-1224-4f8d-b862-1eb27f7c9711"
      },
      "source": [
        "ans=[]\n",
        "for i in range(1,n+1):\n",
        "  cnt=0\n",
        "  for j in range(1,n+1):\n",
        "    if i==j:\n",
        "      continue\n",
        "    if lis[i][j]==0 and lis[j][i]==0:\n",
        "      cnt+=1\n",
        "  ans.append(cnt)\n",
        "            \n",
        "for i in ans:\n",
        "  print(i)"
      ],
      "execution_count": 63,
      "outputs": [
        {
          "output_type": "stream",
          "name": "stdout",
          "text": [
            "2\n",
            "2\n",
            "2\n",
            "0\n",
            "3\n",
            "3\n"
          ]
        }
      ]
    },
    {
      "cell_type": "code",
      "metadata": {
        "colab": {
          "base_uri": "https://localhost:8080/"
        },
        "id": "MZnWtUf_PQHS",
        "outputId": "7303d1e1-d2cb-4228-8659-d0a2d79cd11b"
      },
      "source": [
        "ans"
      ],
      "execution_count": 61,
      "outputs": [
        {
          "output_type": "execute_result",
          "data": {
            "text/plain": [
              "[2, 2, 2, 0, 3, 3]"
            ]
          },
          "metadata": {},
          "execution_count": 61
        }
      ]
    },
    {
      "cell_type": "code",
      "metadata": {
        "colab": {
          "base_uri": "https://localhost:8080/"
        },
        "id": "3RQ3pXLuQV-7",
        "outputId": "d48ee9f2-acc5-4b56-9aa0-26701cedb5aa"
      },
      "source": [
        "==="
      ],
      "execution_count": 59,
      "outputs": [
        {
          "output_type": "execute_result",
          "data": {
            "text/plain": [
              "[[0, 0, 0, 0, 0, 0, 0],\n",
              " [0, 0, 1, 1, 1, 0, 0],\n",
              " [0, 0, 0, 1, 1, 0, 0],\n",
              " [0, 0, 0, 0, 1, 0, 0],\n",
              " [0, 0, 0, 0, 0, 0, 0],\n",
              " [0, 0, 0, 0, 1, 0, 0],\n",
              " [0, 0, 0, 0, 1, 1, 0]]"
            ]
          },
          "metadata": {},
          "execution_count": 59
        }
      ]
    },
    {
      "cell_type": "code",
      "metadata": {
        "colab": {
          "base_uri": "https://localhost:8080/"
        },
        "id": "cy4V8pD3Qa8d",
        "outputId": "1ad68148-8a79-4f53-f18f-675c9eeda579"
      },
      "source": [
        "bool(a)"
      ],
      "execution_count": 24,
      "outputs": [
        {
          "output_type": "execute_result",
          "data": {
            "text/plain": [
              "False"
            ]
          },
          "metadata": {},
          "execution_count": 24
        }
      ]
    },
    {
      "cell_type": "code",
      "metadata": {
        "id": "wkXKkDUnQccG"
      },
      "source": [
        ""
      ],
      "execution_count": null,
      "outputs": []
    }
  ]
}