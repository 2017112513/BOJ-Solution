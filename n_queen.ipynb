{
  "nbformat": 4,
  "nbformat_minor": 0,
  "metadata": {
    "colab": {
      "name": "n-queen.ipynb",
      "provenance": [],
      "authorship_tag": "ABX9TyP42zo+xP/0J9fUtdrFajIO",
      "include_colab_link": true
    },
    "kernelspec": {
      "name": "python3",
      "display_name": "Python 3"
    },
    "language_info": {
      "name": "python"
    }
  },
  "cells": [
    {
      "cell_type": "markdown",
      "metadata": {
        "id": "view-in-github",
        "colab_type": "text"
      },
      "source": [
        "<a href=\"https://colab.research.google.com/github/easyseop/BOJ-Solution/blob/main/n_queen.ipynb\" target=\"_parent\"><img src=\"https://colab.research.google.com/assets/colab-badge.svg\" alt=\"Open In Colab\"/></a>"
      ]
    },
    {
      "cell_type": "code",
      "source": [
        "\n",
        "def one(a,b,arr,flag):\n",
        "    for i in range(n):\n",
        "          arr[a][i]=1\n",
        "          arr[i][b]=1 \n",
        "          if [a,i] in s or [i,b] in s:\n",
        "              flag=True\n",
        "              break\n",
        "    return flag\n",
        "\n",
        "def two(a,b,arr,flag):\n",
        "    if not flag:\n",
        "        if a>=b:\n",
        "            j=0\n",
        "            for i in range(a-b,n):\n",
        "                arr[i][j]=1\n",
        "                j+=1\n",
        "                if [i,j] in s:\n",
        "                    flag=True\n",
        "                    break\n",
        "        else:\n",
        "            j=0\n",
        "            for i in range(b-a,n):\n",
        "                arr[j][i]=1 \n",
        "                j+=1\n",
        "                if [i,j] in s:\n",
        "                    flag=True\n",
        "                    break\n",
        "    return flag\n",
        "\n",
        "def three(a,b,arr,flag):\n",
        "    if not flag:\n",
        "        j=b\n",
        "        for i in range(a,n):\n",
        "            arr[i][j]=1\n",
        "            if [i,j] in s:\n",
        "                flag=True\n",
        "                break\n",
        "            if i ==n-1 or j==0:\n",
        "                break\n",
        "            else:\n",
        "                j-=1\n",
        "    if not flag:  \n",
        "        j=b\n",
        "        for i in range(a,-1,-1):\n",
        "            arr[i][j]=1\n",
        "            if [i,j] in s:\n",
        "                flag=True\n",
        "                break\n",
        "            if i ==0 or j==n-1:\n",
        "                break\n",
        "            else:\n",
        "                j+=1\n",
        "\n",
        "    return flag"
      ],
      "metadata": {
        "id": "8nowrZ8E6hLT"
      },
      "execution_count": 144,
      "outputs": []
    },
    {
      "cell_type": "code",
      "source": [
        "def bfs(a,b,arr):\n",
        "    global cnt\n",
        "    flag=False\n",
        "    one(a,b,arr,flag)\n",
        "    if not flag:\n",
        "        two(a,b,arr,flag)\n",
        "    if not flag:\n",
        "        three(a,b,arr,flag)\n",
        "    if flag:\n",
        "        return \n",
        "    else:\n",
        "        s.append([a,b])\n",
        "        print(a,b,arr)\n",
        "        if len(s)==n:\n",
        "            a = sorted(s)\n",
        "            if a not in ans:\n",
        "                ans.append(a)\n",
        "                cnt+=1\n",
        "                print(a)\n",
        "              \n",
        "\n",
        "            return\n",
        "        else:\n",
        "            for i in range(n):\n",
        "                for j in range(n):\n",
        "                    if arr[i][j]==0:\n",
        "                        arr[i][j]=1\n",
        "                        bfs(i,j,arr)\n",
        "        "
      ],
      "metadata": {
        "id": "V1iabHSJ6tJv"
      },
      "execution_count": 160,
      "outputs": []
    },
    {
      "cell_type": "code",
      "source": [
        "cnt=0\n",
        "ans=[]\n",
        "for i in range(n):\n",
        "    for j in range(n):\n",
        "        s=[]\n",
        "        lis = [[0]*n for k in range(n)]\n",
        "        lis[i][j]=1\n",
        "        bfs(i,j,lis)"
      ],
      "metadata": {
        "id": "-SDqJJNuTiDz",
        "colab": {
          "base_uri": "https://localhost:8080/"
        },
        "outputId": "0c16767b-ea18-46fb-d388-b012d545f9ad"
      },
      "execution_count": 162,
      "outputs": [
        {
          "output_type": "stream",
          "name": "stdout",
          "text": [
            "0 0 [[1, 1, 1, 1], [1, 1, 0, 0], [1, 0, 1, 0], [1, 0, 0, 1]]\n",
            "1 2 [[1, 1, 1, 1], [1, 1, 1, 1], [1, 1, 1, 1], [1, 0, 1, 1]]\n",
            "3 1 [[1, 1, 1, 1], [1, 1, 1, 1], [1, 1, 1, 1], [1, 1, 1, 1]]\n",
            "0 1 [[1, 1, 1, 1], [1, 1, 1, 0], [0, 1, 0, 1], [0, 1, 0, 0]]\n",
            "1 3 [[1, 1, 1, 1], [1, 1, 1, 1], [0, 1, 1, 1], [0, 1, 0, 1]]\n",
            "2 0 [[1, 1, 1, 1], [1, 1, 1, 1], [1, 1, 1, 1], [1, 1, 0, 1]]\n",
            "3 2 [[1, 1, 1, 1], [1, 1, 1, 1], [1, 1, 1, 1], [1, 1, 1, 1]]\n",
            "[[0, 1], [1, 3], [2, 0], [3, 2]]\n",
            "0 2 [[1, 1, 1, 1], [0, 1, 1, 1], [1, 0, 1, 0], [0, 0, 1, 0]]\n",
            "1 0 [[1, 1, 1, 1], [1, 1, 1, 1], [1, 1, 1, 0], [1, 0, 1, 0]]\n",
            "2 3 [[1, 1, 1, 1], [1, 1, 1, 1], [1, 1, 1, 1], [1, 0, 1, 1]]\n",
            "3 1 [[1, 1, 1, 1], [1, 1, 1, 1], [1, 1, 1, 1], [1, 1, 1, 1]]\n",
            "[[0, 2], [1, 0], [2, 3], [3, 1]]\n",
            "0 3 [[1, 1, 1, 1], [0, 0, 1, 1], [0, 1, 0, 1], [1, 0, 0, 1]]\n",
            "1 0 [[1, 1, 1, 1], [1, 1, 1, 1], [1, 1, 0, 1], [1, 0, 1, 1]]\n",
            "2 2 [[1, 1, 1, 1], [1, 1, 1, 1], [1, 1, 1, 1], [1, 1, 1, 1]]\n",
            "1 0 [[1, 1, 0, 0], [1, 1, 1, 1], [1, 1, 0, 0], [1, 0, 1, 0]]\n",
            "0 2 [[1, 1, 1, 1], [1, 1, 1, 1], [1, 1, 1, 0], [1, 0, 1, 0]]\n",
            "2 3 [[1, 1, 1, 1], [1, 1, 1, 1], [1, 1, 1, 1], [1, 0, 1, 1]]\n",
            "3 1 [[1, 1, 1, 1], [1, 1, 1, 1], [1, 1, 1, 1], [1, 1, 1, 1]]\n",
            "1 1 [[1, 1, 1, 0], [1, 1, 1, 1], [1, 1, 1, 0], [0, 1, 0, 1]]\n",
            "0 3 [[1, 1, 1, 1], [1, 1, 1, 1], [1, 1, 1, 1], [1, 1, 0, 1]]\n",
            "3 2 [[1, 1, 1, 1], [1, 1, 1, 1], [1, 1, 1, 1], [1, 1, 1, 1]]\n",
            "1 2 [[0, 1, 1, 1], [1, 1, 1, 1], [0, 1, 1, 1], [1, 0, 1, 0]]\n",
            "0 0 [[1, 1, 1, 1], [1, 1, 1, 1], [1, 1, 1, 1], [1, 0, 1, 0]]\n",
            "3 1 [[1, 1, 1, 1], [1, 1, 1, 1], [1, 1, 1, 1], [1, 1, 1, 1]]\n",
            "1 3 [[0, 0, 1, 1], [1, 1, 1, 1], [0, 0, 1, 1], [0, 1, 0, 1]]\n",
            "0 0 [[1, 1, 1, 1], [1, 1, 1, 1], [1, 0, 1, 1], [1, 1, 0, 1]]\n",
            "2 1 [[1, 1, 1, 1], [1, 1, 1, 1], [1, 1, 1, 1], [1, 1, 1, 1]]\n",
            "2 0 [[1, 0, 1, 0], [1, 1, 0, 0], [1, 1, 1, 1], [1, 1, 0, 0]]\n",
            "0 1 [[1, 1, 1, 1], [1, 1, 1, 0], [1, 1, 1, 1], [1, 1, 0, 0]]\n",
            "1 3 [[1, 1, 1, 1], [1, 1, 1, 1], [1, 1, 1, 1], [1, 1, 0, 1]]\n",
            "3 2 [[1, 1, 1, 1], [1, 1, 1, 1], [1, 1, 1, 1], [1, 1, 1, 1]]\n",
            "2 1 [[0, 1, 0, 1], [1, 1, 1, 0], [1, 1, 1, 1], [1, 1, 1, 0]]\n",
            "0 0 [[1, 1, 1, 1], [1, 1, 1, 0], [1, 1, 1, 1], [1, 1, 1, 1]]\n",
            "1 3 [[1, 1, 1, 1], [1, 1, 1, 1], [1, 1, 1, 1], [1, 1, 1, 1]]\n",
            "2 2 [[1, 0, 1, 0], [0, 1, 1, 1], [1, 1, 1, 1], [0, 1, 1, 1]]\n",
            "0 1 [[1, 1, 1, 1], [1, 1, 1, 1], [1, 1, 1, 1], [0, 1, 1, 1]]\n",
            "3 0 [[1, 1, 1, 1], [1, 1, 1, 1], [1, 1, 1, 1], [1, 1, 1, 1]]\n",
            "2 3 [[0, 1, 0, 1], [0, 0, 1, 1], [1, 1, 1, 1], [0, 0, 1, 1]]\n",
            "0 0 [[1, 1, 1, 1], [1, 1, 1, 1], [1, 1, 1, 1], [1, 0, 1, 1]]\n",
            "3 1 [[1, 1, 1, 1], [1, 1, 1, 1], [1, 1, 1, 1], [1, 1, 1, 1]]\n",
            "3 0 [[1, 0, 0, 1], [1, 0, 1, 0], [1, 1, 0, 0], [1, 1, 1, 1]]\n",
            "0 1 [[1, 1, 1, 1], [1, 1, 1, 0], [1, 1, 0, 1], [1, 1, 1, 1]]\n",
            "1 3 [[1, 1, 1, 1], [1, 1, 1, 1], [1, 1, 1, 1], [1, 1, 1, 1]]\n",
            "3 1 [[0, 1, 0, 0], [0, 1, 0, 1], [1, 1, 1, 0], [1, 1, 1, 1]]\n",
            "0 0 [[1, 1, 1, 1], [1, 1, 0, 1], [1, 1, 1, 0], [1, 1, 1, 1]]\n",
            "1 2 [[1, 1, 1, 1], [1, 1, 1, 1], [1, 1, 1, 1], [1, 1, 1, 1]]\n",
            "3 2 [[0, 0, 1, 0], [1, 0, 1, 0], [0, 1, 1, 1], [1, 1, 1, 1]]\n",
            "0 0 [[1, 1, 1, 1], [1, 1, 1, 0], [1, 1, 1, 1], [1, 1, 1, 1]]\n",
            "1 3 [[1, 1, 1, 1], [1, 1, 1, 1], [1, 1, 1, 1], [1, 1, 1, 1]]\n",
            "3 3 [[1, 0, 0, 1], [0, 1, 0, 1], [0, 0, 1, 1], [1, 1, 1, 1]]\n",
            "0 1 [[1, 1, 1, 1], [1, 1, 1, 1], [0, 1, 1, 1], [1, 1, 1, 1]]\n",
            "2 0 [[1, 1, 1, 1], [1, 1, 1, 1], [1, 1, 1, 1], [1, 1, 1, 1]]\n"
          ]
        }
      ]
    },
    {
      "cell_type": "code",
      "source": [
        " lis"
      ],
      "metadata": {
        "id": "zMcbHyGeTzVA",
        "colab": {
          "base_uri": "https://localhost:8080/"
        },
        "outputId": "5c9772b9-e0a1-409a-e8aa-24b5486f2b1f"
      },
      "execution_count": 163,
      "outputs": [
        {
          "output_type": "execute_result",
          "data": {
            "text/plain": [
              "[[1, 1, 1, 1], [1, 1, 1, 1], [1, 1, 1, 1], [1, 1, 1, 1]]"
            ]
          },
          "metadata": {},
          "execution_count": 163
        }
      ]
    },
    {
      "cell_type": "code",
      "source": [
        "lis = [0,0,0,0,0,0,0,0,0,0,0]"
      ],
      "metadata": {
        "id": "MscQwpNaT2qR"
      },
      "execution_count": 172,
      "outputs": []
    },
    {
      "cell_type": "code",
      "source": [
        "f2(lis)\n"
      ],
      "metadata": {
        "id": "5J6j4HcF6DSG"
      },
      "execution_count": 169,
      "outputs": []
    },
    {
      "cell_type": "code",
      "source": [
        "f()"
      ],
      "metadata": {
        "id": "mXx0AX5mECLZ"
      },
      "execution_count": 174,
      "outputs": []
    },
    {
      "cell_type": "code",
      "source": [
        "lis"
      ],
      "metadata": {
        "colab": {
          "base_uri": "https://localhost:8080/"
        },
        "id": "VayRBqldEDYA",
        "outputId": "372a362b-85aa-4cac-ad54-b0a70bcfee35"
      },
      "execution_count": 175,
      "outputs": [
        {
          "output_type": "execute_result",
          "data": {
            "text/plain": [
              "[1, 1, 1, 1, 1, 1, 1, 1, 0, 0, 0]"
            ]
          },
          "metadata": {},
          "execution_count": 175
        }
      ]
    },
    {
      "cell_type": "code",
      "source": [
        ""
      ],
      "metadata": {
        "id": "BzJ1DSazf7Pq"
      },
      "execution_count": null,
      "outputs": []
    }
  ]
}