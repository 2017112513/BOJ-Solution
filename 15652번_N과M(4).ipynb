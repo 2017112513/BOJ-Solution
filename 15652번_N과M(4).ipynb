{
  "nbformat": 4,
  "nbformat_minor": 0,
  "metadata": {
    "colab": {
      "name": "15652번: N과M(4).ipynb",
      "provenance": [],
      "authorship_tag": "ABX9TyNXwM6tI3vPajxtufFRxnL/",
      "include_colab_link": true
    },
    "kernelspec": {
      "name": "python3",
      "display_name": "Python 3"
    },
    "language_info": {
      "name": "python"
    }
  },
  "cells": [
    {
      "cell_type": "markdown",
      "metadata": {
        "id": "view-in-github",
        "colab_type": "text"
      },
      "source": [
        "<a href=\"https://colab.research.google.com/github/easyseop/BOJ-Solution/blob/main/15652%EB%B2%88_N%EA%B3%BCM(4).ipynb\" target=\"_parent\"><img src=\"https://colab.research.google.com/assets/colab-badge.svg\" alt=\"Open In Colab\"/></a>"
      ]
    },
    {
      "cell_type": "code",
      "execution_count": 8,
      "metadata": {
        "colab": {
          "base_uri": "https://localhost:8080/"
        },
        "id": "zrT1n9fTiUD0",
        "outputId": "65d40daa-1550-4214-e976-c63f756e6ab8"
      },
      "outputs": [
        {
          "name": "stdout",
          "output_type": "stream",
          "text": [
            "4 2\n"
          ]
        }
      ],
      "source": [
        "n,m = map(int,input().split())\n",
        "ans=[]\n",
        "def dfs(x):\n",
        "    if len(ans)==m:\n",
        "        print(*ans)\n",
        "        return\n",
        "    else:\n",
        "        for i in range(x,n+1):\n",
        "            ans.append(i)\n",
        "            dfs(i)\n",
        "            ans.pop()"
      ]
    },
    {
      "cell_type": "code",
      "source": [
        "dfs(1)"
      ],
      "metadata": {
        "colab": {
          "base_uri": "https://localhost:8080/"
        },
        "id": "M6jhQvm3kDGk",
        "outputId": "4da17144-7ae7-4daf-a9d5-73635c539852"
      },
      "execution_count": 10,
      "outputs": [
        {
          "output_type": "stream",
          "name": "stdout",
          "text": [
            "1 1\n",
            "1 2\n",
            "1 3\n",
            "1 4\n",
            "2 2\n",
            "2 3\n",
            "2 4\n",
            "3 3\n",
            "3 4\n",
            "4 4\n"
          ]
        }
      ]
    },
    {
      "cell_type": "code",
      "source": [
        ""
      ],
      "metadata": {
        "id": "ORskOkwvlC_c"
      },
      "execution_count": null,
      "outputs": []
    },
    {
      "cell_type": "code",
      "source": [
        ""
      ],
      "metadata": {
        "id": "sM2g-imFkDpQ"
      },
      "execution_count": null,
      "outputs": []
    }
  ]
}