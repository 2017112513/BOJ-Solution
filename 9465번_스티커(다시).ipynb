{
  "nbformat": 4,
  "nbformat_minor": 0,
  "metadata": {
    "colab": {
      "name": "9465번: 스티커(다시).ipynb",
      "provenance": [],
      "authorship_tag": "ABX9TyOwswDTKzESTRAT8s+Vf7gl",
      "include_colab_link": true
    },
    "kernelspec": {
      "name": "python3",
      "display_name": "Python 3"
    },
    "language_info": {
      "name": "python"
    }
  },
  "cells": [
    {
      "cell_type": "markdown",
      "metadata": {
        "id": "view-in-github",
        "colab_type": "text"
      },
      "source": [
        "<a href=\"https://colab.research.google.com/github/easyseop/BOJ-Solution/blob/main/9465%EB%B2%88_%EC%8A%A4%ED%8B%B0%EC%BB%A4(%EB%8B%A4%EC%8B%9C).ipynb\" target=\"_parent\"><img src=\"https://colab.research.google.com/assets/colab-badge.svg\" alt=\"Open In Colab\"/></a>"
      ]
    },
    {
      "cell_type": "code",
      "execution_count": 13,
      "metadata": {
        "colab": {
          "base_uri": "https://localhost:8080/"
        },
        "id": "1eV_5UHHgWkP",
        "outputId": "dc600a1d-0791-4e8e-bac3-7551f6123961"
      },
      "outputs": [
        {
          "name": "stdout",
          "output_type": "stream",
          "text": [
            "7\n"
          ]
        }
      ],
      "source": [
        "for i in range(int(input())):\n",
        "    n = int(input())\n",
        "    arr= [list(map(int,input().split())) for i in range(2)]\n",
        "    dp = [[0]*n for i in range(2)]\n",
        "\n",
        "    if n==1:\n",
        "        print(max(arr[0][0],arr[1][0]))\n",
        "    elif n==2:\n",
        "        dp[0][0] = arr[0][0]\n",
        "        dp[1][0] = arr[1][0]\n",
        "        dp[0][1] = arr[1][0] + arr[0][1] # dp[1][0] + arr[0][1]\n",
        "        dp[1][1] = arr[0][0] + arr[1][1] # dp[0][0] + arr[1][1]\n",
        "        print(max(dp[0][1],dp[1][1]))\n",
        "\n",
        "    else:\n",
        "        dp[0][0] = arr[0][0]\n",
        "        dp[1][0] = arr[1][0]\n",
        "        dp[0][1] = arr[1][0] + arr[0][1] # dp[1][0] + arr[0][1]\n",
        "        dp[1][1] = arr[0][0] + arr[1][1] # dp[0][0] + arr[1][1]\n",
        "        for j in range(2,n):\n",
        "            dp[0][j] = max(dp[1][j-1],dp[1][j-2]) + arr[0][j]\n",
        "            dp[1][j] = max(dp[0][j-1],dp[0][j-2]) + arr[1][j]\n",
        "        print(max(dp[0][n-1],dp[1][n-1]))\n"
      ]
    },
    {
      "cell_type": "code",
      "source": [
        ""
      ],
      "metadata": {
        "colab": {
          "base_uri": "https://localhost:8080/"
        },
        "id": "CmpGFLOzgdQ0",
        "outputId": "7721ac3e-90f1-486c-a7d9-cd4e9c9e4e5d"
      },
      "execution_count": 18,
      "outputs": [
        {
          "name": "stdout",
          "output_type": "stream",
          "text": [
            "10 30 10 50 100 20 40\n",
            "20 40 30 50 60 20 80\n"
          ]
        }
      ]
    },
    {
      "cell_type": "code",
      "source": [
        ""
      ],
      "metadata": {
        "colab": {
          "base_uri": "https://localhost:8080/"
        },
        "id": "rrTD1tVIXpM1",
        "outputId": "c4e56229-c6b9-48d6-c8b6-76281fb58579"
      },
      "execution_count": 19,
      "outputs": [
        {
          "output_type": "stream",
          "name": "stdout",
          "text": [
            "290\n"
          ]
        }
      ]
    },
    {
      "cell_type": "code",
      "source": [
        "dp"
      ],
      "metadata": {
        "colab": {
          "base_uri": "https://localhost:8080/"
        },
        "id": "s9Z3VPsZXpbj",
        "outputId": "d0759bd5-9dcb-44f9-ab3b-43a402a76d54"
      },
      "execution_count": 12,
      "outputs": [
        {
          "output_type": "execute_result",
          "data": {
            "text/plain": [
              "[[50, 40, 200, 140, 250], [30, 100, 120, 210, 260]]"
            ]
          },
          "metadata": {},
          "execution_count": 12
        }
      ]
    },
    {
      "cell_type": "code",
      "source": [
        ""
      ],
      "metadata": {
        "id": "cEGrAvcecqtl"
      },
      "execution_count": null,
      "outputs": []
    }
  ]
}