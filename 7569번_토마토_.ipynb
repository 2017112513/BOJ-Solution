{
  "nbformat": 4,
  "nbformat_minor": 0,
  "metadata": {
    "colab": {
      "name": "7569번: 토마토 .ipynb",
      "provenance": [],
      "authorship_tag": "ABX9TyN1w7FrQ47CQdlom7VN9N1c",
      "include_colab_link": true
    },
    "kernelspec": {
      "name": "python3",
      "display_name": "Python 3"
    },
    "language_info": {
      "name": "python"
    }
  },
  "cells": [
    {
      "cell_type": "markdown",
      "metadata": {
        "id": "view-in-github",
        "colab_type": "text"
      },
      "source": [
        "<a href=\"https://colab.research.google.com/github/easyseop/BOJ-Programmers/blob/main/7569%EB%B2%88_%ED%86%A0%EB%A7%88%ED%86%A0_.ipynb\" target=\"_parent\"><img src=\"https://colab.research.google.com/assets/colab-badge.svg\" alt=\"Open In Colab\"/></a>"
      ]
    },
    {
      "cell_type": "code",
      "execution_count": null,
      "metadata": {
        "id": "RYlZLHxw4cPw"
      },
      "outputs": [],
      "source": [
        "from collections import deque\n",
        "n,m,h = map(int,input().split())\n",
        "arr = [[list(map(int,input().split())) for i in range(m)] for j in range(h)]\n",
        "\n",
        "d = deque()\n",
        "\n",
        "\n",
        "is_zero = False\n",
        "for i in range(h):\n",
        "\tfor j in range(m):\n",
        "\t\tfor k in range(n):\n",
        "\t\t\tif arr[i][j][k] == 1:\n",
        "\t\t\t\td.append([i,j,k,0])\n",
        "\t\t\telif arr[i][j][k] == 0:\n",
        "\t\t\t\tis_zero = True\n",
        "\t\t\telse:\n",
        "\t\t\t\tpass\n",
        "\n",
        "if is_zero:\n",
        "\tdx=[1,-1,0,0,0,0]\n",
        "\tdy=[0,0,1,-1,0,0]\n",
        "\tdh=[0,0,0,0,1,-1]\n",
        "\n",
        "\n",
        "\tvisited = [[[0]*n for i in range(m)] for j in range(h)]\n",
        "\tanswer = 0\n",
        "\tcurr_day = 0\n",
        "\n",
        "\twhile d:\n",
        "\t\thigh,row,col,day = d.popleft()\n",
        "\t\tanswer = max(answer,day)\n",
        "\t\tfor i in range(6):\n",
        "\t\t\tH = high + dh[i]\n",
        "\t\t\tR = row + dx[i]\n",
        "\t\t\tC = col + dy[i]\n",
        "\t\t\tif 0<=H<h:\n",
        "\t\t\t\tif 0<=R<m and 0<=C<n and not visited[H][R][C]:\n",
        "\t\t\t\t\tvisited[H][R][C] = 1\n",
        "\t\t\t\t\tif arr[H][R][C] == 0: \n",
        "\t\t\t\t\t\tarr[H][R][C] = 1\n",
        "\t\t\t\t\t\td.append([H,R,C,day+1])\n",
        "\t\t\t\t\telse:\n",
        "\t\t\t\t\t\tcontinue\n",
        "\t\t\t\telse:\n",
        "\t\t\t\t\tcontinue\n",
        "\n",
        "\t\t\telse:\n",
        "\t\t\t\tcontinue\n",
        "\n",
        "\tflag = False\n",
        "\tfor i in range(h):\n",
        "\t\tfor j in range(m):\n",
        "\t\t\tfor k in range(n):\n",
        "\t\t\t\tif arr[i][j][k] == 0:\n",
        "\t\t\t\t\tprint(-1)\n",
        "\t\t\t\t\tflag = True\n",
        "\t\t\t\t\tbreak\n",
        "\t\t\tif flag:\n",
        "\t\t\t\tbreak\n",
        "\t\tif flag:\n",
        "\t\t\tbreak\n",
        "\t\n",
        "\tif not flag:\n",
        "\t\tprint(answer)\n",
        "else:\n",
        "\tprint(0)"
      ]
    }
  ]
}