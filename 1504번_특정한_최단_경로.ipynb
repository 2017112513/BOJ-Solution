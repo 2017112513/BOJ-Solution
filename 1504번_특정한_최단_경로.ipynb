{
  "nbformat": 4,
  "nbformat_minor": 0,
  "metadata": {
    "colab": {
      "name": "1504번: 특정한 최단 경로.ipynb",
      "provenance": [],
      "authorship_tag": "ABX9TyPYYFNNnvnQq/ZTujZ601dl",
      "include_colab_link": true
    },
    "kernelspec": {
      "name": "python3",
      "display_name": "Python 3"
    },
    "language_info": {
      "name": "python"
    }
  },
  "cells": [
    {
      "cell_type": "markdown",
      "metadata": {
        "id": "view-in-github",
        "colab_type": "text"
      },
      "source": [
        "<a href=\"https://colab.research.google.com/github/easyseop/BOJ-Solution/blob/main/1504%EB%B2%88_%ED%8A%B9%EC%A0%95%ED%95%9C_%EC%B5%9C%EB%8B%A8_%EA%B2%BD%EB%A1%9C.ipynb\" target=\"_parent\"><img src=\"https://colab.research.google.com/assets/colab-badge.svg\" alt=\"Open In Colab\"/></a>"
      ]
    },
    {
      "cell_type": "code",
      "execution_count": 19,
      "metadata": {
        "colab": {
          "base_uri": "https://localhost:8080/"
        },
        "id": "b8EypWyrdOIR",
        "outputId": "3aa99d54-9932-4690-9a12-79d7f130b579"
      },
      "outputs": [
        {
          "name": "stdout",
          "output_type": "stream",
          "text": [
            "4 6\n",
            "1 2 3\n",
            "2 3 3\n",
            "3 4 1\n",
            "1 3 5\n",
            "2 4 5\n",
            "1 4 4\n",
            "2 3\n"
          ]
        }
      ],
      "source": [
        "N,E = map(int,input().split())\n",
        "graph = [[] for i in range(N+1)]\n",
        "for _ in range(E):\n",
        "    a,b,c = map(int,input().split())\n",
        "    graph[b].append((c,a))\n",
        "    graph[a].append((c,b)) # a부터 b까지 c의 거리임\n",
        "import copy\n",
        "v1,v2 = map(int,input().split())\n",
        "\n",
        "#1.역으로 N에서 1,v1,v2까지 걸리는 최단 거리의 거리를 구한다 .\n",
        "#2.1에서 구한 순으로 예를 들어 N과 v1이 v2보다 더 가깝다면 1-> v2->v1->N 순으로 방향성을 정한다 \n",
        "#3. 방문이 상관없고, 다익스트라 알고리즘을 사용하기 때문에 heap를 이용(?)하여 시간복잡도를 개선한다  \n",
        "\n",
        "from heapq import heappush,heappop\n",
        "def dijkstra(x):\n",
        "    q= []\n",
        "    q.append((0,x))\n",
        "    arr = [float('inf')]*(N+1)\n",
        "    arr[x]=0\n",
        "    while q:\n",
        "        time,node = heappop(q)\n",
        "        for cost,newnode in graph[x]:\n",
        "            cost = cost + time\n",
        "            if cost<arr[newnode]:\n",
        "                arr[newnode] = cost\n",
        "                heappush(q,(cost,newnode))\n",
        "    return arr\n",
        "  \n",
        "start = dijkstra(1)\n",
        "v1_v2 = dijkstra(v1)\n",
        "v2_v1 = dijkstra(v2)\n",
        "\n",
        "print(min(start[v1]+v1_v2[v2]+v2_v1[N],start[v2]+v2_v1[v1]+v1_v2[N]))"
      ]
    },
    {
      "cell_type": "code",
      "source": [
        ""
      ],
      "metadata": {
        "id": "SPzGq6okjibE"
      },
      "execution_count": 24,
      "outputs": []
    },
    {
      "cell_type": "code",
      "source": [
        ""
      ],
      "metadata": {
        "id": "ogSjBeb7jyK3"
      },
      "execution_count": null,
      "outputs": []
    }
  ]
}