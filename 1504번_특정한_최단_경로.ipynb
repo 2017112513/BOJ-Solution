{
  "nbformat": 4,
  "nbformat_minor": 0,
  "metadata": {
    "colab": {
      "name": "1504번: 특정한 최단 경로.ipynb",
      "provenance": [],
      "authorship_tag": "ABX9TyOK2mLHxWuoC3wm85OKf4nx",
      "include_colab_link": true
    },
    "kernelspec": {
      "name": "python3",
      "display_name": "Python 3"
    },
    "language_info": {
      "name": "python"
    }
  },
  "cells": [
    {
      "cell_type": "markdown",
      "metadata": {
        "id": "view-in-github",
        "colab_type": "text"
      },
      "source": [
        "<a href=\"https://colab.research.google.com/github/easyseop/BOJ-Solution/blob/main/1504%EB%B2%88_%ED%8A%B9%EC%A0%95%ED%95%9C_%EC%B5%9C%EB%8B%A8_%EA%B2%BD%EB%A1%9C.ipynb\" target=\"_parent\"><img src=\"https://colab.research.google.com/assets/colab-badge.svg\" alt=\"Open In Colab\"/></a>"
      ]
    },
    {
      "cell_type": "code",
      "execution_count": 31,
      "metadata": {
        "colab": {
          "base_uri": "https://localhost:8080/"
        },
        "id": "b8EypWyrdOIR",
        "outputId": "2b4e34ef-6fd8-46a7-e76a-e686341f8a07"
      },
      "outputs": [
        {
          "output_type": "stream",
          "name": "stdout",
          "text": [
            "4 6\n",
            "1 2 3\n",
            "2 3 3\n",
            "3 4 1\n",
            "1 3 5\n",
            "2 4 5\n",
            "1 4 4\n",
            "1 4\n",
            "4\n"
          ]
        }
      ],
      "source": [
        "N,E = map(int,input().split())\n",
        "graph = [[] for i in range(N+1)]\n",
        "for _ in range(E):\n",
        "    a,b,c = map(int,input().split())\n",
        "    graph[b].append((c,a))\n",
        "    graph[a].append((c,b)) \n",
        "v1,v2 = map(int,input().split())\n",
        "\n",
        "from heapq import heappush,heappop\n",
        "\n",
        "def dijkstra(x):\n",
        "    q= []\n",
        "    q.append((0,x))\n",
        "    arr = [float('inf')]*(N+1)\n",
        "    arr[x]=0\n",
        "    while q:\n",
        "        time,node = heappop(q)\n",
        "        for cost,newnode in graph[node]:\n",
        "            wei = cost + time\n",
        "            if wei<arr[newnode]:\n",
        "                arr[newnode] = wei\n",
        "                heappush(q,(wei,newnode))\n",
        "    return arr\n",
        "\n",
        "start = dijkstra(1)\n",
        "v1_v2 = dijkstra(v1)\n",
        "v2_v1 = dijkstra(v2)\n",
        "ans = min(start[v1]+v1_v2[v2]+v2_v1[N],start[v2]+v2_v1[v1]+v1_v2[N])\n",
        "\n",
        "if ans < float('inf'):\n",
        "    print(ans)\n",
        "else:\n",
        "    print(-1)"
      ]
    },
    {
      "cell_type": "code",
      "source": [
        ""
      ],
      "metadata": {
        "id": "UxemrYX2mZcL"
      },
      "execution_count": null,
      "outputs": []
    }
  ]
}