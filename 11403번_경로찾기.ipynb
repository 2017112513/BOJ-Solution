{
  "nbformat": 4,
  "nbformat_minor": 0,
  "metadata": {
    "colab": {
      "name": "11403번: 경로찾기.ipynb",
      "provenance": [],
      "authorship_tag": "ABX9TyOD020NthqgG+8/p71mSV73",
      "include_colab_link": true
    },
    "kernelspec": {
      "name": "python3",
      "display_name": "Python 3"
    },
    "language_info": {
      "name": "python"
    }
  },
  "cells": [
    {
      "cell_type": "markdown",
      "metadata": {
        "id": "view-in-github",
        "colab_type": "text"
      },
      "source": [
        "<a href=\"https://colab.research.google.com/github/easyseop/BOJ-Solution/blob/main/11403%EB%B2%88_%EA%B2%BD%EB%A1%9C%EC%B0%BE%EA%B8%B0.ipynb\" target=\"_parent\"><img src=\"https://colab.research.google.com/assets/colab-badge.svg\" alt=\"Open In Colab\"/></a>"
      ]
    },
    {
      "cell_type": "code",
      "source": [
        "def dfs(v):\n",
        "    for i in range(n):\n",
        "        if visited[i] == 0 and matrix[v][i] == 1:\n",
        "            visited[i] = 1\n",
        "            dfs(i)\n",
        "\n",
        "n = int(input())\n",
        "matrix = [list(map(int, input().split())) for _ in range(n)]\n",
        "for i in range(n):\n",
        "    visited = [0 for _ in range(n)]\n",
        "    dfs(i)\n",
        "    print(*visited)"
      ],
      "metadata": {
        "colab": {
          "base_uri": "https://localhost:8080/"
        },
        "id": "Gdaq1-DGhQQX",
        "outputId": "a88017ec-021b-4290-d006-b4bd4033860b"
      },
      "execution_count": 4,
      "outputs": [
        {
          "output_type": "stream",
          "name": "stdout",
          "text": [
            "3\n",
            "0 1 0\n",
            "0 0 1\n",
            "1 0 0\n",
            "[1, 1, 1]\n",
            "[1, 1, 1]\n",
            "[1, 1, 1]\n"
          ]
        }
      ]
    },
    {
      "cell_type": "code",
      "source": [
        ""
      ],
      "metadata": {
        "id": "MpbP9I58kSte"
      },
      "execution_count": null,
      "outputs": []
    }
  ]
}