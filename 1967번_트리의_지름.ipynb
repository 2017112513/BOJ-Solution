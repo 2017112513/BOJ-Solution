{
  "nbformat": 4,
  "nbformat_minor": 0,
  "metadata": {
    "colab": {
      "name": "1967번: 트리의 지름.ipynb",
      "provenance": [],
      "authorship_tag": "ABX9TyPheTMBDA02lGuvMNmcL/ew",
      "include_colab_link": true
    },
    "kernelspec": {
      "name": "python3",
      "display_name": "Python 3"
    },
    "language_info": {
      "name": "python"
    }
  },
  "cells": [
    {
      "cell_type": "markdown",
      "metadata": {
        "id": "view-in-github",
        "colab_type": "text"
      },
      "source": [
        "<a href=\"https://colab.research.google.com/github/easyseop/BOJ-Solution/blob/main/1967%EB%B2%88_%ED%8A%B8%EB%A6%AC%EC%9D%98_%EC%A7%80%EB%A6%84.ipynb\" target=\"_parent\"><img src=\"https://colab.research.google.com/assets/colab-badge.svg\" alt=\"Open In Colab\"/></a>"
      ]
    },
    {
      "cell_type": "code",
      "execution_count": null,
      "metadata": {
        "id": "e8L37MDMEe7O"
      },
      "outputs": [],
      "source": [
        "from heapq import heappush,heappop\n",
        "n = int(input())\n",
        "\n",
        "dic = {}\n",
        "for i in range(1,n+1):\n",
        "    dic[i] = []\n",
        "\n",
        "for i in range(n-1):\n",
        "    a,b,c = map(int,input().split())\n",
        "    dic[a].append((c,b))\n",
        "    dic[b].append((c,a))\n"
      ]
    },
    {
      "cell_type": "code",
      "source": [
        "ans = 0 \n",
        "for k in range(1,n+1):\n",
        "    tree = [float('inf')]*(n+1)\n",
        "    visited = [0]*(n+1)\n",
        "    h=  []\n",
        "    heappush(h,(0,k))\n",
        "    tree[k] = 1\n",
        "    while h:\n",
        "        \n",
        "        cnt,node = heappop(h)\n",
        "        # print(node)\n",
        "        if visited[node] == 1:\n",
        "            continue\n",
        "        else:\n",
        "            visited[node]=1\n",
        "            for cost,new_node in dic[node]:\n",
        "                total = cost+cnt\n",
        "                if tree[new_node]>total:\n",
        "                    tree[new_node]=total\n",
        "                    heappush(h,(total,new_node))\n",
        "    print(tree)\n",
        "    ans = max(ans,max(tree[1:]))"
      ],
      "metadata": {
        "colab": {
          "base_uri": "https://localhost:8080/"
        },
        "id": "tYHW28dBFAhW",
        "outputId": "798c0505-378b-457a-d9bf-33b67e34d676"
      },
      "execution_count": 47,
      "outputs": [
        {
          "output_type": "stream",
          "name": "stdout",
          "text": [
            "[inf, 1, 3, 2, 8, 13, 11, 9, 15, 28, 17, 17, 21]\n",
            "[inf, 3, 1, 5, 5, 16, 14, 6, 12, 31, 20, 20, 24]\n",
            "[inf, 2, 5, 1, 10, 11, 9, 11, 17, 26, 15, 15, 19]\n",
            "[inf, 8, 5, 10, 1, 21, 19, 1, 7, 36, 25, 25, 29]\n",
            "[inf, 13, 16, 11, 21, 1, 20, 22, 28, 15, 4, 26, 30]\n",
            "[inf, 11, 14, 9, 19, 20, 1, 20, 26, 35, 24, 6, 10]\n",
            "[inf, 9, 6, 11, 1, 22, 20, 1, 8, 37, 26, 26, 30]\n",
            "[inf, 15, 12, 17, 7, 28, 26, 8, 1, 43, 32, 32, 36]\n",
            "[inf, 28, 31, 26, 36, 15, 35, 37, 43, 1, 19, 41, 45]\n",
            "[inf, 17, 20, 15, 25, 4, 24, 26, 32, 19, 1, 30, 34]\n",
            "[inf, 17, 20, 15, 25, 26, 6, 26, 32, 41, 30, 1, 16]\n",
            "[inf, 21, 24, 19, 29, 30, 10, 30, 36, 45, 34, 16, 1]\n"
          ]
        }
      ]
    },
    {
      "cell_type": "code",
      "source": [
        "ans"
      ],
      "metadata": {
        "colab": {
          "base_uri": "https://localhost:8080/"
        },
        "id": "JeTODzLwFlsN",
        "outputId": "8e2608c5-2a94-4a51-f5c8-7dcecc6f1991"
      },
      "execution_count": 48,
      "outputs": [
        {
          "output_type": "execute_result",
          "data": {
            "text/plain": [
              "45"
            ]
          },
          "metadata": {},
          "execution_count": 48
        }
      ]
    },
    {
      "cell_type": "code",
      "source": [
        ""
      ],
      "metadata": {
        "id": "ukCeEeBIIwgj"
      },
      "execution_count": null,
      "outputs": []
    }
  ]
}