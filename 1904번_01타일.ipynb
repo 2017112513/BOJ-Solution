{
  "nbformat": 4,
  "nbformat_minor": 0,
  "metadata": {
    "colab": {
      "name": "1904번: 01타일.ipynb",
      "provenance": [],
      "authorship_tag": "ABX9TyP3zTcXv6cyztk5cSEK8YB7",
      "include_colab_link": true
    },
    "kernelspec": {
      "name": "python3",
      "display_name": "Python 3"
    },
    "language_info": {
      "name": "python"
    }
  },
  "cells": [
    {
      "cell_type": "markdown",
      "metadata": {
        "id": "view-in-github",
        "colab_type": "text"
      },
      "source": [
        "<a href=\"https://colab.research.google.com/github/easyseop/BOJ-Solution/blob/main/1904%EB%B2%88_01%ED%83%80%EC%9D%BC.ipynb\" target=\"_parent\"><img src=\"https://colab.research.google.com/assets/colab-badge.svg\" alt=\"Open In Colab\"/></a>"
      ]
    },
    {
      "cell_type": "code",
      "execution_count": null,
      "metadata": {
        "id": "IyjQMDLj1ynZ"
      },
      "outputs": [],
      "source": [
        "n = int(input())\n",
        "if n<=2:\n",
        "  print(n)\n",
        "else:\n",
        "    dp = [0]*(n+1)\n",
        "    dp[1] = 1\n",
        "    dp[2] = 2\n",
        "    for i in range(3,n+1):\n",
        "        dp[i] = (dp[i-1]+dp[i-2])%15746\n",
        "\n",
        "    print(dp[n]%15746)"
      ]
    }
  ]
}