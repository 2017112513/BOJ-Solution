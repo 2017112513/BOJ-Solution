{
  "nbformat": 4,
  "nbformat_minor": 0,
  "metadata": {
    "colab": {
      "name": "2448번: 별 찍기-11.ipynb",
      "provenance": [],
      "collapsed_sections": [],
      "authorship_tag": "ABX9TyMUqOPbiZEQ3SkMGln4oZR4",
      "include_colab_link": true
    },
    "kernelspec": {
      "name": "python3",
      "display_name": "Python 3"
    },
    "language_info": {
      "name": "python"
    }
  },
  "cells": [
    {
      "cell_type": "markdown",
      "metadata": {
        "id": "view-in-github",
        "colab_type": "text"
      },
      "source": [
        "<a href=\"https://colab.research.google.com/github/easyseop/BOJ-Solution/blob/main/2448%EB%B2%88_%EB%B3%84_%EC%B0%8D%EA%B8%B0_11.ipynb\" target=\"_parent\"><img src=\"https://colab.research.google.com/assets/colab-badge.svg\" alt=\"Open In Colab\"/></a>"
      ]
    },
    {
      "cell_type": "code",
      "source": [
        "n = 6\n",
        "\n",
        "a = '*'.center((n//3)*5)\n",
        "b = '* *'.center((n//3)*5)\n",
        "c = '*****'.center((n//3)*5)\n"
      ],
      "metadata": {
        "id": "KRWBw5KNxg3q"
      },
      "execution_count": null,
      "outputs": []
    },
    {
      "cell_type": "code",
      "source": [
        "n=3 \n",
        "print(a)\n",
        "print(b)\n",
        "print(c)"
      ],
      "metadata": {
        "id": "StqhY3iyzdRl",
        "colab": {
          "base_uri": "https://localhost:8080/"
        },
        "outputId": "0e999fba-521d-4733-cd12-5f15ec97bba5"
      },
      "execution_count": null,
      "outputs": [
        {
          "output_type": "stream",
          "name": "stdout",
          "text": [
            "    *     \n",
            "   * *    \n",
            "  *****   \n"
          ]
        }
      ]
    },
    {
      "cell_type": "code",
      "source": [
        "n = 6\n",
        "m = 5*(n//3) + (n//3)-1"
      ],
      "metadata": {
        "id": "F76ZyjFHC7oA"
      },
      "execution_count": null,
      "outputs": []
    },
    {
      "cell_type": "code",
      "source": [
        "arr  = [['']*m for i in range(n)]\n",
        "i = 0\n",
        "cnt = 1\n",
        "idx = m//2\n",
        "arr[0][idx]='*'\n",
        "arr[1][idx-1] = '*'\n",
        "arr[1][idx+1] = '*'\n",
        "idx = idx-1\n",
        "j = 0\n",
        "while j<=4:\n",
        "    arr[2][idx-1+j] = '*'\n",
        "    j+=1"
      ],
      "metadata": {
        "id": "OcaN79BUG4uw"
      },
      "execution_count": null,
      "outputs": []
    },
    {
      "cell_type": "code",
      "source": [
        "n=12\n",
        "m = 5*(n//3) + (n//3)-1\n",
        "arr  = [[' ']*m for i in range(n)]\n",
        "idx = m//2\n",
        "\n",
        "def graph(cnt,i,index):\n",
        "  \n",
        "    arr[i][index]='*'\n",
        "    arr[i+1][index-1] = '*'\n",
        "    arr[i+1][index+1] = '*'\n",
        "\n",
        "    for j in range(index-2,index+2+1):\n",
        "        arr[i+2][j]='*'\n",
        "    \n",
        "    if cnt+1 != (n//3) and (n//3)%2==0:\n",
        "        graph(cnt+1,i+3,index-3)\n",
        "        graph(cnt+1,i+3,index+3)\n",
        "    elif cnt+1 \n",
        "\n",
        "graph(0,0,idx)\n",
        "\n",
        "for i in arr:\n",
        "    print(''.join(i))"
      ],
      "metadata": {
        "id": "BXM-t3BkW2yJ",
        "colab": {
          "base_uri": "https://localhost:8080/"
        },
        "outputId": "c73249ad-7947-443c-af5e-faf6a887d72d"
      },
      "execution_count": 113,
      "outputs": [
        {
          "output_type": "stream",
          "name": "stdout",
          "text": [
            "           *           \n",
            "          * *          \n",
            "         *****         \n",
            "        *     *        \n",
            "       * *   * *       \n",
            "      ***** *****      \n",
            "     *     *     *     \n",
            "    * *   * *   * *    \n",
            "   ***** ***** *****   \n",
            "  *     *     *     *  \n",
            " * *   * *   * *   * * \n",
            "***** ***** ***** *****\n"
          ]
        }
      ]
    },
    {
      "cell_type": "code",
      "source": [
        ""
      ],
      "metadata": {
        "id": "c3QQdIoSctWE"
      },
      "execution_count": null,
      "outputs": []
    }
  ]
}