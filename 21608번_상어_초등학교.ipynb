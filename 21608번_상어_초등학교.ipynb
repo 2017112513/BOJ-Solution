{
  "nbformat": 4,
  "nbformat_minor": 0,
  "metadata": {
    "colab": {
      "name": "21608번: 상어 초등학교.ipynb",
      "provenance": [],
      "collapsed_sections": [],
      "authorship_tag": "ABX9TyNnNq6uGqSbyM8x5tkU9gjO",
      "include_colab_link": true
    },
    "kernelspec": {
      "name": "python3",
      "display_name": "Python 3"
    },
    "language_info": {
      "name": "python"
    }
  },
  "cells": [
    {
      "cell_type": "markdown",
      "metadata": {
        "id": "view-in-github",
        "colab_type": "text"
      },
      "source": [
        "<a href=\"https://colab.research.google.com/github/easyseop/BOJ-Solution/blob/main/21608%EB%B2%88_%EC%83%81%EC%96%B4_%EC%B4%88%EB%93%B1%ED%95%99%EA%B5%90.ipynb\" target=\"_parent\"><img src=\"https://colab.research.google.com/assets/colab-badge.svg\" alt=\"Open In Colab\"/></a>"
      ]
    },
    {
      "cell_type": "code",
      "source": [
        "n = int(input())\n",
        "dic = {}\n",
        "for i in range(n**2):\n",
        "    a,b,c,d,e = map(int,input().split())\n",
        "    try:\n",
        "        dic[a].append(b)\n",
        "        dic[a].append(c)\n",
        "        dic[a].append(d)\n",
        "        dic[a].append(e)\n",
        "    except:\n",
        "        dic[a]=[]\n",
        "        dic[a].append(b)\n",
        "        dic[a].append(c)\n",
        "        dic[a].append(d)\n",
        "        dic[a].append(e)\n",
        "\n",
        "\n",
        "\n",
        "arr = [[0]*n for i in range(n)] # 각 위치에 빈칸을 나타낸다 \n",
        "num = [[0]*n for i in range(n)] # 각 위치에 Key가 존재하는지 알아낸다 \n",
        "visited = [0]*(n**2+1) # key값들의 위치를 나타낸다\n",
        "dx = [1,-1,0,0]\n",
        "dy = [0,0,1,-1]\n",
        "\n",
        "def blank():\n",
        "    for i in range(n):\n",
        "        for j in range(n):\n",
        "            cnt = 0\n",
        "            for k in range(4):\n",
        "                x = i+dx[k]\n",
        "                y = j+dy[k]\n",
        "                if 0<=x<n and 0<=y<n:\n",
        "                    if not num[x][y]:\n",
        "                        cnt+=1\n",
        "            arr[i][j] = cnt\n",
        "\n",
        "def search_friend(key):\n",
        "    value = dic[key]\n",
        "    lis = []\n",
        "    max_cnt = 0\n",
        "    value_vis = [0]*(n**2+1)\n",
        "    for i in range(n):\n",
        "        for j in range(n):\n",
        "            cnt=0\n",
        "            for k in range(4):\n",
        "                x = i+dx[k]\n",
        "                y = j+dy[k]\n",
        "                if 0<=x<n and 0<=y<n:\n",
        "                    if num[x][y] in value:\n",
        "                        cnt+=1 \n",
        "                        value_vis[num[x][y]] = 1\n",
        "                else:\n",
        "                  continue\n",
        "\n",
        "            if cnt!=0 and not num[i][j]:\n",
        "                if cnt>max_cnt:\n",
        "                    lis = []\n",
        "                    lis.append([i,j])\n",
        "                    max_cnt = cnt\n",
        "                elif cnt== max_cnt:\n",
        "                    lis.append([i,j])\n",
        "\n",
        "    return lis\n",
        "\n",
        "\n",
        "for key,value in dic.items():\n",
        "\n",
        "    arr = [[0]*n for i in range(n)]\n",
        "    blank()    \n",
        "    \n",
        "\n",
        "    friend = search_friend(key)\n",
        "\n",
        "    hubo = []\n",
        "\n",
        "    for i,j in friend:\n",
        "        if not num[i][j]:\n",
        "            hubo.append([i,j])\n",
        "    \n",
        " \n",
        "    if hubo:\n",
        "        \n",
        "        \n",
        "        hubo_location = []\n",
        "\n",
        "        while hubo: \n",
        "            x,y = hubo.pop() \n",
        "            hubo_location.append([x,y,arr[x][y]])\n",
        "                        \n",
        "        hubo_location = sorted(hubo_location,key=lambda x: (-x[2],x[0],x[1]))\n",
        "        num[hubo_location[0][0]][hubo_location[0][1]] = key\n",
        "   \n",
        "        visited[key]=[hubo_location[0][0],hubo_location[0][1]] \n",
        "\n",
        "    else:\n",
        "        \n",
        "        hubo_location = []\n",
        "        for i in range(n):\n",
        "            for j in range(n):\n",
        "                if not num[i][j]:\n",
        "                    hubo_location.append([i,j,arr[i][j]])\n",
        "        hubo_location = sorted(hubo_location,key=lambda x: (-x[2],x[0],x[1]))\n",
        "\n",
        "        num[hubo_location[0][0]][hubo_location[0][1]] = key\n",
        "        visited[key]=[hubo_location[0][0],hubo_location[0][1]] \n",
        "\n",
        "sum = 0\n",
        "\n",
        "for i in range(n):\n",
        "    for j in range(n):\n",
        "        cnt=0\n",
        "        key = num[i][j]\n",
        "        for k in range(4):\n",
        "                x = i+dx[k]\n",
        "                y = j+dy[k]\n",
        "                if 0<=x<n and 0<=y<n:\n",
        " \n",
        "                    if num[x][y] in dic[key]:\n",
        "                        cnt+=1\n",
        "        if cnt == 1:\n",
        "            sum+=1\n",
        "        elif cnt ==2:\n",
        "            sum+=10\n",
        "        elif cnt ==3:\n",
        "            sum+=100\n",
        "        elif cnt== 4:\n",
        "            sum+=1000\n",
        "\n",
        "print(sum)\n",
        "\n",
        "\n",
        "\n",
        "\n"
      ],
      "metadata": {
        "id": "rhQzdWUy7ZMR"
      },
      "execution_count": null,
      "outputs": []
    },
    {
      "cell_type": "code",
      "source": [
        ""
      ],
      "metadata": {
        "colab": {
          "base_uri": "https://localhost:8080/"
        },
        "id": "VU-nR2khEqZg",
        "outputId": "ef5ccf0c-595a-4379-ca8b-aadf319c68bf"
      },
      "execution_count": null,
      "outputs": [
        {
          "output_type": "execute_result",
          "data": {
            "text/plain": [
              "[[6, 2, 8], [5, 4, 1], [9, 7, 3]]"
            ]
          },
          "metadata": {},
          "execution_count": 205
        }
      ]
    },
    {
      "cell_type": "code",
      "source": [
        ""
      ],
      "metadata": {
        "id": "O7_JR9uJFUL0"
      },
      "execution_count": null,
      "outputs": []
    }
  ]
}