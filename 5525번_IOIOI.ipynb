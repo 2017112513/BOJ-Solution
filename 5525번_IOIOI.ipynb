{
  "nbformat": 4,
  "nbformat_minor": 0,
  "metadata": {
    "colab": {
      "name": "5525번: IOIOI.ipynb",
      "provenance": [],
      "collapsed_sections": [],
      "authorship_tag": "ABX9TyOVjsErZ6h5359O6DgWavVg",
      "include_colab_link": true
    },
    "kernelspec": {
      "name": "python3",
      "display_name": "Python 3"
    },
    "language_info": {
      "name": "python"
    }
  },
  "cells": [
    {
      "cell_type": "markdown",
      "metadata": {
        "id": "view-in-github",
        "colab_type": "text"
      },
      "source": [
        "<a href=\"https://colab.research.google.com/github/easyseop/BOJ-Solution/blob/main/5525%EB%B2%88_IOIOI.ipynb\" target=\"_parent\"><img src=\"https://colab.research.google.com/assets/colab-badge.svg\" alt=\"Open In Colab\"/></a>"
      ]
    },
    {
      "cell_type": "code",
      "source": [
        "# from more_itertools import locate\n",
        "# S\n",
        "# arr = list(S)\n",
        "# pos = list(locate(arr, lambda x: x == 'O'))\n",
        "# print(pos)"
      ],
      "metadata": {
        "id": "-ci8Pv73ER8k"
      },
      "execution_count": 35,
      "outputs": []
    },
    {
      "cell_type": "code",
      "execution_count": 33,
      "metadata": {
        "colab": {
          "base_uri": "https://localhost:8080/"
        },
        "id": "PU51nVW_7_PY",
        "outputId": "0e2c4724-c6a9-436e-f068-89d7660b6ef2"
      },
      "outputs": [
        {
          "name": "stdout",
          "output_type": "stream",
          "text": [
            "1\n",
            "123\n",
            "OOOOOOOOIOIOIOIOIOIIIOOOIIIOOIOOOOOOOO\n"
          ]
        }
      ],
      "source": [
        "# 첫번째 방법 50점\n",
        "N = int(input()) #PN의 n\n",
        "M = int(input()) # S의 길이\n",
        "S = input().strip('O')\n",
        "arr = list(S)\n",
        "arr_idx=  [i for i,string in enumerate(arr) if string =='O']\n",
        "cnt=0\n",
        "for i in arr_idx:\n",
        "    flag=True\n",
        "    if S[i-1]=='I':\n",
        "        for j in range(1,(2*N-1)+1):\n",
        "            if j%2!=0:\n",
        "                if S[i+j]!='I':\n",
        "                    flag=False\n",
        "                    break\n",
        "                else:\n",
        "                    continue\n",
        "            else:\n",
        "                if S[i+j]!='O':\n",
        "                    flag=False\n",
        "                    break\n",
        "                else:\n",
        "                    continue\n",
        "        if flag:\n",
        "            cnt+=1\n",
        "      \n",
        "print(cnt)  \n",
        "\n",
        "                    "
      ]
    },
    {
      "cell_type": "markdown",
      "source": [
        "- P1 IOI\n",
        "- P2 IOIOI\n",
        "- P3 IOIOIOI\n",
        "- PN IOIOI...OI (O가 N개)"
      ],
      "metadata": {
        "id": "ZShJuLfP8klj"
      }
    },
    {
      "cell_type": "code",
      "source": [
        "#두번째 방법 100점\n",
        "N = int(input()) #PN의 n\n",
        "M = int(input()) # S의 길이\n",
        "S = input().strip('O')\n",
        "Pn = 'I'+'OI'*N\n",
        "cnt=0\n",
        "while Pn in S:\n",
        "    zero=False\n",
        "    cnt+=1\n",
        "    idx = S.index(Pn)+2*N\n",
        "    plus=0\n",
        "    for i in S[idx+1:]:\n",
        "        if i=='I':\n",
        "            if zero:\n",
        "                plus+=1\n",
        "                zero=False\n",
        "            else:\n",
        "                break\n",
        "        elif i=='O' and not zero:\n",
        "            zero=True\n",
        "        else:\n",
        "            break\n",
        "    cnt+=plus\n",
        "    S=S[idx+1+2*plus:].strip('O')"
      ],
      "metadata": {
        "id": "XpnhmIAm8k8r"
      },
      "execution_count": 38,
      "outputs": []
    },
    {
      "cell_type": "code",
      "source": [
        ""
      ],
      "metadata": {
        "id": "KN_YEBwYKopt"
      },
      "execution_count": null,
      "outputs": []
    }
  ]
}