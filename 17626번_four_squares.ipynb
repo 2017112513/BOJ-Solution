{
  "nbformat": 4,
  "nbformat_minor": 0,
  "metadata": {
    "colab": {
      "name": "17626번: four squares.ipynb",
      "provenance": [],
      "authorship_tag": "ABX9TyP2qFb3EZ2iJM5bZQYGRusy",
      "include_colab_link": true
    },
    "kernelspec": {
      "name": "python3",
      "display_name": "Python 3"
    },
    "language_info": {
      "name": "python"
    }
  },
  "cells": [
    {
      "cell_type": "markdown",
      "metadata": {
        "id": "view-in-github",
        "colab_type": "text"
      },
      "source": [
        "<a href=\"https://colab.research.google.com/github/easyseop/BOJ-Solution/blob/main/17626%EB%B2%88_four_squares.ipynb\" target=\"_parent\"><img src=\"https://colab.research.google.com/assets/colab-badge.svg\" alt=\"Open In Colab\"/></a>"
      ]
    },
    {
      "cell_type": "code",
      "execution_count": null,
      "metadata": {
        "colab": {
          "base_uri": "https://localhost:8080/"
        },
        "id": "V_XM8Hc-Th_M",
        "outputId": "f824f31e-d7af-4e17-bbbd-42f71ac507d4"
      },
      "outputs": [
        {
          "name": "stdout",
          "output_type": "stream",
          "text": [
            "25\n"
          ]
        }
      ],
      "source": [
        "# import math\n",
        "\n",
        "# n = int(input())\n",
        "# dp = [0] * (n + 1)\n",
        "# dp[0], dp[1] = 0, 1\n",
        "\n",
        "# for i in range(2, n + 1):\n",
        "#     if i == int(math.sqrt(i)) ** 2:\n",
        "#         dp[i] = 1\n",
        "#     else:\n",
        "#         dp[i] = i\n",
        "\n",
        "\n",
        "# for i in range(2,n+1):\n",
        "#     for j in range(1,math.sqrt(i)+1):\n",
        "#         dp[i] = dp"
      ]
    },
    {
      "cell_type": "code",
      "source": [
        "jegop = [False] * (50000+1)\n",
        "jegop_num = []\n",
        "\n",
        "i=1 \n",
        "while 1:\n",
        "    if i**2>50000:\n",
        "        break\n",
        "    jegop[i**2] = True\n",
        "    jegop_num.append(i**2)\n",
        "    i+=1\n",
        "\n",
        "n = int(input())\n",
        "l = len(jegop_num)\n",
        "flag = False\n",
        "if jegop[n]:\n",
        "    print(1)\n",
        "    flag = True\n",
        "else:\n",
        "    for i in range(l):\n",
        "        if jegop_num[i]>n:\n",
        "            break\n",
        "        if jegop[n-jegop_num[i]]:\n",
        "            print(2)\n",
        "            flag = True\n",
        "            break\n",
        "    if not flag:\n",
        "        for i in range(l):\n",
        "            if jegop_num[i]>n:\n",
        "                break\n",
        "            for j in range(i,l):\n",
        "                if jegop_num[i]+jegop_num[j]>n:\n",
        "                    break\n",
        "                if jegop[n-jegop_num[i]-jegop_num[j]]:\n",
        "                    print(3)\n",
        "                    flag=True\n",
        "                    break\n",
        "            if flag:\n",
        "                break\n",
        "    \n",
        "    if not flag:\n",
        "        print(4)\n",
        "        flag = True\n",
        "        \n",
        "    \n",
        "        \n"
      ],
      "metadata": {
        "id": "mvNpzH2eT51r",
        "colab": {
          "base_uri": "https://localhost:8080/"
        },
        "outputId": "9d6ab4e8-af7f-4226-eac3-524c9aa01897"
      },
      "execution_count": 107,
      "outputs": [
        {
          "output_type": "stream",
          "name": "stdout",
          "text": [
            "34567\n",
            "4\n"
          ]
        }
      ]
    },
    {
      "cell_type": "code",
      "source": [
        "34567 - 185**2"
      ],
      "metadata": {
        "colab": {
          "base_uri": "https://localhost:8080/"
        },
        "id": "xX7oemlecosx",
        "outputId": "5f0a43b3-f4e7-4fc2-c3cd-43e46b74280a"
      },
      "execution_count": 104,
      "outputs": [
        {
          "output_type": "execute_result",
          "data": {
            "text/plain": [
              "342"
            ]
          },
          "metadata": {},
          "execution_count": 104
        }
      ]
    },
    {
      "cell_type": "code",
      "source": [
        "34567-184**2"
      ],
      "metadata": {
        "colab": {
          "base_uri": "https://localhost:8080/"
        },
        "id": "dQHDBMqUcqO9",
        "outputId": "7cadafc9-6c06-4c77-9371-7ec26408983e"
      },
      "execution_count": null,
      "outputs": [
        {
          "output_type": "execute_result",
          "data": {
            "text/plain": [
              "711"
            ]
          },
          "metadata": {},
          "execution_count": 67
        }
      ]
    },
    {
      "cell_type": "code",
      "source": [
        ""
      ],
      "metadata": {
        "id": "uGrn7Rg0dKuI"
      },
      "execution_count": null,
      "outputs": []
    }
  ]
}