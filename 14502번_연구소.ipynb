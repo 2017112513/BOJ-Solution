{
  "nbformat": 4,
  "nbformat_minor": 0,
  "metadata": {
    "colab": {
      "name": "14502번: 연구소.ipynb",
      "provenance": [],
      "authorship_tag": "ABX9TyPpjGd2SGZ0lTSDjVj06ywC",
      "include_colab_link": true
    },
    "kernelspec": {
      "name": "python3",
      "display_name": "Python 3"
    },
    "language_info": {
      "name": "python"
    }
  },
  "cells": [
    {
      "cell_type": "markdown",
      "metadata": {
        "id": "view-in-github",
        "colab_type": "text"
      },
      "source": [
        "<a href=\"https://colab.research.google.com/github/easyseop/BOJ-Solution/blob/main/14502%EB%B2%88_%EC%97%B0%EA%B5%AC%EC%86%8C.ipynb\" target=\"_parent\"><img src=\"https://colab.research.google.com/assets/colab-badge.svg\" alt=\"Open In Colab\"/></a>"
      ]
    },
    {
      "cell_type": "code",
      "execution_count": 77,
      "metadata": {
        "colab": {
          "base_uri": "https://localhost:8080/"
        },
        "id": "kfy_lzkVMA2V",
        "outputId": "e7ab57df-59ce-444c-f612-b7b0665b44e0"
      },
      "outputs": [
        {
          "name": "stdout",
          "output_type": "stream",
          "text": [
            "3 3\n",
            "2 2 0\n",
            "1 0 0 \n",
            "1 1 1\n"
          ]
        }
      ],
      "source": [
        "from itertools import combinations\n",
        "from collections import deque\n",
        "n,m = map(int,input().split())\n",
        "arr = [list(map(int,input().split())) for _ in range(n)]\n",
        "\n",
        "lis = copy.deepcopy(arr)\n",
        "dx=[1,-1,0,0]\n",
        "dy=[0,0,1,-1]\n",
        "zero = []\n",
        "virus=deque()\n",
        "for i in range(n):\n",
        "    for j in range(m):\n",
        "        if lis[i][j]==0:\n",
        "            zero.append([i,j])\n",
        "        \n",
        "C = list(combinations(zero,3))\n",
        "ans= -1\n",
        "for c in C:\n",
        "    lis = copy.deepcopy(arr)\n",
        "    for i,j in c:\n",
        "        lis[i][j]=1\n",
        "    for i in range(n):\n",
        "        for j in range(m):\n",
        "            if lis[i][j]==2:\n",
        "                virus.append([i,j])\n",
        "    bfs()\n",
        "    cnt=0\n",
        "    for i in range(n):\n",
        "        for j in range(m):\n",
        "            if lis[i][j]==0:\n",
        "                cnt+=1\n",
        "                ans = max(ans,cnt)"
      ]
    },
    {
      "cell_type": "code",
      "source": [
        ""
      ],
      "metadata": {
        "id": "BgutkI7TSuRA"
      },
      "execution_count": null,
      "outputs": []
    }
  ]
}