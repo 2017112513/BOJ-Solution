{
  "nbformat": 4,
  "nbformat_minor": 0,
  "metadata": {
    "colab": {
      "name": "카카오_기출_신고 결과 받기.ipynb",
      "provenance": [],
      "authorship_tag": "ABX9TyNrf/AeR2xrOEraQRh2QD+v",
      "include_colab_link": true
    },
    "kernelspec": {
      "name": "python3",
      "display_name": "Python 3"
    },
    "language_info": {
      "name": "python"
    }
  },
  "cells": [
    {
      "cell_type": "markdown",
      "metadata": {
        "id": "view-in-github",
        "colab_type": "text"
      },
      "source": [
        "<a href=\"https://colab.research.google.com/github/easyseop/BOJ-Solution/blob/main/%EC%B9%B4%EC%B9%B4%EC%98%A4_%EA%B8%B0%EC%B6%9C_%EC%8B%A0%EA%B3%A0_%EA%B2%B0%EA%B3%BC_%EB%B0%9B%EA%B8%B0.ipynb\" target=\"_parent\"><img src=\"https://colab.research.google.com/assets/colab-badge.svg\" alt=\"Open In Colab\"/></a>"
      ]
    },
    {
      "cell_type": "code",
      "execution_count": null,
      "metadata": {
        "id": "HOTCFHmGKDUy"
      },
      "outputs": [],
      "source": [
        "def solution(id_list,report,k):\n",
        "    answer = []\n",
        "    from collections import defaultdict\n",
        "\n",
        "    dic = defaultdict(list)\n",
        "\n",
        "    for i in report:\n",
        "        i,j = i.split()\n",
        "        dic[i].append(j)\n",
        "        \n",
        "\n",
        "    for i,j in dic.items():\n",
        "        dic[i] = set(j)\n",
        "\n",
        "    signal_cnt = defaultdict(int)\n",
        "\n",
        "    for i in id_list:\n",
        "        for name in dic[i]:\n",
        "            signal_cnt[name]+=1 \n",
        "\n",
        "    ans ={}\n",
        "    for i in id_list:\n",
        "        ans[i] = 0\n",
        "\n",
        "    for key,value in signal_cnt.items():\n",
        "        if value>=k:\n",
        "            for i,j in dic.items():\n",
        "                if key in j:\n",
        "                    ans[i]+=1\n",
        "\n",
        "    for i in ans:\n",
        "        answer.append(ans[i])\n",
        "        \n",
        "    return answer"
      ]
    }
  ]
}