{
  "nbformat": 4,
  "nbformat_minor": 0,
  "metadata": {
    "colab": {
      "name": "15654번: N과M(5).ipynb",
      "provenance": [],
      "collapsed_sections": [],
      "authorship_tag": "ABX9TyMDpvAzUhZuuOfyd9AxFYL4",
      "include_colab_link": true
    },
    "kernelspec": {
      "name": "python3",
      "display_name": "Python 3"
    },
    "language_info": {
      "name": "python"
    }
  },
  "cells": [
    {
      "cell_type": "markdown",
      "metadata": {
        "id": "view-in-github",
        "colab_type": "text"
      },
      "source": [
        "<a href=\"https://colab.research.google.com/github/easyseop/BOJ-Solution/blob/main/15654%EB%B2%88_N%EA%B3%BCM(5).ipynb\" target=\"_parent\"><img src=\"https://colab.research.google.com/assets/colab-badge.svg\" alt=\"Open In Colab\"/></a>"
      ]
    },
    {
      "cell_type": "code",
      "execution_count": 22,
      "metadata": {
        "id": "FTWOPQvq_C_1",
        "colab": {
          "base_uri": "https://localhost:8080/"
        },
        "outputId": "d768d4e2-67f3-4cfa-9ead-6af64abc29d5"
      },
      "outputs": [
        {
          "output_type": "stream",
          "name": "stdout",
          "text": [
            "4 2\n",
            "9 8 7 1\n",
            "1 7\n",
            "1 8\n",
            "1 9\n",
            "7 1\n",
            "7 8\n",
            "7 9\n",
            "8 1\n",
            "8 7\n",
            "8 9\n",
            "9 1\n",
            "9 7\n",
            "9 8\n"
          ]
        }
      ],
      "source": [
        "from itertools import permutations\n",
        "n,m = map(int,input().split())\n",
        "num = list(map(int,input().split()))\n",
        "p = sorted(list(permutations(num,m)))\n",
        "for i in p:\n",
        "    print(*i)"
      ]
    },
    {
      "cell_type": "code",
      "source": [
        "p"
      ],
      "metadata": {
        "id": "bjdNLlJQlQ5B"
      },
      "execution_count": null,
      "outputs": []
    },
    {
      "cell_type": "code",
      "source": [
        ""
      ],
      "metadata": {
        "id": "pQZG4dwNlgJY"
      },
      "execution_count": null,
      "outputs": []
    }
  ]
}