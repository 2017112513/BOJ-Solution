{
  "nbformat": 4,
  "nbformat_minor": 0,
  "metadata": {
    "colab": {
      "name": "16928번: 뱀과 사다리 게임.ipynb",
      "provenance": [],
      "authorship_tag": "ABX9TyMa0JHFFZk7JJ2TTNV+Ni3M",
      "include_colab_link": true
    },
    "kernelspec": {
      "name": "python3",
      "display_name": "Python 3"
    },
    "language_info": {
      "name": "python"
    }
  },
  "cells": [
    {
      "cell_type": "markdown",
      "metadata": {
        "id": "view-in-github",
        "colab_type": "text"
      },
      "source": [
        "<a href=\"https://colab.research.google.com/github/easyseop/BOJ-Solution/blob/main/16928%EB%B2%88_%EB%B1%80%EA%B3%BC_%EC%82%AC%EB%8B%A4%EB%A6%AC_%EA%B2%8C%EC%9E%84.ipynb\" target=\"_parent\"><img src=\"https://colab.research.google.com/assets/colab-badge.svg\" alt=\"Open In Colab\"/></a>"
      ]
    },
    {
      "cell_type": "code",
      "execution_count": 13,
      "metadata": {
        "colab": {
          "base_uri": "https://localhost:8080/"
        },
        "id": "G7Ma-8DD1efu",
        "outputId": "a98590ad-50cc-42b0-e702-1d3d31e64185"
      },
      "outputs": [
        {
          "output_type": "stream",
          "name": "stdout",
          "text": [
            "1 1\n",
            "12 99\n",
            "6 1\n",
            "3\n"
          ]
        }
      ],
      "source": [
        "# DP\n",
        "# from collections import defaultdict\n",
        "# n,m = map(int,input().split())\n",
        "\n",
        "# ladder=defaultdict(int)\n",
        "# for _ in range(n+m):\n",
        "#     a,b= map(int,input().split())\n",
        "#     if a<b:\n",
        "#         ladder[a]=b\n",
        "#     else:\n",
        "#         continue\n",
        "\n",
        "# arr = [0 if i-1<0 else ((i-1)//6)+1 if (i-1)%6!=0 else (i-1)//6 for i in range(101)]\n",
        "# for i,k in sorted(ladder.items(),key= lambda x:x[1]):\n",
        "#     arr[ladder[i]] = arr[i]\n",
        "#     for j in range(ladder[i]+1,100+1):\n",
        "#         if j-ladder[i]%6!=0:\n",
        "#             arr[j]= arr[i]+(j-ladder[i])//6+1\n",
        "#         else:\n",
        "#             arr[j] = arr[i]+(j-ladder[i])//6\n",
        "# print(arr[100])"
      ]
    },
    {
      "cell_type": "code",
      "source": [
        "\n",
        "from collections import defaultdict\n",
        "from collections import deque\n",
        "n,m = map(int,input().split())\n",
        "\n",
        "ladder=defaultdict(int)\n",
        "d = deque()\n",
        "for _ in range(n+m):\n",
        "    a,b= map(int,input().split())\n",
        "    ladder[a]=b\n",
        "arr = [0 for i in range(101)]\n",
        "\n",
        "\n",
        "dice = [1,2,3,4,5,6]\n",
        "visted=[0 for i in range(101)]\n",
        "d = deque([1])\n",
        "visted[1]=1\n",
        "while d:\n",
        "    x = d.popleft()\n",
        "    for k in range(6):\n",
        "        kx = x+dice[k]\n",
        "        if kx<=100 and visted[kx]==0:\n",
        "            if kx in ladder.keys():\n",
        "                kx = ladder[kx]\n",
        "            if visted[kx]==0:\n",
        "                d.append(kx)\n",
        "                visted[kx]=1\n",
        "                arr[kx]=arr[x]+1\n",
        "\n",
        "print(arr[100])\n",
        "    "
      ],
      "metadata": {
        "colab": {
          "base_uri": "https://localhost:8080/"
        },
        "id": "8_bhyj8S_DSr",
        "outputId": "5d2a75a4-b5e5-4fbe-8cef-af2234605dbc"
      },
      "execution_count": 19,
      "outputs": [
        {
          "name": "stdout",
          "output_type": "stream",
          "text": [
            "3 7\n",
            "32 62\n",
            "42 68\n",
            "12 98\n",
            "95 13\n",
            "97 25\n",
            "93 37\n",
            "79 27\n",
            "75 19\n",
            "49 47\n",
            "67 17\n"
          ]
        }
      ]
    },
    {
      "cell_type": "code",
      "source": [
        "arr"
      ],
      "metadata": {
        "colab": {
          "base_uri": "https://localhost:8080/"
        },
        "id": "489TzyY1JeWW",
        "outputId": "0b07e6d3-b77e-4074-b5ce-02468c776f2b"
      },
      "execution_count": 99,
      "outputs": [
        {
          "output_type": "execute_result",
          "data": {
            "text/plain": [
              "[0,\n",
              " 0,\n",
              " 1,\n",
              " 1,\n",
              " 1,\n",
              " 1,\n",
              " 1,\n",
              " 1,\n",
              " 2,\n",
              " 2,\n",
              " 2,\n",
              " 2,\n",
              " 0,\n",
              " 2,\n",
              " 3,\n",
              " 3,\n",
              " 3,\n",
              " 3,\n",
              " 3,\n",
              " 3,\n",
              " 4,\n",
              " 4,\n",
              " 4,\n",
              " 4,\n",
              " 4,\n",
              " 4,\n",
              " 5,\n",
              " 5,\n",
              " 5,\n",
              " 5,\n",
              " 5,\n",
              " 5,\n",
              " 0,\n",
              " 6,\n",
              " 6,\n",
              " 6,\n",
              " 6,\n",
              " 6,\n",
              " 7,\n",
              " 7,\n",
              " 7,\n",
              " 7,\n",
              " 0,\n",
              " 7,\n",
              " 8,\n",
              " 8,\n",
              " 8,\n",
              " 8,\n",
              " 8,\n",
              " 0,\n",
              " 9,\n",
              " 9,\n",
              " 9,\n",
              " 9,\n",
              " 9,\n",
              " 10,\n",
              " 10,\n",
              " 10,\n",
              " 10,\n",
              " 10,\n",
              " 10,\n",
              " 11,\n",
              " 6,\n",
              " 7,\n",
              " 7,\n",
              " 7,\n",
              " 7,\n",
              " 0,\n",
              " 7,\n",
              " 8,\n",
              " 8,\n",
              " 8,\n",
              " 8,\n",
              " 8,\n",
              " 8,\n",
              " 0,\n",
              " 9,\n",
              " 9,\n",
              " 9,\n",
              " 0,\n",
              " 9,\n",
              " 10,\n",
              " 10,\n",
              " 10,\n",
              " 10,\n",
              " 10,\n",
              " 10,\n",
              " 11,\n",
              " 11,\n",
              " 11,\n",
              " 11,\n",
              " 11,\n",
              " 11,\n",
              " 0,\n",
              " 12,\n",
              " 0,\n",
              " 12,\n",
              " 0,\n",
              " 2,\n",
              " 3,\n",
              " 3]"
            ]
          },
          "metadata": {},
          "execution_count": 99
        }
      ]
    },
    {
      "cell_type": "code",
      "source": [
        "d = deque([1])\n",
        "visted[1]=1\n",
        "while d:\n",
        "    x = d.popleft()\n",
        "    for k in range(6):\n",
        "        kx = x+dice[k]\n",
        "        if kx<=100 and visted[kx]==0:\n",
        "            if kx in ladder.keys():\n",
        "                kx = ladder[kx]\n",
        "            if visted[kx]==0:\n",
        "                d.append(kx)\n",
        "                visted[kx]=1\n",
        "                arr[kx]=arr[x]+1\n",
        "\n",
        "print(arr[100])\n",
        "    "
      ],
      "metadata": {
        "id": "mM8tzCr5-NGv"
      },
      "execution_count": 97,
      "outputs": []
    },
    {
      "cell_type": "code",
      "source": [
        "arr"
      ],
      "metadata": {
        "colab": {
          "base_uri": "https://localhost:8080/"
        },
        "id": "rXmW9azmD8We",
        "outputId": "91e072ee-a8e5-4650-a8a6-0e1e790ea9fd"
      },
      "execution_count": 98,
      "outputs": [
        {
          "output_type": "execute_result",
          "data": {
            "text/plain": [
              "[0,\n",
              " 0,\n",
              " 1,\n",
              " 1,\n",
              " 1,\n",
              " 1,\n",
              " 1,\n",
              " 1,\n",
              " 2,\n",
              " 2,\n",
              " 2,\n",
              " 2,\n",
              " 0,\n",
              " 2,\n",
              " 3,\n",
              " 3,\n",
              " 3,\n",
              " 3,\n",
              " 3,\n",
              " 3,\n",
              " 4,\n",
              " 4,\n",
              " 4,\n",
              " 4,\n",
              " 4,\n",
              " 4,\n",
              " 5,\n",
              " 5,\n",
              " 5,\n",
              " 5,\n",
              " 5,\n",
              " 5,\n",
              " 0,\n",
              " 6,\n",
              " 6,\n",
              " 6,\n",
              " 6,\n",
              " 6,\n",
              " 7,\n",
              " 7,\n",
              " 7,\n",
              " 7,\n",
              " 0,\n",
              " 7,\n",
              " 8,\n",
              " 8,\n",
              " 8,\n",
              " 8,\n",
              " 8,\n",
              " 0,\n",
              " 9,\n",
              " 9,\n",
              " 9,\n",
              " 9,\n",
              " 9,\n",
              " 10,\n",
              " 10,\n",
              " 10,\n",
              " 10,\n",
              " 10,\n",
              " 10,\n",
              " 11,\n",
              " 6,\n",
              " 7,\n",
              " 7,\n",
              " 7,\n",
              " 7,\n",
              " 0,\n",
              " 7,\n",
              " 8,\n",
              " 8,\n",
              " 8,\n",
              " 8,\n",
              " 8,\n",
              " 8,\n",
              " 0,\n",
              " 9,\n",
              " 9,\n",
              " 9,\n",
              " 0,\n",
              " 9,\n",
              " 10,\n",
              " 10,\n",
              " 10,\n",
              " 10,\n",
              " 10,\n",
              " 10,\n",
              " 11,\n",
              " 11,\n",
              " 11,\n",
              " 11,\n",
              " 11,\n",
              " 11,\n",
              " 0,\n",
              " 12,\n",
              " 0,\n",
              " 12,\n",
              " 0,\n",
              " 2,\n",
              " 3,\n",
              " 3]"
            ]
          },
          "metadata": {},
          "execution_count": 98
        }
      ]
    },
    {
      "cell_type": "code",
      "source": [
        ""
      ],
      "metadata": {
        "id": "y1I7HM3WD_va"
      },
      "execution_count": null,
      "outputs": []
    }
  ]
}