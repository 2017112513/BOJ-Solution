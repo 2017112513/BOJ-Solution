{
  "nbformat": 4,
  "nbformat_minor": 0,
  "metadata": {
    "colab": {
      "name": "1921번: 연속합(다시).ipynb",
      "provenance": [],
      "authorship_tag": "ABX9TyPdA7WT/WZG0Z98jqStRpZe",
      "include_colab_link": true
    },
    "kernelspec": {
      "name": "python3",
      "display_name": "Python 3"
    },
    "language_info": {
      "name": "python"
    }
  },
  "cells": [
    {
      "cell_type": "markdown",
      "metadata": {
        "id": "view-in-github",
        "colab_type": "text"
      },
      "source": [
        "<a href=\"https://colab.research.google.com/github/easyseop/BOJ-Solution/blob/main/1921%EB%B2%88_%EC%97%B0%EC%86%8D%ED%95%A9(%EB%8B%A4%EC%8B%9C).ipynb\" target=\"_parent\"><img src=\"https://colab.research.google.com/assets/colab-badge.svg\" alt=\"Open In Colab\"/></a>"
      ]
    },
    {
      "cell_type": "code",
      "execution_count": 35,
      "metadata": {
        "colab": {
          "base_uri": "https://localhost:8080/"
        },
        "id": "FFncBxy52F3M",
        "outputId": "0f5999a1-48ac-4a34-fba3-8278189045f3"
      },
      "outputs": [
        {
          "name": "stdout",
          "output_type": "stream",
          "text": [
            "10\n",
            "2 1 -4 3 4 -4 6 5 -5 1\n"
          ]
        }
      ],
      "source": [
        "N = int(input())\n",
        "arr = list(map(int,input().split()))\n",
        "ans=-1\n",
        "s = 0\n",
        "for i in arr:\n",
        "  s+=i\n",
        "  ans = max(ans,s)\n",
        "  if s<=0:\n",
        "    s=0\n",
        "  else:\n",
        "    continue\n",
        "print"
      ]
    },
    {
      "cell_type": "code",
      "source": [
        "print(ans)"
      ],
      "metadata": {
        "colab": {
          "base_uri": "https://localhost:8080/"
        },
        "id": "JmLf2SIJ6iZf",
        "outputId": "51a8bced-ce00-4d15-9a81-29bb140e2728"
      },
      "execution_count": 36,
      "outputs": [
        {
          "output_type": "stream",
          "name": "stdout",
          "text": [
            "14\n"
          ]
        }
      ]
    },
    {
      "cell_type": "code",
      "source": [
        ""
      ],
      "metadata": {
        "id": "A9K_f3m18-ro"
      },
      "execution_count": null,
      "outputs": []
    }
  ]
}