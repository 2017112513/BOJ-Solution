{
  "nbformat": 4,
  "nbformat_minor": 0,
  "metadata": {
    "colab": {
      "name": "카카오_기출_거리두기 확인하기.ipynb",
      "provenance": [],
      "authorship_tag": "ABX9TyNmBvfihgBbgOhc8jqYiGzN",
      "include_colab_link": true
    },
    "kernelspec": {
      "name": "python3",
      "display_name": "Python 3"
    },
    "language_info": {
      "name": "python"
    }
  },
  "cells": [
    {
      "cell_type": "markdown",
      "metadata": {
        "id": "view-in-github",
        "colab_type": "text"
      },
      "source": [
        "<a href=\"https://colab.research.google.com/github/easyseop/BOJ-Solution/blob/main/%EC%B9%B4%EC%B9%B4%EC%98%A4_%EA%B8%B0%EC%B6%9C_%EA%B1%B0%EB%A6%AC%EB%91%90%EA%B8%B0_%ED%99%95%EC%9D%B8%ED%95%98%EA%B8%B0.ipynb\" target=\"_parent\"><img src=\"https://colab.research.google.com/assets/colab-badge.svg\" alt=\"Open In Colab\"/></a>"
      ]
    },
    {
      "cell_type": "code",
      "execution_count": null,
      "metadata": {
        "id": "j9ciI0jy3EvP"
      },
      "outputs": [],
      "source": [
        "def solution(places):\n",
        "    from collections import deque\n",
        "    answer = []\n",
        "    for idx in range(5):\n",
        "        lis = places[idx]\n",
        "\n",
        "        for i in range(len(lis)):\n",
        "\n",
        "            lis[i] = list(lis[i])\n",
        "\n",
        "\n",
        "        d = deque()\n",
        "        for i in range(5):\n",
        "            for j in range(5):\n",
        "                if lis[i][j] =='P':\n",
        "                    d.append([i,j])\n",
        "        answer_flag = True\n",
        "\n",
        "\n",
        "        while d:\n",
        "            x,y = d.popleft()\n",
        "\n",
        "            d2 = deque()\n",
        "\n",
        "            d2.append([x,y,True,0])\n",
        "            visited = [[0]*5 for i in range(5)]\n",
        "            dx = [1,-1,0,0]\n",
        "            dy = [0,0,1,-1]\n",
        "\n",
        "            while d2:\n",
        "\n",
        "                x2,y2,flag,cnt = d2.popleft()\n",
        "\n",
        "                if  (x!= x2 or y!= y2)  and lis[x2][y2] =='P' and flag: \n",
        "\n",
        "                    answer_flag= False\n",
        "                    break\n",
        "\n",
        "                if cnt<=1:\n",
        "                    for i in range(4):\n",
        "                        a,b = x2+dx[i],y2+dy[i]\n",
        "\n",
        "                        if 0<=a<5 and 0<=b<5 and visited[a][b] ==0:\n",
        "                            visited[a][b] = 1\n",
        "\n",
        "                            if lis[a][b] == 'X':\n",
        "                                d2.append([a,b,False,cnt+1])\n",
        "                            else:\n",
        "                                d2.append([a,b,flag,cnt+1])\n",
        "\n",
        "\n",
        "\n",
        "        if not answer_flag:\n",
        "            answer.append(0)\n",
        "        else:\n",
        "            answer.append(1)\n",
        "    return answer"
      ]
    }
  ]
}