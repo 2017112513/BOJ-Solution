{
  "nbformat": 4,
  "nbformat_minor": 0,
  "metadata": {
    "colab": {
      "name": "10815번: 숫자 카드.ipynb",
      "provenance": [],
      "authorship_tag": "ABX9TyOtdQ/FJR84XlAkqxWaxHFV",
      "include_colab_link": true
    },
    "kernelspec": {
      "name": "python3",
      "display_name": "Python 3"
    },
    "language_info": {
      "name": "python"
    }
  },
  "cells": [
    {
      "cell_type": "markdown",
      "metadata": {
        "id": "view-in-github",
        "colab_type": "text"
      },
      "source": [
        "<a href=\"https://colab.research.google.com/github/easyseop/BOJ-Solution/blob/main/10815%EB%B2%88_%EC%88%AB%EC%9E%90_%EC%B9%B4%EB%93%9C.ipynb\" target=\"_parent\"><img src=\"https://colab.research.google.com/assets/colab-badge.svg\" alt=\"Open In Colab\"/></a>"
      ]
    },
    {
      "cell_type": "code",
      "execution_count": null,
      "metadata": {
        "id": "Kw61kv3mTQo_"
      },
      "outputs": [],
      "source": [
        "N = int(input())\n",
        "arr = sorted(list(map(int,input().split())))\n",
        "M = int(input())\n",
        "var = list(map(int,input().split()))\n",
        "\n",
        "ans = []\n",
        "for i in var:\n",
        "    start = 0\n",
        "    end = len(arr)-1\n",
        "    flag = True\n",
        "\n",
        "    while start<=end:\n",
        "        mid = (start+end)//2\n",
        "        \n",
        "        if i == arr[mid]:\n",
        "            print(i,mid)\n",
        "            ans.append('1')\n",
        "            flag = False\n",
        "            break\n",
        "        \n",
        "        elif i>arr[mid]:\n",
        "            start = mid+1\n",
        "        else:\n",
        "            end = mid-1\n",
        "    if flag:\n",
        "        ans.append('0')\n",
        "print(' '.join(ans))"
      ]
    }
  ]
}