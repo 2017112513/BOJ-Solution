{
  "nbformat": 4,
  "nbformat_minor": 0,
  "metadata": {
    "colab": {
      "name": "9461번: 파도반수열.ipynb",
      "provenance": [],
      "authorship_tag": "ABX9TyMeYzHIimG5dK/ZZROVp4U/",
      "include_colab_link": true
    },
    "kernelspec": {
      "name": "python3",
      "display_name": "Python 3"
    },
    "language_info": {
      "name": "python"
    }
  },
  "cells": [
    {
      "cell_type": "markdown",
      "metadata": {
        "id": "view-in-github",
        "colab_type": "text"
      },
      "source": [
        "<a href=\"https://colab.research.google.com/github/easyseop/BOJ-Solution/blob/main/9461%EB%B2%88_%ED%8C%8C%EB%8F%84%EB%B0%98%EC%88%98%EC%97%B4.ipynb\" target=\"_parent\"><img src=\"https://colab.research.google.com/assets/colab-badge.svg\" alt=\"Open In Colab\"/></a>"
      ]
    },
    {
      "cell_type": "code",
      "execution_count": 5,
      "metadata": {
        "id": "JO2-4f1jf-Dv"
      },
      "outputs": [],
      "source": [
        "dp = [0]*(100+1)\n",
        "dp[1],dp[2],dp[3] = 1,1,1\n",
        "dp[4],dp[5] = 2,2\n",
        "for i in range(6,100+1):\n",
        "    dp[i] = dp[i-3]+dp[i-4]+dp[i-5]\n",
        "for i in range(int(input())):\n",
        "    n = int(input())\n",
        "    print(dp[n])"
      ]
    },
    {
      "cell_type": "code",
      "source": [
        "dp[6]"
      ],
      "metadata": {
        "colab": {
          "base_uri": "https://localhost:8080/"
        },
        "id": "7Fz0WNy1hV_F",
        "outputId": "8d5d3cfb-cdb0-4732-c7d1-b0f5d8396829"
      },
      "execution_count": 6,
      "outputs": [
        {
          "output_type": "execute_result",
          "data": {
            "text/plain": [
              "3"
            ]
          },
          "metadata": {},
          "execution_count": 6
        }
      ]
    },
    {
      "cell_type": "code",
      "source": [
        "dp[12]"
      ],
      "metadata": {
        "colab": {
          "base_uri": "https://localhost:8080/"
        },
        "id": "zOpwhGghhXs8",
        "outputId": "e1e35692-2c27-4889-b682-3d83ac9c2f16"
      },
      "execution_count": 7,
      "outputs": [
        {
          "output_type": "execute_result",
          "data": {
            "text/plain": [
              "16"
            ]
          },
          "metadata": {},
          "execution_count": 7
        }
      ]
    },
    {
      "cell_type": "code",
      "source": [
        ""
      ],
      "metadata": {
        "id": "uM2fIU_FhfuS"
      },
      "execution_count": null,
      "outputs": []
    }
  ]
}