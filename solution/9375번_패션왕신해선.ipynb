{
  "nbformat": 4,
  "nbformat_minor": 0,
  "metadata": {
    "colab": {
      "name": "9375번: 패션왕신해선.ipynb",
      "provenance": [],
      "authorship_tag": "ABX9TyMETJRF/Pass3AZ3bPC7r6y",
      "include_colab_link": true
    },
    "kernelspec": {
      "name": "python3",
      "display_name": "Python 3"
    },
    "language_info": {
      "name": "python"
    }
  },
  "cells": [
    {
      "cell_type": "markdown",
      "metadata": {
        "id": "view-in-github",
        "colab_type": "text"
      },
      "source": [
        "<a href=\"https://colab.research.google.com/github/easyseop/BOJ-Solution/blob/main/9375%EB%B2%88_%ED%8C%A8%EC%85%98%EC%99%95%EC%8B%A0%ED%95%B4%EC%84%A0.ipynb\" target=\"_parent\"><img src=\"https://colab.research.google.com/assets/colab-badge.svg\" alt=\"Open In Colab\"/></a>"
      ]
    },
    {
      "cell_type": "code",
      "execution_count": null,
      "metadata": {
        "id": "KmOXEHddFZrj"
      },
      "outputs": [],
      "source": [
        "# from collections import defaultdict\n",
        "# from itertools import combinations\n",
        "\n",
        "# for case in range(int(input())):\n",
        "#     dic = defaultdict(int)\n",
        "#     n = int(input())\n",
        "#     for _ in range(n):\n",
        "#         wear,sort = input().split()\n",
        "#         dic[sort]+=1\n",
        "        \n",
        "#     ans = 0\n",
        "#     ans+=len(dic)\n",
        "#     for  i in range(2,len(dic.keys())+1):\n",
        "#         cnt =1\n",
        "#         for idx in list(combinations(dic.keys(),i)):\n",
        "#             for l in range(len(idx)):\n",
        "#                 cnt*=dic[idx[l]]\n",
        "#             ans+=cnt\n",
        "\n",
        "#     print(ans)\n",
        "\n",
        "\n",
        "#메모리초과 \n",
        "\n",
        "from collections import defaultdict\n",
        "\n",
        "for case in range(int(input())):\n",
        "    dic = defaultdict(int)\n",
        "    n = int(input())\n",
        "    for _ in range(n):\n",
        "        wear,sort = input().split()\n",
        "        dic[sort]+=1\n",
        "    ans = 1\n",
        "    for value in dic.values():\n",
        "        ans  = ans * (value+1)\n",
        "\n",
        "\n",
        "\n",
        "    print(ans-1)"
      ]
    }
  ]
}