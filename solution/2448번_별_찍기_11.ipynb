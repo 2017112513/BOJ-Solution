{
  "nbformat": 4,
  "nbformat_minor": 0,
  "metadata": {
    "colab": {
      "name": "2448번: 별 찍기-11.ipynb",
      "provenance": [],
      "collapsed_sections": [],
      "authorship_tag": "ABX9TyPHl5+GccVH/80ZRzQUQNtq",
      "include_colab_link": true
    },
    "kernelspec": {
      "name": "python3",
      "display_name": "Python 3"
    },
    "language_info": {
      "name": "python"
    }
  },
  "cells": [
    {
      "cell_type": "markdown",
      "metadata": {
        "id": "view-in-github",
        "colab_type": "text"
      },
      "source": [
        "<a href=\"https://colab.research.google.com/github/easyseop/BOJ-Solution/blob/main/2448%EB%B2%88_%EB%B3%84_%EC%B0%8D%EA%B8%B0_11.ipynb\" target=\"_parent\"><img src=\"https://colab.research.google.com/assets/colab-badge.svg\" alt=\"Open In Colab\"/></a>"
      ]
    },
    {
      "cell_type": "code",
      "source": [
        "n=int(input())\n",
        "\n",
        "arr  = [[' ']* 2 * n for i in range(n)]\n",
        "def graph(i,index,N):\n",
        "    if N==3:\n",
        "        arr[i][index]='*'\n",
        "        arr[i+1][index-1] = '*'\n",
        "        arr[i+1][index+1] = '*'\n",
        "\n",
        "        for j in range(index-2,index+2+1):\n",
        "            arr[i+2][j]='*'\n",
        "    else:\n",
        "        new_N = N//2\n",
        "        graph(i,index,new_N)\n",
        "        graph(i+new_N,index-new_N,new_N)\n",
        "        graph(i+new_N,index+new_N,new_N)\n",
        "\n",
        "  \n",
        "\n",
        "graph(0,n-1,n)\n",
        "\n",
        "for i in arr:\n",
        "    print(''.join(i))"
      ],
      "metadata": {
        "id": "BXM-t3BkW2yJ",
        "colab": {
          "base_uri": "https://localhost:8080/"
        },
        "outputId": "32c40f3f-5878-4f47-f0cb-37da154ffc10"
      },
      "execution_count": 138,
      "outputs": [
        {
          "output_type": "stream",
          "name": "stdout",
          "text": [
            "6\n",
            "     *      \n",
            "    * *     \n",
            "   *****    \n",
            "  *     *   \n",
            " * *   * *  \n",
            "***** ***** \n"
          ]
        }
      ]
    },
    {
      "cell_type": "code",
      "source": [
        ""
      ],
      "metadata": {
        "id": "C_oFqKSCqhyQ"
      },
      "execution_count": null,
      "outputs": []
    }
  ]
}