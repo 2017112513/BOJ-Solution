{
  "nbformat": 4,
  "nbformat_minor": 0,
  "metadata": {
    "colab": {
      "name": "\b6087번: 레이저 통신.ipynb",
      "provenance": [],
      "authorship_tag": "ABX9TyMzisduFqy4y/Zg74TPYceA",
      "include_colab_link": true
    },
    "kernelspec": {
      "name": "python3",
      "display_name": "Python 3"
    },
    "language_info": {
      "name": "python"
    }
  },
  "cells": [
    {
      "cell_type": "markdown",
      "metadata": {
        "id": "view-in-github",
        "colab_type": "text"
      },
      "source": [
        "<a href=\"https://colab.research.google.com/github/easyseop/BOJ-Solution/blob/main/%086087%EB%B2%88_%EB%A0%88%EC%9D%B4%EC%A0%80_%ED%86%B5%EC%8B%A0.ipynb\" target=\"_parent\"><img src=\"https://colab.research.google.com/assets/colab-badge.svg\" alt=\"Open In Colab\"/></a>"
      ]
    },
    {
      "cell_type": "code",
      "source": [
        "n, m = map(int, input().split())\n",
        "lis = [list(input()) for i in range(m)]\n",
        "c= []\n",
        "for i in range(m): # h\n",
        "    for j in range(n): # w\n",
        "        if lis[i][j] == 'C':\n",
        "            c.append([i,j])\n",
        "\n",
        "start_x=c[0][0]\n",
        "start_y=c[0][1]\n",
        "target_x=c[1][0]\n",
        "target_y=c[1][1]\n",
        "\n",
        "def get_direction(x1, y1, x2, y2):\n",
        "    if y1 == y2 and x2 > x1:  # 남\n",
        "        return 2\n",
        "    elif y1 == y2 and x2 < x1:  # 북\n",
        "        return 3\n",
        "    elif x1 == x2 and y2 < y1:  # 서\n",
        "        return 1\n",
        "    elif x1 == x2 and y2 > y1:  # 동\n",
        "        return 0\n",
        "\n",
        "\n",
        "from collections import deque\n",
        "\n",
        "visited = [[[0] * n for i in range(m)] for j in range(4)]  # 0 동 , 1 서 , 2 남 , 3 북\n",
        "dx = [1, -1, 0, 0]\n",
        "dy = [0, 0, 1, -1]\n",
        "d = deque()\n",
        "d.append((0, start_x, start_y, 'stop'))  # stop는 방향성이 없기 때문에 임의로 기입\n",
        "ans = float(\"inf\")\n",
        "\n",
        "for i in range(4):\n",
        "    visited[i][start_x][start_y] = 'start'\n",
        "while d:\n",
        "    cnt, x, y, direction = d.popleft()\n",
        "\n",
        "    if lis[x][y] == 'C' and (x==target_x and y==target_y):\n",
        "        ans = min(ans, cnt)\n",
        "        # print(x,y,ans)\n",
        "    for i in range(4):\n",
        "        flag = False\n",
        "        a = x + dx[i]\n",
        "        b = y + dy[i]\n",
        "\n",
        "        if (0 <= a < m and 0 <= b < n) and lis[a][b] != '*':\n",
        "            if direction == 'stop':\n",
        "                new_direction = get_direction(x, y, a, b)\n",
        "            else:\n",
        "                new_direction = get_direction(x, y, a, b)\n",
        "                if new_direction != direction:\n",
        "                    flag = True  # True면 방향이 바뀌었다는 뜻\n",
        "\n",
        "            if visited[new_direction][a][b] == 0:\n",
        "                if flag:\n",
        "                    visited[new_direction][a][b] = cnt + 1\n",
        "                    d.append((cnt + 1, a, b, new_direction))\n",
        "                    # print(\"횟수 : \",cnt+1,\"좌표와 방향 : \",(a,b),new_direction)\n",
        "                else:\n",
        "                    visited[new_direction][a][b] = cnt\n",
        "                    d.append((cnt, a, b, new_direction))\n",
        "                    # print(\"횟수 : \",cnt,\"좌표와 방향 : \",(a,b),new_direction)\n",
        "\n",
        "            elif visited[new_direction][a][b] and visited[new_direction][a][b] != 'start':\n",
        "                if flag:\n",
        "                    if visited[new_direction][a][b] > cnt + 1:\n",
        "                        visited[new_direction][a][b] = cnt + 1\n",
        "                        d.append((cnt + 1, a, b, new_direction))\n",
        "                        # print(\"횟수 : \",cnt+1,\"좌표와 방향 : \",(a,b),new_direction)\n",
        "                else:\n",
        "                    if visited[new_direction][a][b] > cnt:\n",
        "                        visited[new_direction][a][b] = cnt\n",
        "                        d.append((cnt, a, b, new_direction))\n",
        "                        # print(\"횟수 : \",cnt,\"좌표와 방향 : \",(a,b),new_direction)\n",
        "\n",
        "print(ans)\n",
        "\n",
        "\n",
        "\n"
      ],
      "metadata": {
        "id": "eMEQ5ZmdKdRw"
      },
      "execution_count": null,
      "outputs": []
    }
  ]
}