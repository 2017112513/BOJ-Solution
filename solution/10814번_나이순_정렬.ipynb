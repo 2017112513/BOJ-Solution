{
  "nbformat": 4,
  "nbformat_minor": 0,
  "metadata": {
    "colab": {
      "name": "10814번: 나이순 정렬.ipynb",
      "provenance": [],
      "authorship_tag": "ABX9TyPRjKxnFWJViZg4qeRN+dtJ",
      "include_colab_link": true
    },
    "kernelspec": {
      "name": "python3",
      "display_name": "Python 3"
    },
    "language_info": {
      "name": "python"
    }
  },
  "cells": [
    {
      "cell_type": "markdown",
      "metadata": {
        "id": "view-in-github",
        "colab_type": "text"
      },
      "source": [
        "<a href=\"https://colab.research.google.com/github/easyseop/BOJ-Solution/blob/main/10814%EB%B2%88_%EB%82%98%EC%9D%B4%EC%88%9C_%EC%A0%95%EB%A0%AC.ipynb\" target=\"_parent\"><img src=\"https://colab.research.google.com/assets/colab-badge.svg\" alt=\"Open In Colab\"/></a>"
      ]
    },
    {
      "cell_type": "code",
      "execution_count": 4,
      "metadata": {
        "colab": {
          "base_uri": "https://localhost:8080/"
        },
        "id": "fckPj_UR5Yqv",
        "outputId": "b7127f3a-f5a0-4bab-d862-3fbc5b646dff"
      },
      "outputs": [
        {
          "output_type": "stream",
          "name": "stdout",
          "text": [
            "3\n",
            "21 j\n",
            "21 d\n",
            "20 k\n",
            "[[21, 0, 'j'], [21, 1, 'd'], [20, 2, 'k']]\n",
            "20   k\n",
            "21   j\n",
            "21   d\n"
          ]
        }
      ],
      "source": [
        "n = int(input())\n",
        "arr = []\n",
        "for i in range(n):\n",
        "    a,b = input().split() \n",
        "    a = int(a)\n",
        "    arr.append([a,i,b])   \n",
        "\n",
        "print(arr)\n",
        "\n",
        "arr = sorted(arr,key =lambda x: (x[0],x[1]))\n",
        "\n",
        "for i,j,k in arr:\n",
        "    print(i,k)"
      ]
    },
    {
      "cell_type": "code",
      "source": [
        ""
      ],
      "metadata": {
        "id": "V1sBoGCk54k8"
      },
      "execution_count": null,
      "outputs": []
    }
  ]
}