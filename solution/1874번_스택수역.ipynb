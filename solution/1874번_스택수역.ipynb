{
  "nbformat": 4,
  "nbformat_minor": 0,
  "metadata": {
    "colab": {
      "name": "1874번: 스택수역.ipynb",
      "provenance": [],
      "authorship_tag": "ABX9TyNHeYK7k49UpcVIGTVaZxVv",
      "include_colab_link": true
    },
    "kernelspec": {
      "name": "python3",
      "display_name": "Python 3"
    },
    "language_info": {
      "name": "python"
    }
  },
  "cells": [
    {
      "cell_type": "markdown",
      "metadata": {
        "id": "view-in-github",
        "colab_type": "text"
      },
      "source": [
        "<a href=\"https://colab.research.google.com/github/easyseop/BOJ-Solution/blob/main/1874%EB%B2%88_%EC%8A%A4%ED%83%9D%EC%88%98%EC%97%AD.ipynb\" target=\"_parent\"><img src=\"https://colab.research.google.com/assets/colab-badge.svg\" alt=\"Open In Colab\"/></a>"
      ]
    },
    {
      "cell_type": "code",
      "execution_count": null,
      "metadata": {
        "colab": {
          "base_uri": "https://localhost:8080/"
        },
        "id": "Bz9rZDefJ_U0",
        "outputId": "7db8df91-ff31-4972-e78c-cee31fead2d0"
      },
      "outputs": [
        {
          "name": "stdout",
          "output_type": "stream",
          "text": [
            "8\n",
            "4\n",
            "3\n",
            "6\n",
            "8\n",
            "7\n",
            "5\n",
            "2\n",
            "1\n"
          ]
        }
      ],
      "source": [
        "n = int(input())\n",
        "arr = [int(input()) for i in range(n)]\n",
        "stack = []\n",
        "ans_arr = []\n",
        "ans = []\n",
        "i = 1\n",
        "while 1:\n",
        "    if i>n:\n",
        "        break\n",
        "    num = arr.pop(0)\n",
        "    \n",
        "    if i < num:\n",
        "        stack.append(i)\n",
        "        ans.append('+')\n",
        "        i+=1\n",
        "    elif i>num:\n",
        "        if stack[-1] == num:\n",
        "            ans_arr.append(stack.pop())\n",
        "            ans.append('-')\n",
        "        else:\n",
        "            print('No')\n",
        "            break\n",
        "    elif i==num:\n",
        "        ans.append('+')\n",
        "        ans.append('-')\n",
        "        ans_arr.append(i)\n",
        "    \n",
        "\n",
        "if arr!=ans_arr:\n",
        "    print('NO')\n",
        "else:\n",
        "    print('\\n'.join(ans))\n",
        "  \n",
        "    "
      ]
    },
    {
      "cell_type": "code",
      "source": [
        "stack = []\n",
        "ans_arr = []\n",
        "ans = []\n",
        "i = 1\n",
        "while 1:\n",
        "    if i>n:\n",
        "        break\n",
        "    num = arr.pop(0)\n",
        "    \n",
        "    if i < num:\n",
        "        stack.append(i)\n",
        "        ans.append('+')\n",
        "        i+=1\n",
        "    elif i>num:\n",
        "        if stack[-1] == num:\n",
        "            ans_arr.append(stack.pop())\n",
        "            ans.append('-')\n",
        "        else:\n",
        "            print('No')\n",
        "            break\n",
        "    elif i==num:\n",
        "        ans.append('+')\n",
        "        ans.append('-')\n",
        "        ans_arr.append(i)\n",
        "    \n",
        "\n",
        "if arr!=ans_arr:\n",
        "    print('NO')\n",
        "else:\n",
        "    print('\\n'.join(ans))\n",
        "  \n",
        "    "
      ],
      "metadata": {
        "colab": {
          "base_uri": "https://localhost:8080/"
        },
        "id": "TyrHaj1cKMNu",
        "outputId": "925652ef-cf81-4ec5-c593-ecea774deed9"
      },
      "execution_count": null,
      "outputs": [
        {
          "output_type": "stream",
          "name": "stdout",
          "text": [
            "No\n",
            "NO\n"
          ]
        }
      ]
    },
    {
      "cell_type": "code",
      "source": [
        "n"
      ],
      "metadata": {
        "colab": {
          "base_uri": "https://localhost:8080/"
        },
        "id": "oqiiPhS6KRJY",
        "outputId": "26c342e3-2f8a-4595-cd6c-1be8cdb7125a"
      },
      "execution_count": null,
      "outputs": [
        {
          "output_type": "execute_result",
          "data": {
            "text/plain": [
              "8"
            ]
          },
          "metadata": {},
          "execution_count": 9
        }
      ]
    },
    {
      "cell_type": "code",
      "source": [
        "arr"
      ],
      "metadata": {
        "colab": {
          "base_uri": "https://localhost:8080/"
        },
        "id": "ql7QnSClMI4g",
        "outputId": "30e5945f-0152-49f6-dd64-c3c1cc370e20"
      },
      "execution_count": null,
      "outputs": [
        {
          "output_type": "execute_result",
          "data": {
            "text/plain": [
              "[1]"
            ]
          },
          "metadata": {},
          "execution_count": 10
        }
      ]
    },
    {
      "cell_type": "code",
      "source": [
        ""
      ],
      "metadata": {
        "id": "gEptOqn1MJ8Z"
      },
      "execution_count": null,
      "outputs": []
    }
  ]
}