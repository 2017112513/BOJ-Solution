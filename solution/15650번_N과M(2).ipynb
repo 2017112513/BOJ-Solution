{
  "nbformat": 4,
  "nbformat_minor": 0,
  "metadata": {
    "colab": {
      "name": "15650번: N과M(2).ipynb",
      "provenance": [],
      "authorship_tag": "ABX9TyORzpF5fa8qRIh6Csr8oN0m",
      "include_colab_link": true
    },
    "kernelspec": {
      "name": "python3",
      "display_name": "Python 3"
    },
    "language_info": {
      "name": "python"
    }
  },
  "cells": [
    {
      "cell_type": "markdown",
      "metadata": {
        "id": "view-in-github",
        "colab_type": "text"
      },
      "source": [
        "<a href=\"https://colab.research.google.com/github/easyseop/BOJ-Solution/blob/main/15650%EB%B2%88_N%EA%B3%BCM(2).ipynb\" target=\"_parent\"><img src=\"https://colab.research.google.com/assets/colab-badge.svg\" alt=\"Open In Colab\"/></a>"
      ]
    },
    {
      "cell_type": "code",
      "source": [
        "n,m = list(map(int,input().split()))\n",
        "s = []\n",
        "4,3\n",
        "def dfs(x):\n",
        "    if len(s)==m:\n",
        "        print(*s)\n",
        "    else:\n",
        "        for i in range(x,n+1):\n",
        "            if i not in s:\n",
        "                s.append(i)\n",
        "                dfs(i)\n",
        "                s.pop()\n",
        "  dfs(1)    "
      ],
      "metadata": {
        "colab": {
          "base_uri": "https://localhost:8080/"
        },
        "id": "BITn9c61FEIY",
        "outputId": "ee93cb5a-4ebc-4002-aa1f-c2dafb1e12be"
      },
      "execution_count": 95,
      "outputs": [
        {
          "name": "stdout",
          "output_type": "stream",
          "text": [
            "4 3\n"
          ]
        }
      ]
    },
    {
      "cell_type": "code",
      "source": [
        "dfs(1)"
      ],
      "metadata": {
        "colab": {
          "base_uri": "https://localhost:8080/"
        },
        "id": "Us0Lr4ZNPjAB",
        "outputId": "825726bf-7579-481f-b674-afcc463b989a"
      },
      "execution_count": 96,
      "outputs": [
        {
          "output_type": "stream",
          "name": "stdout",
          "text": [
            "1 2 3\n",
            "1 2 4\n",
            "1 3 4\n",
            "2 3 4\n"
          ]
        }
      ]
    },
    {
      "cell_type": "code",
      "source": [
        ""
      ],
      "metadata": {
        "id": "7st_lzrQPlv0"
      },
      "execution_count": null,
      "outputs": []
    }
  ]
}