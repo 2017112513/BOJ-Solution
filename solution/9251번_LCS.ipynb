{
  "nbformat": 4,
  "nbformat_minor": 0,
  "metadata": {
    "colab": {
      "name": "9251번: LCS.ipynb",
      "provenance": [],
      "authorship_tag": "ABX9TyMV9BVHd7cnATkH/7cnrC93",
      "include_colab_link": true
    },
    "kernelspec": {
      "name": "python3",
      "display_name": "Python 3"
    },
    "language_info": {
      "name": "python"
    }
  },
  "cells": [
    {
      "cell_type": "markdown",
      "metadata": {
        "id": "view-in-github",
        "colab_type": "text"
      },
      "source": [
        "<a href=\"https://colab.research.google.com/github/easyseop/BOJ-Solution/blob/main/9251%EB%B2%88_LCS.ipynb\" target=\"_parent\"><img src=\"https://colab.research.google.com/assets/colab-badge.svg\" alt=\"Open In Colab\"/></a>"
      ]
    },
    {
      "cell_type": "code",
      "execution_count": 1,
      "metadata": {
        "colab": {
          "base_uri": "https://localhost:8080/"
        },
        "id": "aolLLFHeccw6",
        "outputId": "cb2a13fb-f0f0-4748-e497-b4e53953ea6e"
      },
      "outputs": [
        {
          "name": "stdout",
          "output_type": "stream",
          "text": [
            "ACAYKP\n",
            "CAPCAK\n"
          ]
        }
      ],
      "source": [
        "a = input()\n",
        "b = input()\n",
        "\n",
        "if len(a)>=len(b):\n",
        "     lg=a\n",
        "     st=b\n",
        "else:\n",
        "     lg=b\n",
        "     st=a\n",
        "\n",
        "lcs = [[0]*(len(st)+1) for _ in range(len(lg)+1)]\n",
        "lcs[0][1]= 0\n",
        "lcs[1][0]= 0\n",
        "for i in range(len(lg)):\n",
        "    for j in range(len(st)):\n",
        "        if lg[i]==st[j]:\n",
        "            lcs[i][j]=lcs[i-1][j-1]+1 \n",
        "        else:\n",
        "            lcs[i][j]=max(lcs[i][j-1],lcs[i-1][j])\n",
        "print(lcs[len(lg)-1][len(st)-1])"
      ]
    },
    {
      "cell_type": "code",
      "source": [
        "lcs"
      ],
      "metadata": {
        "colab": {
          "base_uri": "https://localhost:8080/"
        },
        "id": "hFrxvYU8jDYv",
        "outputId": "31677409-8130-4d9a-f3c4-979941d3df01"
      },
      "execution_count": 37,
      "outputs": [
        {
          "output_type": "execute_result",
          "data": {
            "text/plain": [
              "[[0, 1, 1, 1, 1, 1, 0],\n",
              " [1, 1, 1, 2, 2, 2, 0],\n",
              " [1, 2, 2, 2, 3, 3, 0],\n",
              " [1, 2, 2, 2, 3, 3, 0],\n",
              " [1, 2, 2, 2, 3, 4, 0],\n",
              " [1, 2, 3, 3, 3, 4, 0],\n",
              " [0, 0, 0, 0, 0, 0, 0]]"
            ]
          },
          "metadata": {},
          "execution_count": 37
        }
      ]
    },
    {
      "cell_type": "code",
      "source": [
        "lcs"
      ],
      "metadata": {
        "colab": {
          "base_uri": "https://localhost:8080/"
        },
        "id": "q5z_hcwfjJTD",
        "outputId": "d8542942-e038-4258-fa3f-6264dcbb2fc8"
      },
      "execution_count": 29,
      "outputs": [
        {
          "output_type": "execute_result",
          "data": {
            "text/plain": [
              "[[0, 1, 1, 1, 1, 1, 0],\n",
              " [1, 1, 1, 2, 2, 2, 0],\n",
              " [1, 2, 2, 2, 3, 3, 0],\n",
              " [1, 2, 2, 2, 3, 3, 0],\n",
              " [1, 2, 2, 2, 3, 4, 0],\n",
              " [1, 2, 3, 3, 3, 4, 0],\n",
              " [0, 0, 0, 0, 0, 0, 0]]"
            ]
          },
          "metadata": {},
          "execution_count": 29
        }
      ]
    },
    {
      "cell_type": "code",
      "source": [
        ""
      ],
      "metadata": {
        "id": "nGWMIxuTwF0m"
      },
      "execution_count": null,
      "outputs": []
    }
  ]
}