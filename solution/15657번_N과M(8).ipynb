{
  "nbformat": 4,
  "nbformat_minor": 0,
  "metadata": {
    "colab": {
      "name": "15657번: N과M(8).ipynb",
      "provenance": [],
      "authorship_tag": "ABX9TyNmjkHZ2ArrS76DojjmDFwW",
      "include_colab_link": true
    },
    "kernelspec": {
      "name": "python3",
      "display_name": "Python 3"
    },
    "language_info": {
      "name": "python"
    }
  },
  "cells": [
    {
      "cell_type": "markdown",
      "metadata": {
        "id": "view-in-github",
        "colab_type": "text"
      },
      "source": [
        "<a href=\"https://colab.research.google.com/github/easyseop/BOJ-Solution/blob/main/15657%EB%B2%88_N%EA%B3%BCM(8).ipynb\" target=\"_parent\"><img src=\"https://colab.research.google.com/assets/colab-badge.svg\" alt=\"Open In Colab\"/></a>"
      ]
    },
    {
      "cell_type": "code",
      "execution_count": null,
      "metadata": {
        "id": "nJXlIik1b2sG"
      },
      "outputs": [],
      "source": [
        "from itertools import combinations\n",
        "n,m = map(int,input().split())\n",
        "arr = sorted(list(map(int,input().split())))\n",
        "lis =[]\n",
        "def dfs(cnt,idx,n,m):\n",
        "    if cnt == m:\n",
        "        print(*lis)\n",
        "        return\n",
        "    for i in range(idx,n):\n",
        "        lis.append(arr[i])\n",
        "        dfs(cnt+1,i,n,m)\n",
        "        lis.pop()\n",
        "dfs(0,0,n,m)"
      ]
    },
    {
      "cell_type": "code",
      "source": [
        "arr"
      ],
      "metadata": {
        "colab": {
          "base_uri": "https://localhost:8080/"
        },
        "id": "t5pBePZEcivQ",
        "outputId": "e5677443-b014-4287-cc2f-2d68ff66edb5"
      },
      "execution_count": 3,
      "outputs": [
        {
          "output_type": "execute_result",
          "data": {
            "text/plain": [
              "[1, 7, 8, 9]"
            ]
          },
          "metadata": {},
          "execution_count": 3
        }
      ]
    },
    {
      "cell_type": "code",
      "source": [
        ""
      ],
      "metadata": {
        "id": "rFnK6ShelLQE"
      },
      "execution_count": null,
      "outputs": []
    },
    {
      "cell_type": "code",
      "source": [
        "k"
      ],
      "metadata": {
        "colab": {
          "base_uri": "https://localhost:8080/"
        },
        "id": "9U6CeEkWdmxE",
        "outputId": "80c397cd-131e-43ef-c687-2f3065ae4b87"
      },
      "execution_count": 4,
      "outputs": [
        {
          "output_type": "execute_result",
          "data": {
            "text/plain": [
              "[1, 7, 8, 9]"
            ]
          },
          "metadata": {},
          "execution_count": 4
        }
      ]
    },
    {
      "cell_type": "code",
      "source": [
        ""
      ],
      "metadata": {
        "id": "gAKETvX7j0RS"
      },
      "execution_count": null,
      "outputs": []
    }
  ]
}