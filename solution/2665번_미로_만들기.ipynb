{
  "nbformat": 4,
  "nbformat_minor": 0,
  "metadata": {
    "colab": {
      "name": "2665번: 미로 만들기.ipynb",
      "provenance": [],
      "authorship_tag": "ABX9TyPGQSXsFYuYb/BYtBIa+IZl",
      "include_colab_link": true
    },
    "kernelspec": {
      "name": "python3",
      "display_name": "Python 3"
    },
    "language_info": {
      "name": "python"
    }
  },
  "cells": [
    {
      "cell_type": "markdown",
      "metadata": {
        "id": "view-in-github",
        "colab_type": "text"
      },
      "source": [
        "<a href=\"https://colab.research.google.com/github/easyseop/BOJ-Solution/blob/main/2665%EB%B2%88_%EB%AF%B8%EB%A1%9C_%EB%A7%8C%EB%93%A4%EA%B8%B0.ipynb\" target=\"_parent\"><img src=\"https://colab.research.google.com/assets/colab-badge.svg\" alt=\"Open In Colab\"/></a>"
      ]
    },
    {
      "cell_type": "code",
      "execution_count": 1,
      "metadata": {
        "colab": {
          "base_uri": "https://localhost:8080/"
        },
        "id": "xBvGv1p81-_A",
        "outputId": "63f1b354-7335-4b1f-e224-d6c56f7db38e"
      },
      "outputs": [
        {
          "name": "stdout",
          "output_type": "stream",
          "text": [
            "8\n",
            "11100110\n",
            "11010010\n",
            "10011010\n",
            "11101100\n",
            "01000111\n",
            "00110001\n",
            "11011000\n",
            "11000111\n"
          ]
        }
      ],
      "source": [
        "n = int(input())\n",
        "lis = [list(input()) for i in range(n)]\n",
        "\n",
        "\n",
        "from heapq import heappop,heappush\n",
        "visited = [[0]*n for i in range(n)]\n",
        "dx = [1,-1,0,0]\n",
        "dy = [0,0,1,-1]\n",
        "h = []\n",
        "start_x,start_y = 0,0\n",
        "target_x,target_y = n-1,n-1\n",
        "visited[start_x][start_y] = 1\n",
        "heappush(h,(0,start_x,start_y))\n",
        "\n",
        "while h:\n",
        "    cnt,x,y = heappop(h)\n",
        "    \n",
        "    if x==target_x and y==target_y:\n",
        "       \n",
        "        ans = cnt \n",
        "        break\n",
        "        \n",
        "    for i in range(4):\n",
        "        a = x+dx[i]\n",
        "        b = y+dy[i]\n",
        "        if (0<=a<n and 0<=b<n) and visited[a][b]==0:\n",
        "            visited[a][b]=1\n",
        "            if lis[a][b] == '1' :\n",
        "                heappush(h,(cnt,a,b))\n",
        "            elif lis[a][b] =='0':\n",
        "                heappush(h,(cnt+1,a,b))\n",
        "\n",
        "\n",
        "print(ans)"
      ]
    },
    {
      "cell_type": "code",
      "source": [
        ""
      ],
      "metadata": {
        "id": "uA1dsqab5_cN"
      },
      "execution_count": null,
      "outputs": []
    }
  ]
}