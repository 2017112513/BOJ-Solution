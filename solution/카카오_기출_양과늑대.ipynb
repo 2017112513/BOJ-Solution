{
  "nbformat": 4,
  "nbformat_minor": 0,
  "metadata": {
    "colab": {
      "name": "카카오_기출_양과늑대.ipynb",
      "provenance": [],
      "authorship_tag": "ABX9TyNeGBQJpNGeOeIWtmVS8Fqh",
      "include_colab_link": true
    },
    "kernelspec": {
      "name": "python3",
      "display_name": "Python 3"
    },
    "language_info": {
      "name": "python"
    }
  },
  "cells": [
    {
      "cell_type": "markdown",
      "metadata": {
        "id": "view-in-github",
        "colab_type": "text"
      },
      "source": [
        "<a href=\"https://colab.research.google.com/github/easyseop/BOJ-Solution/blob/main/%EC%B9%B4%EC%B9%B4%EC%98%A4_%EA%B8%B0%EC%B6%9C_%EC%96%91%EA%B3%BC%EB%8A%91%EB%8C%80.ipynb\" target=\"_parent\"><img src=\"https://colab.research.google.com/assets/colab-badge.svg\" alt=\"Open In Colab\"/></a>"
      ]
    },
    {
      "cell_type": "code",
      "execution_count": null,
      "metadata": {
        "id": "dujm6uJC45G6"
      },
      "outputs": [],
      "source": [
        "def solution(edges,info):\n",
        "    from collections import defaultdict , deque\n",
        "    from copy import deepcopy\n",
        "    dic = defaultdict(list)\n",
        "    for i,j in edges:\n",
        "        dic[i].append(j)\n",
        "        dic[j].append(i)\n",
        "    d = deque()\n",
        "    d.append([1,0,0,info]) \n",
        "    info[0] = -1\n",
        "    visited = []\n",
        "    visited.append([1,0,0,info])\n",
        "    #sheep,wolf, node \n",
        "    ans = 0\n",
        "    while d:\n",
        "        \n",
        "        sheep,wolf,curr_node,info = d.popleft()\n",
        "        print(sheep,wolf,curr_node,info)\n",
        "        if wolf == sheep: \n",
        "            continue\n",
        "        ans = max(ans,sheep)\n",
        "    \n",
        "        for i in dic[curr_node]:\n",
        "            if info[i] ==1 : \n",
        "                new_info = deepcopy(info)\n",
        "                new_info[i] = -1 \n",
        "                if [sheep,wolf+1,i,info] not in visited:\n",
        "                    d.append([sheep,wolf+1,i,new_info])\n",
        "                    visited.append([sheep,wolf+1,i,new_info])\n",
        "            elif info[i] == 0:\n",
        "\n",
        "                new_info = deepcopy(info)\n",
        "                new_info[i] = -1\n",
        "                if [sheep+1,wolf,i,info] not in visited:\n",
        "                    visited.append([sheep+1,wolf,i,new_info])\n",
        "                    d.append([sheep+1,wolf,i,new_info])\n",
        "\n",
        "            else:\n",
        "                if [sheep,wolf,i,info] not in  visited:\n",
        "                    visited.append([sheep,wolf,i,info])\n",
        "                    d.append([sheep,wolf,i,info])\n",
        "\n",
        "    return ans"
      ]
    }
  ]
}