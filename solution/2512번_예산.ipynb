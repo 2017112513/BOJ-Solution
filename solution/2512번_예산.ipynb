{
  "nbformat": 4,
  "nbformat_minor": 0,
  "metadata": {
    "colab": {
      "name": "2512번:예산.ipynb",
      "provenance": [],
      "authorship_tag": "ABX9TyP2FnBOqJB9gCd76vMwsEco",
      "include_colab_link": true
    },
    "kernelspec": {
      "name": "python3",
      "display_name": "Python 3"
    },
    "language_info": {
      "name": "python"
    }
  },
  "cells": [
    {
      "cell_type": "markdown",
      "metadata": {
        "id": "view-in-github",
        "colab_type": "text"
      },
      "source": [
        "<a href=\"https://colab.research.google.com/github/easyseop/BOJ-Solution/blob/main/2512%EB%B2%88_%EC%98%88%EC%82%B0.ipynb\" target=\"_parent\"><img src=\"https://colab.research.google.com/assets/colab-badge.svg\" alt=\"Open In Colab\"/></a>"
      ]
    },
    {
      "cell_type": "code",
      "execution_count": null,
      "metadata": {
        "id": "9ROeUNYC8le_"
      },
      "outputs": [],
      "source": [
        "\n",
        "N = int(input())\n",
        "arr = sorted(list(map(int,input().split())))\n",
        "lis = [i for i in range(1,max(arr)+1)]\n",
        "total = int(input())\n",
        "if sum(arr)<=total:\n",
        "    print(max(arr))\n",
        "\n",
        "else:\n",
        "    ans = 0\n",
        "    start = 1\n",
        "    end = len(lis)-1 \n",
        "    while start<=end:\n",
        "        mid = (start+end)//2\n",
        "        \n",
        "        s = 0\n",
        "    \n",
        "        for j in arr:\n",
        "            if j<=mid:\n",
        "                s+=j\n",
        "            else:\n",
        "                s+=mid\n",
        "        \n",
        "        if s<=total:\n",
        "            ans = max(ans,mid)\n",
        "            start = mid+1\n",
        "        else:\n",
        "            end = mid-1\n",
        "\n",
        "    print(ans)"
      ]
    }
  ]
}