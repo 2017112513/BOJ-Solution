{
  "nbformat": 4,
  "nbformat_minor": 0,
  "metadata": {
    "colab": {
      "name": "1149번:RGB거리.ipynb",
      "provenance": [],
      "authorship_tag": "ABX9TyMpwL+uAyFmAICWEu3mxq5X",
      "include_colab_link": true
    },
    "kernelspec": {
      "name": "python3",
      "display_name": "Python 3"
    },
    "language_info": {
      "name": "python"
    }
  },
  "cells": [
    {
      "cell_type": "markdown",
      "metadata": {
        "id": "view-in-github",
        "colab_type": "text"
      },
      "source": [
        "<a href=\"https://colab.research.google.com/github/easyseop/BOJ-Solution/blob/main/1149%EB%B2%88_RGB%EA%B1%B0%EB%A6%AC.ipynb\" target=\"_parent\"><img src=\"https://colab.research.google.com/assets/colab-badge.svg\" alt=\"Open In Colab\"/></a>"
      ]
    },
    {
      "cell_type": "code",
      "execution_count": 1,
      "metadata": {
        "colab": {
          "base_uri": "https://localhost:8080/"
        },
        "id": "otpXxVpNiMUD",
        "outputId": "7aaed370-049a-4f7a-f3e9-8a0d3be70f20"
      },
      "outputs": [
        {
          "name": "stdout",
          "output_type": "stream",
          "text": [
            "26 40 83\n",
            "49 60 57\n",
            "13 89 99\n"
          ]
        }
      ],
      "source": [
        "n = int(input())\n",
        "arr = [ list(map(int,input().split())) for _ in range(n)] \n",
        "for i in range(1,n):\n",
        "    arr[i][0] = arr[i][0] + min(arr[i-1][1],arr[i-1][2]) # 현재가 R일때\n",
        "    arr[i][1] = arr[i][1] + min(arr[i-1][0],arr[i-1][2])\n",
        "    arr[i][2] = arr[i][2] + min(arr[i-1][0],arr[i-1][1])\n",
        "\n",
        "print(min(arr[-1]))"
      ]
    },
    {
      "cell_type": "code",
      "source": [
        "arr"
      ],
      "metadata": {
        "colab": {
          "base_uri": "https://localhost:8080/"
        },
        "id": "G2adlbNGpEHt",
        "outputId": "1cd0485e-abf1-430d-c57b-1acb72590daa"
      },
      "execution_count": 11,
      "outputs": [
        {
          "output_type": "execute_result",
          "data": {
            "text/plain": [
              "[[26, 40, 83], [89, 86, 83], [96, 172, 185]]"
            ]
          },
          "metadata": {},
          "execution_count": 11
        }
      ]
    },
    {
      "cell_type": "code",
      "source": [
        ""
      ],
      "metadata": {
        "id": "kIxz68HGpXCd"
      },
      "execution_count": null,
      "outputs": []
    }
  ]
}