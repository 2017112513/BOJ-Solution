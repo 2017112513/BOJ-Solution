{
  "nbformat": 4,
  "nbformat_minor": 0,
  "metadata": {
    "colab": {
      "name": "2156번:포도주 시식ipynb",
      "provenance": [],
      "authorship_tag": "ABX9TyOct0LHRXoyXuD2an03wPO8",
      "include_colab_link": true
    },
    "kernelspec": {
      "name": "python3",
      "display_name": "Python 3"
    },
    "language_info": {
      "name": "python"
    }
  },
  "cells": [
    {
      "cell_type": "markdown",
      "metadata": {
        "id": "view-in-github",
        "colab_type": "text"
      },
      "source": [
        "<a href=\"https://colab.research.google.com/github/easyseop/BOJ-Solution/blob/main/2156%EB%B2%88_%ED%8F%AC%EB%8F%84%EC%A3%BC_%EC%8B%9C%EC%8B%9Dipynb.ipynb\" target=\"_parent\"><img src=\"https://colab.research.google.com/assets/colab-badge.svg\" alt=\"Open In Colab\"/></a>"
      ]
    },
    {
      "cell_type": "code",
      "source": [
        "n = int(input())\n",
        "lis = [int(input()) for _ in range(n)]\n",
        "dp= [0]*n\n",
        "if n<3:\n",
        "  print(sum(lis))\n",
        "else:\n",
        "  dp[0] = lis[0]\n",
        "  dp[1] = lis[0] + lis[1]\n",
        "  dp[2] = max(lis[0]+lis[2],lis[1]+lis[2],lis[0]+lis[1])\n",
        "\n",
        "  for i in range(3,n):\n",
        "    dp[i]=max(dp[i-2]+lis[i],dp[i-3]+lis[i]+lis[i-1],dp[i-1])\n",
        "  print(max(dp))"
      ],
      "metadata": {
        "colab": {
          "base_uri": "https://localhost:8080/"
        },
        "id": "FSGU3XoM7ben",
        "outputId": "d12c39e4-0c49-4457-9fef-65c34dc3ba73"
      },
      "execution_count": 19,
      "outputs": [
        {
          "output_type": "stream",
          "name": "stdout",
          "text": [
            "6\n",
            "6\n",
            "10\n",
            "13\n",
            "9\n",
            "8\n",
            "1\n",
            "33\n"
          ]
        }
      ]
    },
    {
      "cell_type": "code",
      "source": [
        ""
      ],
      "metadata": {
        "colab": {
          "base_uri": "https://localhost:8080/"
        },
        "id": "bHJ2bal1COOu",
        "outputId": "9a6167ca-4bc5-4b8f-fce0-bc883b15d278"
      },
      "execution_count": 20,
      "outputs": [
        {
          "output_type": "execute_result",
          "data": {
            "text/plain": [
              "[6, 16, 23, 28, 33, 32]"
            ]
          },
          "metadata": {},
          "execution_count": 20
        }
      ]
    },
    {
      "cell_type": "code",
      "source": [
        ""
      ],
      "metadata": {
        "id": "T2uRTuYvCPWT"
      },
      "execution_count": null,
      "outputs": []
    }
  ]
}