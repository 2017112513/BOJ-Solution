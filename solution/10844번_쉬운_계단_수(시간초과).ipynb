{
  "nbformat": 4,
  "nbformat_minor": 0,
  "metadata": {
    "colab": {
      "name": "10844번: 쉬운 계단 수(시간초과).ipynb",
      "provenance": [],
      "collapsed_sections": [],
      "authorship_tag": "ABX9TyNF82KZSgaVif/0fXZG30n3",
      "include_colab_link": true
    },
    "kernelspec": {
      "name": "python3",
      "display_name": "Python 3"
    },
    "language_info": {
      "name": "python"
    }
  },
  "cells": [
    {
      "cell_type": "markdown",
      "metadata": {
        "id": "view-in-github",
        "colab_type": "text"
      },
      "source": [
        "<a href=\"https://colab.research.google.com/github/easyseop/BOJ-Solution/blob/main/10844%EB%B2%88_%EC%89%AC%EC%9A%B4_%EA%B3%84%EB%8B%A8_%EC%88%98(%EC%8B%9C%EA%B0%84%EC%B4%88%EA%B3%BC).ipynb\" target=\"_parent\"><img src=\"https://colab.research.google.com/assets/colab-badge.svg\" alt=\"Open In Colab\"/></a>"
      ]
    },
    {
      "cell_type": "code",
      "execution_count": null,
      "metadata": {
        "colab": {
          "base_uri": "https://localhost:8080/"
        },
        "id": "RRo6Nyj5G6bd",
        "outputId": "79533493-a871-4a4e-c538-431041718088"
      },
      "outputs": [
        {
          "output_type": "stream",
          "name": "stdout",
          "text": [
            "3\n",
            "32\n"
          ]
        }
      ],
      "source": [
        "n = int(input())\n",
        "lis = [str(i) for i in range(1,10)]\n",
        "start=0\n",
        "if n == 1:\n",
        "    print(9)\n",
        "else:\n",
        "    k=2\n",
        "    while k<=n:\n",
        "        long = len(lis)\n",
        "        for i in range(start,long):\n",
        "            end = int(lis[i][-1])\n",
        "            if end==0:\n",
        "                add = lis[i]+str(end+1)\n",
        "                lis.append(add)\n",
        "            elif end==9:\n",
        "                add = lis[i]+str(end-1)\n",
        "                lis.append(add)\n",
        "            else:\n",
        "\n",
        "                add1= lis[i]+str(end-1)\n",
        "                add2= lis[i]+str(end+1)\n",
        "                lis.append(add1)\n",
        "                lis.append(add2)\n",
        "        start=long\n",
        "        k+=1\n",
        "\n",
        "    cnt=len(lis)-long\n",
        "    print(cnt%1000000000)"
      ]
    },
    {
      "cell_type": "code",
      "source": [
        "from collections import deque\n",
        "n = int(input())\n",
        "\n",
        "lis = [str(i) for i in range(1,10)]\n",
        "lis = deque(lis)\n",
        "start=0\n",
        "if n == 1:\n",
        "    print(9)\n",
        "else:\n",
        "    k=2\n",
        "    while k<=n:\n",
        "        d_end=lis[-1]\n",
        "        while 1:\n",
        "            p = lis.popleft()\n",
        "            end = int(p[-1])\n",
        "            if end==0:\n",
        "                add = p+str(end+1)\n",
        "                lis.append(add)\n",
        "            elif end==9:\n",
        "                add = p+str(end-1)\n",
        "                lis.append(add)\n",
        "            else:\n",
        "\n",
        "                add1= p+str(end-1)\n",
        "                add2= p+str(end+1)\n",
        "                lis.append(add1)\n",
        "                lis.append(add2)\n",
        "            if p==d_end:\n",
        "              k+=1\n",
        "              break\n",
        "\n",
        "    print(len(lis)%1000000000)"
      ],
      "metadata": {
        "colab": {
          "base_uri": "https://localhost:8080/"
        },
        "id": "K0tDvk0zHJmM",
        "outputId": "031723cf-226b-4cc0-d961-cd613c7e89ac"
      },
      "execution_count": null,
      "outputs": [
        {
          "output_type": "stream",
          "name": "stdout",
          "text": [
            "3\n",
            "32\n"
          ]
        }
      ]
    },
    {
      "cell_type": "code",
      "source": [
        "lis"
      ],
      "metadata": {
        "colab": {
          "base_uri": "https://localhost:8080/"
        },
        "id": "PGCWvhscHgQD",
        "outputId": "3df1fba4-4c27-474f-fe0b-d5bc59ce0b50"
      },
      "execution_count": null,
      "outputs": [
        {
          "output_type": "execute_result",
          "data": {
            "text/plain": [
              "deque(['10',\n",
              "       '12',\n",
              "       '21',\n",
              "       '23',\n",
              "       '32',\n",
              "       '34',\n",
              "       '43',\n",
              "       '45',\n",
              "       '54',\n",
              "       '56',\n",
              "       '65',\n",
              "       '67',\n",
              "       '76',\n",
              "       '78',\n",
              "       '87',\n",
              "       '89',\n",
              "       '98'])"
            ]
          },
          "metadata": {},
          "execution_count": 12
        }
      ]
    },
    {
      "cell_type": "code",
      "source": [
        "len(lis)-long"
      ],
      "metadata": {
        "colab": {
          "base_uri": "https://localhost:8080/"
        },
        "id": "kFGC-IjCK40K",
        "outputId": "b4c96cc4-b664-47c3-b4cd-41053eee8a2e"
      },
      "execution_count": null,
      "outputs": [
        {
          "output_type": "execute_result",
          "data": {
            "text/plain": [
              "17"
            ]
          },
          "metadata": {},
          "execution_count": 51
        }
      ]
    },
    {
      "cell_type": "code",
      "source": [
        ""
      ],
      "metadata": {
        "id": "9ArFGPaBK7JK"
      },
      "execution_count": null,
      "outputs": []
    }
  ]
}