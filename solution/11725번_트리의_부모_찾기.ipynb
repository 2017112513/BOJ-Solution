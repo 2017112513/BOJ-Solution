{
  "nbformat": 4,
  "nbformat_minor": 0,
  "metadata": {
    "colab": {
      "name": "11725번:트리의 부모 찾기.ipynb",
      "provenance": [],
      "authorship_tag": "ABX9TyM1NV5Az3HqqYiL/AITuUvo",
      "include_colab_link": true
    },
    "kernelspec": {
      "name": "python3",
      "display_name": "Python 3"
    },
    "language_info": {
      "name": "python"
    }
  },
  "cells": [
    {
      "cell_type": "markdown",
      "metadata": {
        "id": "view-in-github",
        "colab_type": "text"
      },
      "source": [
        "<a href=\"https://colab.research.google.com/github/easyseop/BOJ-Solution/blob/main/11725%EB%B2%88_%ED%8A%B8%EB%A6%AC%EC%9D%98_%EB%B6%80%EB%AA%A8_%EC%B0%BE%EA%B8%B0.ipynb\" target=\"_parent\"><img src=\"https://colab.research.google.com/assets/colab-badge.svg\" alt=\"Open In Colab\"/></a>"
      ]
    },
    {
      "cell_type": "code",
      "execution_count": 17,
      "metadata": {
        "colab": {
          "base_uri": "https://localhost:8080/"
        },
        "id": "FSc2q84qys0U",
        "outputId": "0c204491-4f2c-44b4-a70b-1ea7bc3530f3"
      },
      "outputs": [
        {
          "output_type": "stream",
          "name": "stdout",
          "text": [
            "7\n",
            "1 6\n",
            "6 3\n",
            "3 5\n",
            "4 1\n",
            "2 4\n",
            "4 7\n",
            "0\n",
            "0\n",
            "0\n",
            "0\n",
            "0\n",
            "0\n"
          ]
        }
      ],
      "source": [
        "n = int(input())\n",
        "\n",
        "arr = [[] for _ in range(n+1)]\n",
        "\n",
        "for i in range(n-1):\n",
        "    a,b = map(int,input().split())\n",
        "    arr[a].append(b)\n",
        "    arr[b].append(a)\n",
        "\n",
        "root = 1\n",
        "visited = [0]*(n+1)\n",
        "root_list = [0]*(n+1)\n",
        "def dfs(x):\n",
        "    visited[x] = 1 \n",
        "    for i in arr[x]:\n",
        "        if not visited[i]:\n",
        "            root_list[i] = x\n",
        "            dfs(i)\n",
        "dfs(root)\n",
        "for i in root_list[2:]:\n",
        "    print(i)"
      ]
    },
    {
      "cell_type": "code",
      "source": [
        "for i in range(n-1):\n",
        "    a,b = map(int,input().split())\n",
        "    arr[a].append(b)\n",
        "    arr[b].append(a)\n",
        "\n",
        "root = 1\n",
        "visited = [0]*(n+1)\n",
        "root_list = [0]*(n+1)\n",
        "def dfs(x):\n",
        "    visited[x] = 1 \n",
        "    for i in arr[x]:\n",
        "        if not visited[i]:\n",
        "            root_list[i] = x\n",
        "            dfs(i)\n",
        "\n",
        "for i in root_list:\n",
        "    print(i,end='/n')"
      ],
      "metadata": {
        "colab": {
          "base_uri": "https://localhost:8080/"
        },
        "id": "P_HUN9jTzbYW",
        "outputId": "b73167b5-591c-4eb1-e100-f0f8edd3e459"
      },
      "execution_count": 7,
      "outputs": [
        {
          "name": "stdout",
          "output_type": "stream",
          "text": [
            "1 6\n",
            "6 3\n",
            "3 5\n",
            "4 1\n",
            "2 4\n",
            "4 7\n"
          ]
        }
      ]
    },
    {
      "cell_type": "code",
      "source": [
        "root = 1\n",
        "visited = [0]*(n+1)\n",
        "root_list = [0]*(n+1)\n",
        "def dfs(x):\n",
        "    visited[x] = 1 \n",
        "    for i in arr[x]:\n",
        "        if not visited[i]:\n",
        "            root_list[i] = x\n",
        "            dfs(i)\n",
        "\n",
        "for i in root_list[2:]:\n",
        "    print(i,end='/n')"
      ],
      "metadata": {
        "id": "bU8P3Cgzzr4u"
      },
      "execution_count": 9,
      "outputs": []
    },
    {
      "cell_type": "code",
      "source": [
        "for i in root_list:\n",
        "    print(i,end='/n')"
      ],
      "metadata": {
        "colab": {
          "base_uri": "https://localhost:8080/",
          "height": 185
        },
        "id": "XEfCRXVUz_aP",
        "outputId": "8c8c43f2-0790-49e8-a89d-3e648392719c"
      },
      "execution_count": 15,
      "outputs": [
        {
          "output_type": "error",
          "ename": "TypeError",
          "evalue": "ignored",
          "traceback": [
            "\u001b[0;31m---------------------------------------------------------------------------\u001b[0m",
            "\u001b[0;31mTypeError\u001b[0m                                 Traceback (most recent call last)",
            "\u001b[0;32m<ipython-input-15-e9cd52856d40>\u001b[0m in \u001b[0;36m<module>\u001b[0;34m()\u001b[0m\n\u001b[1;32m      1\u001b[0m \u001b[0mans\u001b[0m\u001b[0;34m=\u001b[0m\u001b[0mdfs\u001b[0m\u001b[0;34m(\u001b[0m\u001b[0mroot\u001b[0m\u001b[0;34m)\u001b[0m\u001b[0;34m\u001b[0m\u001b[0;34m\u001b[0m\u001b[0m\n\u001b[0;32m----> 2\u001b[0;31m \u001b[0mprint\u001b[0m\u001b[0;34m(\u001b[0m\u001b[0;34m*\u001b[0m\u001b[0mans\u001b[0m\u001b[0;34m)\u001b[0m\u001b[0;34m\u001b[0m\u001b[0;34m\u001b[0m\u001b[0m\n\u001b[0m",
            "\u001b[0;31mTypeError\u001b[0m: print() argument after * must be an iterable, not NoneType"
          ]
        }
      ]
    },
    {
      "cell_type": "code",
      "source": [
        "visited"
      ],
      "metadata": {
        "colab": {
          "base_uri": "https://localhost:8080/"
        },
        "id": "A6Et3ke20vyk",
        "outputId": "45c2cff1-6863-4ebb-c2de-7313fcb8365c"
      },
      "execution_count": 13,
      "outputs": [
        {
          "output_type": "execute_result",
          "data": {
            "text/plain": [
              "[0, 1, 1, 1, 1, 1, 1, 1]"
            ]
          },
          "metadata": {},
          "execution_count": 13
        }
      ]
    },
    {
      "cell_type": "code",
      "source": [
        "root_list"
      ],
      "metadata": {
        "colab": {
          "base_uri": "https://localhost:8080/"
        },
        "id": "K_Dd1fox0x7f",
        "outputId": "f3f0d0a7-d4c6-4184-8ee5-83b6589be622"
      },
      "execution_count": 14,
      "outputs": [
        {
          "output_type": "execute_result",
          "data": {
            "text/plain": [
              "[0, 0, 4, 6, 1, 3, 1, 4]"
            ]
          },
          "metadata": {},
          "execution_count": 14
        }
      ]
    },
    {
      "cell_type": "code",
      "source": [
        ""
      ],
      "metadata": {
        "id": "dBTNl7Bw01hw"
      },
      "execution_count": null,
      "outputs": []
    }
  ]
}