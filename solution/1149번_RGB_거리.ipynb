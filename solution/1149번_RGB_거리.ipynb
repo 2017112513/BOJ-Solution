{
  "nbformat": 4,
  "nbformat_minor": 0,
  "metadata": {
    "colab": {
      "name": "1149번: RGB 거리.ipynb",
      "provenance": [],
      "authorship_tag": "ABX9TyP7b1rtQwoWbgAEpSxeINXK",
      "include_colab_link": true
    },
    "kernelspec": {
      "name": "python3",
      "display_name": "Python 3"
    },
    "language_info": {
      "name": "python"
    }
  },
  "cells": [
    {
      "cell_type": "markdown",
      "metadata": {
        "id": "view-in-github",
        "colab_type": "text"
      },
      "source": [
        "<a href=\"https://colab.research.google.com/github/easyseop/BOJ-Solution/blob/main/1149%EB%B2%88_RGB_%EA%B1%B0%EB%A6%AC.ipynb\" target=\"_parent\"><img src=\"https://colab.research.google.com/assets/colab-badge.svg\" alt=\"Open In Colab\"/></a>"
      ]
    },
    {
      "cell_type": "code",
      "execution_count": 1,
      "metadata": {
        "colab": {
          "base_uri": "https://localhost:8080/"
        },
        "id": "box5F4bCFVuu",
        "outputId": "3e8aba3e-16eb-4d40-a153-d906c9871fa6"
      },
      "outputs": [
        {
          "name": "stdout",
          "output_type": "stream",
          "text": [
            "3\n",
            "26 40 83\n",
            "49 60 57\n",
            "13 89 99\n"
          ]
        }
      ],
      "source": [
        "n=int(input())\n",
        "lis=  [list(map(int,input().split())) for _ in range(n)]\n",
        "for i in range(1,n):\n",
        "  lis[i][0] += min(lis[i-1][1],lis[i-1][2])\n",
        "  lis[i][1] += min(lis[i-1][0],lis[i-1][2])\n",
        "  lis[i][2] += min(lis[i-1][0],lis[i-1][1])\n",
        "print(min(lis[n-1]))"
      ]
    },
    {
      "cell_type": "code",
      "source": [
        ""
      ],
      "metadata": {
        "id": "TWok5sU1Unc0"
      },
      "execution_count": null,
      "outputs": []
    }
  ]
}