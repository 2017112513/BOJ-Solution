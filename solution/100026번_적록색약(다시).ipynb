{
  "nbformat": 4,
  "nbformat_minor": 0,
  "metadata": {
    "colab": {
      "name": "100026번: 적록색약(다시).ipynb",
      "provenance": [],
      "collapsed_sections": [],
      "authorship_tag": "ABX9TyP5SQkkPm05GLpxSGYo8iFH",
      "include_colab_link": true
    },
    "kernelspec": {
      "name": "python3",
      "display_name": "Python 3"
    },
    "language_info": {
      "name": "python"
    }
  },
  "cells": [
    {
      "cell_type": "markdown",
      "metadata": {
        "id": "view-in-github",
        "colab_type": "text"
      },
      "source": [
        "<a href=\"https://colab.research.google.com/github/easyseop/BOJ-Solution/blob/main/100026%EB%B2%88_%EC%A0%81%EB%A1%9D%EC%83%89%EC%95%BD(%EB%8B%A4%EC%8B%9C).ipynb\" target=\"_parent\"><img src=\"https://colab.research.google.com/assets/colab-badge.svg\" alt=\"Open In Colab\"/></a>"
      ]
    },
    {
      "cell_type": "code",
      "execution_count": 102,
      "metadata": {
        "colab": {
          "base_uri": "https://localhost:8080/"
        },
        "id": "yh310wPNr4su",
        "outputId": "2ee49468-db41-4e90-d153-b4d54e099c48"
      },
      "outputs": [
        {
          "output_type": "stream",
          "name": "stdout",
          "text": [
            "5\n",
            "RRRBB\n",
            "GGBBB\n",
            "BBBRR\n",
            "BBRRR\n",
            "RRRRR\n",
            "4 3\n"
          ]
        }
      ],
      "source": [
        "from collections import deque \n",
        "\n",
        "N = int(input())\n",
        "arr = [list(input()) for _ in range(N)]\n",
        "visted =[[0]*N for _ in range(N)]\n",
        "\n",
        "\n",
        "def bfs(x,y):\n",
        "    visted[x][y]=1\n",
        "    d = deque()\n",
        "    d.append([x,y])\n",
        "    while d:\n",
        "        x,y = d.popleft()\n",
        "        flag = arr[x][y]\n",
        "        for i in range(4):\n",
        "            a = x+dx[i]\n",
        "            b = y+dy[i]\n",
        "            if (0<=a<N) and (0<=b<N):\n",
        "                if arr[a][b] == flag and visted[a][b]==0:\n",
        "                    visted[a][b]=1\n",
        "                    d.append([a,b])\n",
        "\n",
        "\n",
        "\n",
        "dx = [1,-1,0,0]\n",
        "dy = [0,0,1,-1]\n",
        "r_cnt,g_cnt,b_cnt = 0,0,0\n",
        "for i in range(N):\n",
        "    for j in range(N):\n",
        "        if visted[i][j]==0:\n",
        "            bfs(i,j)\n",
        "            if arr[i][j]=='R':\n",
        "                r_cnt+=1\n",
        "            elif arr[i][j]=='G':\n",
        "                g_cnt+=1\n",
        "            else:\n",
        "                b_cnt+=1\n",
        "                 \n",
        "cnt1 = r_cnt+g_cnt+b_cnt\n",
        "              \n",
        "\n",
        "for i in range(N):\n",
        "    for j in range(N):\n",
        "        if arr[i][j]=='G':\n",
        "            arr[i][j]='R'\n",
        "\n",
        "\n",
        "\n",
        "visted =[[0]*N for _ in range(N)]\n",
        "r_cnt,b_cnt = 0,0\n",
        "for i in range(N):\n",
        "    for j in range(N):\n",
        "        if visted[i][j]==0:\n",
        "            bfs(i,j)\n",
        "            if arr[i][j]=='R':\n",
        "                r_cnt+=1\n",
        "            else:\n",
        "                b_cnt+=1\n",
        "                \n",
        "cnt2 = r_cnt+b_cnt\n",
        "\n",
        "print(cnt1,cnt2)"
      ]
    },
    {
      "cell_type": "code",
      "source": [
        "g_cnt"
      ],
      "metadata": {
        "colab": {
          "base_uri": "https://localhost:8080/"
        },
        "id": "IBxMjoFqsr_j",
        "outputId": "dc946538-2e88-4b09-c3a6-8dc25f1524b4"
      },
      "execution_count": 90,
      "outputs": [
        {
          "output_type": "execute_result",
          "data": {
            "text/plain": [
              "2"
            ]
          },
          "metadata": {},
          "execution_count": 90
        }
      ]
    },
    {
      "cell_type": "code",
      "source": [
        "r_cnt"
      ],
      "metadata": {
        "colab": {
          "base_uri": "https://localhost:8080/"
        },
        "id": "l1OK1Lnmx07I",
        "outputId": "eb5f6773-2766-44c2-e000-92889d580a03"
      },
      "execution_count": 88,
      "outputs": [
        {
          "output_type": "execute_result",
          "data": {
            "text/plain": [
              "2"
            ]
          },
          "metadata": {},
          "execution_count": 88
        }
      ]
    },
    {
      "cell_type": "code",
      "source": [
        "b_cnt"
      ],
      "metadata": {
        "colab": {
          "base_uri": "https://localhost:8080/"
        },
        "id": "CNuAHIppzJ8-",
        "outputId": "cf0a90c8-f9b6-4527-eb77-5d08ec6eed7c"
      },
      "execution_count": 44,
      "outputs": [
        {
          "output_type": "execute_result",
          "data": {
            "text/plain": [
              "4"
            ]
          },
          "metadata": {},
          "execution_count": 44
        }
      ]
    },
    {
      "cell_type": "code",
      "source": [
        ""
      ],
      "metadata": {
        "id": "YwmrjT1rzKWn"
      },
      "execution_count": null,
      "outputs": []
    }
  ]
}