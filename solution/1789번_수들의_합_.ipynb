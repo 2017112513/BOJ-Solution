{
  "nbformat": 4,
  "nbformat_minor": 0,
  "metadata": {
    "colab": {
      "name": "1789번: 수들의 합 .ipynb",
      "provenance": [],
      "authorship_tag": "ABX9TyP5YKJEcC4Wj/9iQEhzRfIn",
      "include_colab_link": true
    },
    "kernelspec": {
      "name": "python3",
      "display_name": "Python 3"
    },
    "language_info": {
      "name": "python"
    }
  },
  "cells": [
    {
      "cell_type": "markdown",
      "metadata": {
        "id": "view-in-github",
        "colab_type": "text"
      },
      "source": [
        "<a href=\"https://colab.research.google.com/github/easyseop/BOJ-Programmers/blob/main/1789%EB%B2%88_%EC%88%98%EB%93%A4%EC%9D%98_%ED%95%A9_.ipynb\" target=\"_parent\"><img src=\"https://colab.research.google.com/assets/colab-badge.svg\" alt=\"Open In Colab\"/></a>"
      ]
    },
    {
      "cell_type": "code",
      "execution_count": null,
      "metadata": {
        "id": "6hDbGWS8d-OZ"
      },
      "outputs": [],
      "source": [
        "N=int(input())\n",
        "\n",
        "ans = 0 \n",
        "s = 0\n",
        "i = 1\n",
        "while 1:\n",
        "    \n",
        "    if s+i <=N:\n",
        "        s+=i\n",
        "        i+=1\n",
        "        ans+=1\n",
        "    else:\n",
        "        print(ans)\n",
        "        break\n",
        "    \n"
      ]
    }
  ]
}