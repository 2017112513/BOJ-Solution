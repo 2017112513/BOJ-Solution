{
  "nbformat": 4,
  "nbformat_minor": 0,
  "metadata": {
    "colab": {
      "name": "16235번: 나무 재테크.ipynb",
      "provenance": [],
      "authorship_tag": "ABX9TyNjOKSGrI6GT6qCajkBaI4Q",
      "include_colab_link": true
    },
    "kernelspec": {
      "name": "python3",
      "display_name": "Python 3"
    },
    "language_info": {
      "name": "python"
    }
  },
  "cells": [
    {
      "cell_type": "markdown",
      "metadata": {
        "id": "view-in-github",
        "colab_type": "text"
      },
      "source": [
        "<a href=\"https://colab.research.google.com/github/easyseop/BOJ-Solution/blob/main/16235%EB%B2%88_%EB%82%98%EB%AC%B4_%EC%9E%AC%ED%85%8C%ED%81%AC.ipynb\" target=\"_parent\"><img src=\"https://colab.research.google.com/assets/colab-badge.svg\" alt=\"Open In Colab\"/></a>"
      ]
    },
    {
      "cell_type": "code",
      "source": [
        ""
      ],
      "metadata": {
        "id": "agwNyWHTOrx7"
      },
      "execution_count": 51,
      "outputs": []
    },
    {
      "cell_type": "markdown",
      "source": [
        "# 시간초과 코드"
      ],
      "metadata": {
        "id": "4S44pctfOslH"
      }
    },
    {
      "cell_type": "code",
      "source": [
        "year = 0\n",
        "dx = [-1,0,1,-1,0,1,-1,1]\n",
        "dy = [-1,-1,-1,1,1,1,0,0]\n",
        "summer = [] \n",
        "tree  = sorted(tree,key=lambda x: -x[2]) # age가 작은 값부터 정렬\n",
        "while year<k:\n",
        "    #봄\n",
        "    new_tree  = []\n",
        "    while tree:\n",
        "  \n",
        "        r,c,age = tree.pop()\n",
        "        \n",
        "        if lis[r-1][c-1]>=age:\n",
        "            lis[r-1][c-1] -= age \n",
        "            new_tree.append((r,c,age+1))\n",
        "        else:\n",
        "            summer.append((r,c,age))\n",
        "\n",
        "    tree = new_tree     \n",
        "\n",
        "    #여름\n",
        "    while summer:\n",
        "        r,c,dead = summer.pop()\n",
        "        lis[r-1][c-1] += dead//2\n",
        "    #가을 \n",
        "    cnt = len(tree)\n",
        "    for i in range(cnt):\n",
        "        r,c,age = tree[i][0],tree[i][1],tree[i][2]\n",
        "        if age%5==0:\n",
        "            for j in range(8):\n",
        "                x = r+dx[j]\n",
        "                y = c+dy[j]\n",
        "                if 1<=x<n and 1<=y<n:\n",
        "                    tree.append((x,y,1))\n",
        "    #겨울\n",
        "\n",
        "    for i in range(n):\n",
        "        for j in range(n):\n",
        "            lis[i][j] += plus[i][j]\n",
        "\n",
        "    \n",
        "    year +=1\n",
        "\n",
        "    \n",
        "\n",
        "     \n",
        "    \n",
        "print(tree)"
      ],
      "metadata": {
        "id": "Etqmbd2js44w",
        "colab": {
          "base_uri": "https://localhost:8080/"
        },
        "outputId": "8524b0bf-9766-4f0b-faf3-0ab9c9c8074f"
      },
      "execution_count": 51,
      "outputs": [
        {
          "output_type": "stream",
          "name": "stdout",
          "text": [
            "[]\n"
          ]
        }
      ]
    },
    {
      "cell_type": "code",
      "source": [
        ""
      ],
      "metadata": {
        "id": "wGdh2IT4gMwh"
      },
      "execution_count": null,
      "outputs": []
    },
    {
      "cell_type": "markdown",
      "source": [
        "# 정답코드"
      ],
      "metadata": {
        "id": "w4NOm_DHWiV3"
      }
    },
    {
      "cell_type": "code",
      "source": [
        "import sys\n",
        "\n",
        "\n",
        "iuput = sys.stdin.readline\n",
        "n, m, k = map(int, input().split())\n",
        "lis = [[5] * (n) for i in range(n)]\n",
        "plus = [list(map(int, input().split())) for i in range(n)]  # 겨울마다 추가되는 양분\n",
        "tree = [[[] for i in range(n)] for i in range(n)]  # r,c,age\n",
        "\n",
        "for i in range(m):\n",
        "    r, c, age = map(int, input().split())\n",
        "    tree[r - 1][c - 1].append(age)\n",
        "\n",
        "\n",
        "year = 0\n",
        "dx = [-1, 0, 1, -1, 0, 1, -1, 1]\n",
        "dy = [-1, -1, -1, 1, 1, 1, 0, 0]\n",
        "\n",
        "for i in range(n):\n",
        "    for j in range(n):\n",
        "        tree[i][j].sort()  # age가 작은 값부터 정렬\n",
        "\n",
        "\n",
        "for year in range(0, k):\n",
        "    # 봄이랑 여름\n",
        "\n",
        "    for i in range(n):\n",
        "        for j in range(n):\n",
        "            k = 0\n",
        "            while k < len((tree[i][j])):\n",
        "                if lis[i][j] >= tree[i][j][k]:\n",
        "\n",
        "                    lis[i][j] -= tree[i][j][k]\n",
        "                    tree[i][j][k] += 1\n",
        "                    k += 1\n",
        "                else:\n",
        "                    dead = tree[i][j][k:]\n",
        "                    for d in dead:\n",
        "                        lis[i][j] += d // 2\n",
        "                    tree[i][j] = tree[i][j][:k]\n",
        "                    break\n",
        "\n",
        "    # 가을\n",
        "    for i in range(n):\n",
        "        for j in range(n):\n",
        "            if len(tree[i][j]) == 0:\n",
        "                continue\n",
        "            cnt = len(tree[i][j])\n",
        "            for k in range(cnt):\n",
        "                if tree[i][j][k] % 5 == 0:\n",
        "                    for idx in range(8):\n",
        "                        x = i + dx[idx]\n",
        "                        y = j + dy[idx]\n",
        "                        if 0 <= x < n and 0 <= y < n:\n",
        "                            tree[x][y].insert(0, 1)\n",
        "\n",
        "    # 겨울\n",
        "\n",
        "\n",
        "    for i in range(n):\n",
        "        for j in range(n):\n",
        "            lis[i][j] += plus[i][j]\n",
        "\n",
        "    # print()\n",
        "\n",
        "\n",
        "ans = 0\n",
        "for i in range(n):\n",
        "    for j in range(n):\n",
        "        ans += len(tree[i][j])\n",
        "\n",
        "print(ans)\n"
      ],
      "metadata": {
        "id": "7w6FQj4v2arm"
      },
      "execution_count": null,
      "outputs": []
    }
  ]
}