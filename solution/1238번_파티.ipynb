{
  "nbformat": 4,
  "nbformat_minor": 0,
  "metadata": {
    "colab": {
      "name": "1238번: 파티.ipynb",
      "provenance": [],
      "authorship_tag": "ABX9TyOqHAgPytbECWg6Xzo/Swyv",
      "include_colab_link": true
    },
    "kernelspec": {
      "name": "python3",
      "display_name": "Python 3"
    },
    "language_info": {
      "name": "python"
    }
  },
  "cells": [
    {
      "cell_type": "markdown",
      "metadata": {
        "id": "view-in-github",
        "colab_type": "text"
      },
      "source": [
        "<a href=\"https://colab.research.google.com/github/easyseop/BOJ-Solution/blob/main/1238%EB%B2%88_%ED%8C%8C%ED%8B%B0.ipynb\" target=\"_parent\"><img src=\"https://colab.research.google.com/assets/colab-badge.svg\" alt=\"Open In Colab\"/></a>"
      ]
    },
    {
      "cell_type": "code",
      "source": [
        "#시작점>X까지 걸리는 시간 . 중복이 있으면 그 중 최소 > 엄선한 것들의 최대값 ㅇ\n"
      ],
      "metadata": {
        "id": "sTIyM-seIgUQ"
      },
      "execution_count": null,
      "outputs": []
    },
    {
      "cell_type": "code",
      "source": [
        "#다익스트라 알고리즘 적용 x  bfs로 푼거\n",
        "def depart_to_home():\n",
        "    d= deque()\n",
        "    d.append([X,0])\n",
        "    while d:\n",
        "        x,t = d.popleft()\n",
        "        for new_x,new_t in dic[x]:\n",
        "            if new_x ==X:\n",
        "                continue\n",
        "            time = new_t+t\n",
        "            \n",
        "            if arr[new_x] and time<arr[new_x]: \n",
        "                arr[new_x]=time\n",
        "                d.append([new_x,time])  \n",
        "            elif not arr[new_x]:\n",
        "                arr[new_x]=time\n",
        "                d.append([new_x,time])    \n",
        "\n",
        "def home_to_depart():\n",
        "    lis = [i for i in range(1,N+1) if i!=X]\n",
        "    for i in lis:\n",
        "        arr2= [0 for i in range(N+1)]\n",
        "        d= deque()\n",
        "        d.append([i,0])\n",
        "        while d:\n",
        "            x,t = d.popleft()\n",
        "            for new_x,new_t in dic[x]:\n",
        "                if new_x ==i:\n",
        "                    continue\n",
        "                time = new_t+t\n",
        "                if arr2[new_x] and time<arr[new_x]: \n",
        "                    arr2[new_x]=time\n",
        "                    d.append([new_x,time])  \n",
        "                elif not arr2[new_x]:\n",
        "                    arr2[new_x]=time\n",
        "                    d.append([new_x,time])\n",
        "        arr[i]+=arr2[X]        \n",
        "\n",
        "from collections import deque\n",
        "N,M,X = map(int,input().split())\n",
        "dic = {}\n",
        "for _ in range(M):\n",
        "    start,depart,hour = map(int,input().split())\n",
        "    try:\n",
        "        dic[start].append([depart,hour])\n",
        "    except: \n",
        "        dic[start]=[]\n",
        "        dic[start].append([depart,hour])\n",
        "    arr= [0 for i in range(N+1)] \n",
        "depart_to_home()    \n",
        "home_to_depart()\n",
        "print(max(arr))"
      ],
      "metadata": {
        "colab": {
          "base_uri": "https://localhost:8080/"
        },
        "id": "FsUS62aRIow2",
        "outputId": "f0f3f909-632c-41c4-9960-e84e9a7775c7"
      },
      "execution_count": 60,
      "outputs": [
        {
          "name": "stdout",
          "output_type": "stream",
          "text": [
            "4 8 2\n",
            "1 2 4\n",
            "1 3 2\n",
            "1 4 7\n",
            "2 1 1\n",
            "2 3 5\n",
            "3 1 2\n",
            "3 4 4\n",
            "4 2 3\n"
          ]
        }
      ]
    },
    {
      "cell_type": "code",
      "source": [
        "#다익스트라 (우선순위큐 적용x)\n",
        "N,M,X = map(int,input().split())\n",
        "\n",
        "\n",
        "def get_small_index(x):\n",
        "    index =0\n",
        "    minimum= float('inf')\n",
        "    for i in range(1,N+1):\n",
        "        if array[x][i]<minimum and not visted[i]:\n",
        "            minimum  = array[x][i]\n",
        "            index = i\n",
        "    return index  \n",
        "\n",
        "\n",
        "\n",
        "def dijkstra(start):\n",
        "    for _ in range(N-1):\n",
        "        now = get_small_index(start)\n",
        "        visted[now]=1\n",
        "        for i in range(1,N+1):\n",
        "            cost = array[start][now] + array[now][i]\n",
        "            print(cost)\n",
        "            if cost<array[start][i]:\n",
        "                array[start][i]=cost\n",
        "\n",
        "visted=[0]*(N+1)\n",
        "visted[X]=1\n",
        "array[X][X]=0\n",
        "array = [[float('inf')]*(N+1) for i in range(N+1)]\n",
        "for _ in range(M):\n",
        "    start,depart,hour = map(int,input().split())\n",
        "    array[start][depart] = hour\n",
        "\n",
        "dijkstra(X)\n",
        "\n",
        "\n",
        "lis = [i for i in range(1,N+1) if i!=X]\n",
        "for i in lis:\n",
        "    array[i][i]=0\n",
        "    visted=[0]*(N+1)\n",
        "    visted[i]=1\n",
        "    dijkstra(i)\n",
        "    array[X][i] += array[i][X]\n",
        "\n",
        "print(max(array[X][1:]))"
      ],
      "metadata": {
        "id": "YRa389CRI2-8"
      },
      "execution_count": null,
      "outputs": []
    },
    {
      "cell_type": "code",
      "source": [
        "#다익스트라 + 우선순위 큐 \n",
        "import heapq\n",
        "N,M,X = map(int,input().split())\n",
        "dic = {}\n",
        "for _ in range(M):\n",
        "    start,depart,hour = map(int,input().split())\n",
        "    try:\n",
        "        dic[start].append((hour,depart))\n",
        "    except:\n",
        "        dic[start]=[]\n",
        "        dic[start].append((hour,depart))\n",
        "\n",
        "\n",
        "def stra(start):\n",
        "    q = []\n",
        "    array = [float('inf')]* (N+1)\n",
        "    array[start]=0\n",
        "    heapq.heappush(q,[0,start])\n",
        "    while q:\n",
        "        time,node = heapq.heappop(q)\n",
        "        for cost,newnode in dic[node]:\n",
        "            cost = cost + time\n",
        "            if cost<array[newnode]:\n",
        "                array[newnode] = cost\n",
        "                heapq.heappush(q,(cost,newnode))\n",
        "    return array\n",
        "\n",
        "ans = stra(X)\n",
        "lis = [i for i in range(1,N+1) if i!=X]\n",
        "for i in lis:\n",
        "    ret = stra(i)\n",
        "    ans[i]+=ret[X]    \n",
        "print(max(ans[1:]))\n"
      ],
      "metadata": {
        "id": "CMza83GaFc-Y"
      },
      "execution_count": 13,
      "outputs": []
    }
  ]
}