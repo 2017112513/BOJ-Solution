{
  "nbformat": 4,
  "nbformat_minor": 0,
  "metadata": {
    "colab": {
      "name": "1629번: 곱셈.ipynb",
      "provenance": [],
      "authorship_tag": "ABX9TyPTSPfiJQ+tBFamMdgnQFcv",
      "include_colab_link": true
    },
    "kernelspec": {
      "name": "python3",
      "display_name": "Python 3"
    },
    "language_info": {
      "name": "python"
    }
  },
  "cells": [
    {
      "cell_type": "markdown",
      "metadata": {
        "id": "view-in-github",
        "colab_type": "text"
      },
      "source": [
        "<a href=\"https://colab.research.google.com/github/easyseop/BOJ-Solution/blob/main/1629%EB%B2%88_%EA%B3%B1%EC%85%88.ipynb\" target=\"_parent\"><img src=\"https://colab.research.google.com/assets/colab-badge.svg\" alt=\"Open In Colab\"/></a>"
      ]
    },
    {
      "cell_type": "code",
      "execution_count": 1,
      "metadata": {
        "colab": {
          "base_uri": "https://localhost:8080/"
        },
        "id": "4tV8_cZoo_x9",
        "outputId": "5084dc82-00f2-46a6-90de-3304787de0db"
      },
      "outputs": [
        {
          "name": "stdout",
          "output_type": "stream",
          "text": [
            "10 11 12\n"
          ]
        }
      ],
      "source": [
        "# 시간초과\n",
        "# def power(a,b):\n",
        "#     if b==0:\n",
        "#         return 1\n",
        "#     elif b%2==0:\n",
        "#         return power(a,b//2) * power(a,b//2)\n",
        "#     elif b%2!=0:\n",
        "#         return a * power(a,b//2) * power(a,b//2)\n",
        "            \n",
        "# a,b,c = map(int,input().split())\n",
        "# print(power(a,b)%c)"
      ]
    },
    {
      "cell_type": "code",
      "source": [
        "def power(a,b):\n",
        "    if b==0:\n",
        "        return 1%c\n",
        "    elif b%2==0:\n",
        "        temp = power(a,b//2)\n",
        "        return (temp * temp)%c\n",
        "    elif b%2!=0:\n",
        "        temp = power(a,b//2)\n",
        "        return (a*temp * temp)%c\n",
        "    \n",
        "a,b,c = map(int,input().split())\n",
        "print(power(a,b))"
      ],
      "metadata": {
        "colab": {
          "base_uri": "https://localhost:8080/"
        },
        "id": "GVtwlhQyqbDV",
        "outputId": "c8bf863b-6adb-4006-9e6e-c26058b9c50a"
      },
      "execution_count": 12,
      "outputs": [
        {
          "output_type": "stream",
          "name": "stdout",
          "text": [
            "10 11 12\n",
            "4\n"
          ]
        }
      ]
    },
    {
      "cell_type": "code",
      "source": [
        ""
      ],
      "metadata": {
        "colab": {
          "base_uri": "https://localhost:8080/"
        },
        "id": "Xfwksh7pqcS8",
        "outputId": "e289549c-aad8-427b-9469-0d2bb3a4b402"
      },
      "execution_count": 8,
      "outputs": [
        {
          "output_type": "execute_result",
          "data": {
            "text/plain": [
              "32"
            ]
          },
          "metadata": {},
          "execution_count": 8
        }
      ]
    },
    {
      "cell_type": "code",
      "source": [
        "power(10,11)%12"
      ],
      "metadata": {
        "colab": {
          "base_uri": "https://localhost:8080/"
        },
        "id": "h7EeEOVKvNQ4",
        "outputId": "56d16e17-ed2d-4c2f-f277-d6b9316f774c"
      },
      "execution_count": 10,
      "outputs": [
        {
          "output_type": "execute_result",
          "data": {
            "text/plain": [
              "4"
            ]
          },
          "metadata": {},
          "execution_count": 10
        }
      ]
    },
    {
      "cell_type": "code",
      "source": [
        ""
      ],
      "metadata": {
        "id": "QT3dOLWbvh8V"
      },
      "execution_count": null,
      "outputs": []
    }
  ]
}