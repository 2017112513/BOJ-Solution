{
  "nbformat": 4,
  "nbformat_minor": 0,
  "metadata": {
    "colab": {
      "name": "13458번: 시험 감독.ipynb",
      "provenance": [],
      "collapsed_sections": [],
      "authorship_tag": "ABX9TyMJjj/xUnG+q7161CEEid9P",
      "include_colab_link": true
    },
    "kernelspec": {
      "name": "python3",
      "display_name": "Python 3"
    },
    "language_info": {
      "name": "python"
    }
  },
  "cells": [
    {
      "cell_type": "markdown",
      "metadata": {
        "id": "view-in-github",
        "colab_type": "text"
      },
      "source": [
        "<a href=\"https://colab.research.google.com/github/easyseop/BOJ-Solution/blob/main/13458%EB%B2%88_%EC%8B%9C%ED%97%98_%EA%B0%90%EB%8F%85.ipynb\" target=\"_parent\"><img src=\"https://colab.research.google.com/assets/colab-badge.svg\" alt=\"Open In Colab\"/></a>"
      ]
    },
    {
      "cell_type": "code",
      "execution_count": null,
      "metadata": {
        "id": "99XynbUhNMBC"
      },
      "outputs": [],
      "source": [
        "N=  int(input())\n",
        "A = list(map(int,input().split()))\n",
        "B,C = map(int,input().split())\n",
        "\n",
        "host_manager = [i-B for i in A ] #총 감독관이 각 시험장마다 한명씩은 꼭 있으므로, 감시할 수 있는 응시자를 미리 뺄 수 있다. \n",
        "\n",
        "\n",
        "cnt = N #총 감독관은 시험장 수부터 시작 \n",
        "for i in host_manager:\n",
        "    if i<=0:\n",
        "        continue\n",
        "    else:\n",
        "        if i%C==0:\n",
        "    \n",
        "            cnt+=i//C\n",
        "        else:\n",
        "           \n",
        "            cnt+= i//C +1\n",
        "print(cnt)\n",
        "'''\n",
        "3\n",
        "3 4 5\n",
        "2 2\n",
        "\n",
        "5\n",
        "10 9 10 9 10\n",
        "7 2\n",
        "''' "
      ]
    }
  ]
}