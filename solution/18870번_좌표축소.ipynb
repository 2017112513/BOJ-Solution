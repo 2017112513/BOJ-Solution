{
  "nbformat": 4,
  "nbformat_minor": 0,
  "metadata": {
    "colab": {
      "name": "18870번: 좌표축소.ipynb",
      "provenance": [],
      "authorship_tag": "ABX9TyO4ACEjIRjAMwrvzDyblnoM",
      "include_colab_link": true
    },
    "kernelspec": {
      "name": "python3",
      "display_name": "Python 3"
    },
    "language_info": {
      "name": "python"
    }
  },
  "cells": [
    {
      "cell_type": "markdown",
      "metadata": {
        "id": "view-in-github",
        "colab_type": "text"
      },
      "source": [
        "<a href=\"https://colab.research.google.com/github/easyseop/BOJ-Solution/blob/main/18870%EB%B2%88_%EC%A2%8C%ED%91%9C%EC%B6%95%EC%86%8C.ipynb\" target=\"_parent\"><img src=\"https://colab.research.google.com/assets/colab-badge.svg\" alt=\"Open In Colab\"/></a>"
      ]
    },
    {
      "cell_type": "code",
      "execution_count": 15,
      "metadata": {
        "colab": {
          "base_uri": "https://localhost:8080/"
        },
        "id": "TQQNQtYo-9UY",
        "outputId": "30cf3ac5-3fcb-4d24-d68f-4f94cc55e28c"
      },
      "outputs": [
        {
          "output_type": "stream",
          "name": "stdout",
          "text": [
            "5\n",
            "2 4 -10 4 -9\n",
            "0 4\n",
            "1 2\n",
            "2 -9\n",
            "3 -10\n"
          ]
        }
      ],
      "source": [
        "n = int(input())\n",
        "ans = list(map(int,input().split()))\n",
        "s = sorted(set(ans),reverse=True)\n",
        "leng=len(s)\n",
        "dic ={i:leng-idx for idx,i in enumerate(s,1)}\n",
        "for i in ans:\n",
        "    print(dic[i],end=' ')"
      ]
    },
    {
      "cell_type": "code",
      "source": [
        ""
      ],
      "metadata": {
        "colab": {
          "base_uri": "https://localhost:8080/"
        },
        "id": "OrvtPVzZ_ZWo",
        "outputId": "2abdd3ae-7141-4354-bf41-afd8a233ba86"
      },
      "execution_count": 11,
      "outputs": [
        {
          "output_type": "execute_result",
          "data": {
            "text/plain": [
              "list"
            ]
          },
          "metadata": {},
          "execution_count": 11
        }
      ]
    },
    {
      "cell_type": "code",
      "source": [
        ""
      ],
      "metadata": {
        "id": "e1bL-tND_ilR"
      },
      "execution_count": null,
      "outputs": []
    }
  ]
}