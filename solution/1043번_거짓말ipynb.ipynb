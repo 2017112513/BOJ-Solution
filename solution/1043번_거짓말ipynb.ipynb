{
  "nbformat": 4,
  "nbformat_minor": 0,
  "metadata": {
    "colab": {
      "name": "1043번: 거짓말ipynb",
      "provenance": [],
      "authorship_tag": "ABX9TyM+0mlHI/kZ0+q9fdqYaC66",
      "include_colab_link": true
    },
    "kernelspec": {
      "name": "python3",
      "display_name": "Python 3"
    },
    "language_info": {
      "name": "python"
    }
  },
  "cells": [
    {
      "cell_type": "markdown",
      "metadata": {
        "id": "view-in-github",
        "colab_type": "text"
      },
      "source": [
        "<a href=\"https://colab.research.google.com/github/easyseop/BOJ-Solution/blob/main/1043%EB%B2%88_%EA%B1%B0%EC%A7%93%EB%A7%90ipynb.ipynb\" target=\"_parent\"><img src=\"https://colab.research.google.com/assets/colab-badge.svg\" alt=\"Open In Colab\"/></a>"
      ]
    },
    {
      "cell_type": "code",
      "source": [
        "from collections import deque\n",
        "n,m = map(int,input().split())\n",
        "k = deque()\n",
        "visted=[0]*(n+1)\n",
        "for idx,i in enumerate(map(int,input().split())):\n",
        "    if idx!=0:\n",
        "        k.append(i)\n",
        "        visted[i]=1\n",
        "\n",
        "party=[[] for i in range(m)]\n",
        "for i in range(m):\n",
        "    for idx,j in enumerate(map(int,input().split())):\n",
        "        if idx!=0:\n",
        "            party[i].append(j)\n",
        "while k:\n",
        "    x = k.popleft()\n",
        "    for lis in party:\n",
        "        if x in lis:\n",
        "            for i in lis:\n",
        "                if visted[i]==0:\n",
        "                    k.append(i) \n",
        "                    visted[i]=1                           \n",
        "\n",
        "for lis in party:\n",
        "    flag=True\n",
        "    for i in lis:\n",
        "        if visted[i]==1:\n",
        "            flag=False\n",
        "    if flag:\n",
        "        cnt+=1\n",
        "print(cnt)         \n",
        "\n",
        "\n",
        "\n"
      ],
      "metadata": {
        "colab": {
          "base_uri": "https://localhost:8080/"
        },
        "id": "TvcE79T77Mul",
        "outputId": "5d26898c-0518-45f4-ae89-793f89415ab1"
      },
      "execution_count": 80,
      "outputs": [
        {
          "name": "stdout",
          "output_type": "stream",
          "text": [
            "4 5\n",
            "1 1\n",
            "1 1\n",
            "1 2\n",
            "1 3\n",
            "2 4 2\n",
            "2 4 1\n"
          ]
        }
      ]
    },
    {
      "cell_type": "code",
      "source": [
        "k=deque([1])\n",
        "visted"
      ],
      "metadata": {
        "colab": {
          "base_uri": "https://localhost:8080/"
        },
        "id": "Sqe1ItZf9Y6f",
        "outputId": "650a94a5-ddaf-424b-de4d-7a240d19b535"
      },
      "execution_count": 85,
      "outputs": [
        {
          "output_type": "execute_result",
          "data": {
            "text/plain": [
              "[0, 1, 0, 0, 0]"
            ]
          },
          "metadata": {},
          "execution_count": 85
        }
      ]
    },
    {
      "cell_type": "code",
      "source": [
        "while k:\n",
        "    x = k.popleft()\n",
        "    for lis in party:\n",
        "        if x in lis:\n",
        "            for i in lis:\n",
        "                if visted[i]==0:\n",
        "                    k.append(i) \n",
        "                    visted[i]=1                           \n",
        "\n",
        "for lis in sort_party:\n",
        "    flag=True\n",
        "    for i in lis:\n",
        "        if visted[i]==1:\n",
        "            flag=False\n",
        "    if flag:\n",
        "        cnt+=1\n",
        "print(cnt)         \n",
        "\n",
        "\n"
      ],
      "metadata": {
        "id": "st2h6-MnsDHV"
      },
      "execution_count": 88,
      "outputs": []
    },
    {
      "cell_type": "code",
      "source": [
        ""
      ],
      "metadata": {
        "colab": {
          "base_uri": "https://localhost:8080/"
        },
        "id": "K9TwbyFT7ME7",
        "outputId": "c5c3b306-324c-4af1-9bd6-c6025f5d8dbf"
      },
      "execution_count": 89,
      "outputs": [
        {
          "output_type": "execute_result",
          "data": {
            "text/plain": [
              "[0, 1, 1, 0, 1]"
            ]
          },
          "metadata": {},
          "execution_count": 89
        }
      ]
    },
    {
      "cell_type": "code",
      "source": [
        "for lis in sort_party:\n",
        "    flag=True\n",
        "    for i in lis:\n",
        "        if visted[i]==1:\n",
        "            flag=False\n",
        "    if flag:\n",
        "        cnt+=1\n",
        "print(cnt)"
      ],
      "metadata": {
        "colab": {
          "base_uri": "https://localhost:8080/"
        },
        "id": "Pm3CDfnzwtQ5",
        "outputId": "6e46388d-12ef-440e-be12-b6546d2f3e72"
      },
      "execution_count": 92,
      "outputs": [
        {
          "output_type": "stream",
          "name": "stdout",
          "text": [
            "1\n"
          ]
        }
      ]
    },
    {
      "cell_type": "code",
      "source": [
        "cnt=0"
      ],
      "metadata": {
        "id": "7efoskBustDs"
      },
      "execution_count": 91,
      "outputs": []
    },
    {
      "cell_type": "code",
      "source": [
        "1 2 3 4 5 6  10 "
      ],
      "metadata": {
        "colab": {
          "base_uri": "https://localhost:8080/"
        },
        "id": "N-do8fqStOeV",
        "outputId": "95daa003-491f-41c5-893e-f4f06b1b9930"
      },
      "execution_count": 18,
      "outputs": [
        {
          "output_type": "execute_result",
          "data": {
            "text/plain": [
              "[1, 4]"
            ]
          },
          "metadata": {},
          "execution_count": 18
        }
      ]
    },
    {
      "cell_type": "code",
      "source": [
        ""
      ],
      "metadata": {
        "id": "iaCVZ-DBu4yG"
      },
      "execution_count": null,
      "outputs": []
    }
  ]
}