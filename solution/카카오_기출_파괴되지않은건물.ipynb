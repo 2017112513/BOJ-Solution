{
  "nbformat": 4,
  "nbformat_minor": 0,
  "metadata": {
    "colab": {
      "name": "카카오_기출_파괴되지않은건물.ipynb",
      "provenance": [],
      "authorship_tag": "ABX9TyPx5jUA9yd82yxik22hXRYI",
      "include_colab_link": true
    },
    "kernelspec": {
      "name": "python3",
      "display_name": "Python 3"
    },
    "language_info": {
      "name": "python"
    }
  },
  "cells": [
    {
      "cell_type": "markdown",
      "metadata": {
        "id": "view-in-github",
        "colab_type": "text"
      },
      "source": [
        "<a href=\"https://colab.research.google.com/github/easyseop/BOJ-Solution/blob/main/%EC%B9%B4%EC%B9%B4%EC%98%A4_%EA%B8%B0%EC%B6%9C_%ED%8C%8C%EA%B4%B4%EB%90%98%EC%A7%80%EC%95%8A%EC%9D%80%EA%B1%B4%EB%AC%BC.ipynb\" target=\"_parent\"><img src=\"https://colab.research.google.com/assets/colab-badge.svg\" alt=\"Open In Colab\"/></a>"
      ]
    },
    {
      "cell_type": "code",
      "execution_count": null,
      "metadata": {
        "id": "Vv9qyIdEmZb2"
      },
      "outputs": [],
      "source": [
        "board = [[1,2,3],[4,5,6],[7,8,9]]\n",
        "skill = [[1,1,1,2,2,4],[1,0,0,1,1,2],[2,2,0,2,0,100]]\n",
        "def solution(board,skill):\n",
        "    N = len(board)\n",
        "    M = len(board[0])\n",
        "    matrix = [[0]*(M+1) for _ in range(N+1)]\n",
        "\n",
        "    for sk in skill:\n",
        "        typ,x1,y1,x2,y2,force = sk\n",
        "        if typ ==1:\n",
        "            matrix[x1][y1] += -force\n",
        "            matrix[x2+1][y1] += force\n",
        "            matrix[x1][y2+1] += force\n",
        "            matrix[x2+1][y2+1] += -force\n",
        "        else:\n",
        "            matrix[x1][y1] += force\n",
        "            matrix[x2+1][y1] += -force\n",
        "            matrix[x1][y2+1] += -force\n",
        "            matrix[x2+1][y2+1] += +force\n",
        "\n",
        "\n",
        "    for i in range(M):\n",
        "        for j in range(N+1):\n",
        "            matrix[j][i+1] += matrix[j][i]\n",
        "\n",
        "    for i in range(N):\n",
        "        for j in range(M+1):\n",
        "            matrix[i+1][j] += matrix[i][j]\n",
        "    ans = 0\n",
        "    for i in range(N):\n",
        "        for j in range(M):\n",
        "            s = board[i][j]+ matrix[i][j]\n",
        "            if s>0:\n",
        "                ans+=1\n",
        "    return ans\n",
        "\n",
        "\n",
        "\n",
        "\n"
      ]
    }
  ]
}