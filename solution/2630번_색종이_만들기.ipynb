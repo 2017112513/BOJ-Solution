{
  "nbformat": 4,
  "nbformat_minor": 0,
  "metadata": {
    "colab": {
      "name": "2630번: 색종이 만들기.ipynb",
      "provenance": [],
      "authorship_tag": "ABX9TyOu5QbZ+1MPZ/AUQIlCSN8F",
      "include_colab_link": true
    },
    "kernelspec": {
      "name": "python3",
      "display_name": "Python 3"
    },
    "language_info": {
      "name": "python"
    }
  },
  "cells": [
    {
      "cell_type": "markdown",
      "metadata": {
        "id": "view-in-github",
        "colab_type": "text"
      },
      "source": [
        "<a href=\"https://colab.research.google.com/github/easyseop/BOJ-Solution/blob/main/2630%EB%B2%88_%EC%83%89%EC%A2%85%EC%9D%B4_%EB%A7%8C%EB%93%A4%EA%B8%B0.ipynb\" target=\"_parent\"><img src=\"https://colab.research.google.com/assets/colab-badge.svg\" alt=\"Open In Colab\"/></a>"
      ]
    },
    {
      "cell_type": "code",
      "execution_count": null,
      "metadata": {
        "id": "_zgCdpkKZbnH",
        "colab": {
          "base_uri": "https://localhost:8080/"
        },
        "outputId": "4614d6ee-0f67-472c-e4b5-8ca06bec72a8"
      },
      "outputs": [
        {
          "name": "stdout",
          "output_type": "stream",
          "text": [
            "2\n",
            "11\n",
            "11\n"
          ]
        }
      ],
      "source": [
        "n= int(input())\n",
        "arr = [input().split() for _ in range(n)]\n",
        "white=0\n",
        "blue=0\n",
        "def q(x,y,N):\n",
        "    global white\n",
        "    global blue\n",
        "    flag=False\n",
        "    for i in range(x,x+N):\n",
        "        for j in range(y,y+N):\n",
        "            if arr[x][y]!=arr[i][j]:\n",
        "                flag=True\n",
        "                \n",
        "                q(x,y,N//2)\n",
        "                q(x+N//2,y,N//2)\n",
        "                q(x,y+N//2,N//2)\n",
        "                q(x+N//2,y+N//2,N//2)\n",
        "                return\n",
        "\n",
        "    if not flag and arr[x][y]=='1':\n",
        "        \n",
        "        blue+=1\n",
        "    elif not flag and arr[x][y]=='0':\n",
        "        white+=1  \n",
        "\n",
        "q(0,0,n)\n",
        "print(white)\n",
        "print(blue)"
      ]
    },
    {
      "cell_type": "code",
      "source": [
        ""
      ],
      "metadata": {
        "id": "CiHYsA59e_ZQ"
      },
      "execution_count": null,
      "outputs": []
    }
  ]
}