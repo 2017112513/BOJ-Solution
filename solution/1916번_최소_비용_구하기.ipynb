{
  "nbformat": 4,
  "nbformat_minor": 0,
  "metadata": {
    "colab": {
      "name": "1916번: 최소 비용 구하기.ipynb",
      "provenance": [],
      "authorship_tag": "ABX9TyNWbFV1iB90zXGD2G9Yezgw",
      "include_colab_link": true
    },
    "kernelspec": {
      "name": "python3",
      "display_name": "Python 3"
    },
    "language_info": {
      "name": "python"
    }
  },
  "cells": [
    {
      "cell_type": "markdown",
      "metadata": {
        "id": "view-in-github",
        "colab_type": "text"
      },
      "source": [
        "<a href=\"https://colab.research.google.com/github/easyseop/BOJ-Solution/blob/main/1916%EB%B2%88_%EC%B5%9C%EC%86%8C_%EB%B9%84%EC%9A%A9_%EA%B5%AC%ED%95%98%EA%B8%B0.ipynb\" target=\"_parent\"><img src=\"https://colab.research.google.com/assets/colab-badge.svg\" alt=\"Open In Colab\"/></a>"
      ]
    },
    {
      "cell_type": "code",
      "source": [
        "n = int(input())\n",
        "m = int(input())\n",
        "\n",
        "dic = {}\n",
        "for i in range(n):\n",
        "    dic[i+1] = []\n",
        "for i in range(m):\n",
        "    a,b,c = map(int,input().split()) # 시작점 도착점 비용\n",
        "    dic[a].append((c,b))\n",
        "\n",
        "start,depart = map(int,input().split())\n",
        "\n",
        "from heapq import heappush,heappop\n",
        "distance = [float('inf') for i in range(n+1)]\n",
        "distance[start] = 0\n",
        "h = []\n",
        "heappush(h,(distance[start],start))\n",
        "\n",
        "while h:\n",
        "    dis,node = heappop(h)\n",
        "    # print(dis,node)\n",
        "    if distance[node]<dis:\n",
        "        continue\n",
        "    for new_dis,new_node in dic[node]:\n",
        "        cost = new_dis + dis \n",
        "        if cost< distance[new_node]:\n",
        "            distance[new_node] = cost\n",
        "            heappush(h,(cost,new_node))\n",
        "\n",
        "\n",
        "print(distance[depart])"
      ],
      "metadata": {
        "colab": {
          "base_uri": "https://localhost:8080/"
        },
        "id": "h8rdCnSdlXX9",
        "outputId": "c0e4eb95-3959-463e-d65e-5a2280b1b01f"
      },
      "execution_count": 26,
      "outputs": [
        {
          "name": "stdout",
          "output_type": "stream",
          "text": [
            "1 2 2\n",
            "1 3 3\n",
            "1 4 1\n",
            "1 5 10\n",
            "2 4 2\n",
            "3 4 1\n",
            "3 5 1\n",
            "4 5 3\n",
            "1 5\n"
          ]
        }
      ]
    },
    {
      "cell_type": "code",
      "source": [
        "distance"
      ],
      "metadata": {
        "colab": {
          "base_uri": "https://localhost:8080/"
        },
        "id": "S6MNmRgppeeV",
        "outputId": "e957c459-0508-4aa3-89e3-3ca6a39b7e13"
      },
      "execution_count": 28,
      "outputs": [
        {
          "output_type": "execute_result",
          "data": {
            "text/plain": [
              "[inf, 0, 2, 3, 1, 4]"
            ]
          },
          "metadata": {},
          "execution_count": 28
        }
      ]
    },
    {
      "cell_type": "code",
      "source": [
        ""
      ],
      "metadata": {
        "id": "7M52m7RkqlOv"
      },
      "execution_count": null,
      "outputs": []
    }
  ]
}