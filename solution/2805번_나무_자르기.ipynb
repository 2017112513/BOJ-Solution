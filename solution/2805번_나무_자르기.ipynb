{
  "nbformat": 4,
  "nbformat_minor": 0,
  "metadata": {
    "colab": {
      "name": "2805번: 나무 자르기.ipynb",
      "provenance": [],
      "authorship_tag": "ABX9TyM57rLP1isJnqLoMXjvQzeA",
      "include_colab_link": true
    },
    "kernelspec": {
      "name": "python3",
      "display_name": "Python 3"
    },
    "language_info": {
      "name": "python"
    }
  },
  "cells": [
    {
      "cell_type": "markdown",
      "metadata": {
        "id": "view-in-github",
        "colab_type": "text"
      },
      "source": [
        "<a href=\"https://colab.research.google.com/github/easyseop/BOJ-Solution/blob/main/2805%EB%B2%88_%EB%82%98%EB%AC%B4_%EC%9E%90%EB%A5%B4%EA%B8%B0.ipynb\" target=\"_parent\"><img src=\"https://colab.research.google.com/assets/colab-badge.svg\" alt=\"Open In Colab\"/></a>"
      ]
    },
    {
      "cell_type": "code",
      "execution_count": null,
      "metadata": {
        "id": "AiCCVzgsKBzx"
      },
      "outputs": [],
      "source": [
        "N,M = map(int,input().split())\n",
        "arr = list(map(int,input().split()))\n",
        "\n",
        "\n",
        "start , end = 0,max(arr)\n",
        "h = (start+end)//2\n",
        "answer = 0\n",
        "while 1:\n",
        "    \n",
        "    sol_list = [i-h for i in arr if i>=h]\n",
        "    ans = sum(sol_list)\n",
        "\n",
        "    if ans>=M:\n",
        "        start = h+1\n",
        "        h = (start+end)//2\n",
        "    else:\n",
        "        answer = h\n",
        "        end = h-1\n",
        "        h = (start+end)//2\n",
        "print(answer)"
      ]
    }
  ]
}