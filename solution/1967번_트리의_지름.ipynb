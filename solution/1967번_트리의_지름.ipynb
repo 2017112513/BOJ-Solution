{
  "nbformat": 4,
  "nbformat_minor": 0,
  "metadata": {
    "colab": {
      "name": "1967번: 트리의 지름.ipynb",
      "provenance": [],
      "authorship_tag": "ABX9TyNFt/AjdNuYjFhAJP5t3h/r",
      "include_colab_link": true
    },
    "kernelspec": {
      "name": "python3",
      "display_name": "Python 3"
    },
    "language_info": {
      "name": "python"
    }
  },
  "cells": [
    {
      "cell_type": "markdown",
      "metadata": {
        "id": "view-in-github",
        "colab_type": "text"
      },
      "source": [
        "<a href=\"https://colab.research.google.com/github/easyseop/BOJ-Solution/blob/main/1967%EB%B2%88_%ED%8A%B8%EB%A6%AC%EC%9D%98_%EC%A7%80%EB%A6%84.ipynb\" target=\"_parent\"><img src=\"https://colab.research.google.com/assets/colab-badge.svg\" alt=\"Open In Colab\"/></a>"
      ]
    },
    {
      "cell_type": "code",
      "execution_count": 61,
      "metadata": {
        "colab": {
          "base_uri": "https://localhost:8080/"
        },
        "id": "e8L37MDMEe7O",
        "outputId": "94fef688-fe66-49a9-8b2a-89ceeccd7108"
      },
      "outputs": [
        {
          "output_type": "stream",
          "name": "stdout",
          "text": [
            "1\n",
            "1\n"
          ]
        }
      ],
      "source": [
        "from heapq import heappush,heappop\n",
        "n = int(input())\n",
        "\n",
        "dic = {}\n",
        "for i in range(1,n+1):\n",
        "    dic[i] = []\n",
        "\n",
        "for i in range(n-1):\n",
        "    a,b,c = map(int,input().split())\n",
        "    dic[a].append((c,b))\n",
        "    dic[b].append((c,a))\n",
        "\n",
        "def dijkstra(x):\n",
        "    tree = [float('inf')]*(n+1)\n",
        "    visited = [0]*(n+1)\n",
        "    h=  []\n",
        "    heappush(h,(0,x))\n",
        "    tree[x] = 1\n",
        "    while h:\n",
        "        cnt,node = heappop(h)\n",
        "        # print(node)\n",
        "        if visited[node] == 1:\n",
        "            continue\n",
        "        else:\n",
        "            visited[node]=1\n",
        "            for cost,new_node in dic[node]:\n",
        "                total = cost+cnt\n",
        "                if tree[new_node]>total:\n",
        "                    tree[new_node]=total\n",
        "                    heappush(h,(total,new_node))\n",
        "    M = 0\n",
        "    Mi =999\n",
        "    for idx,i in enumerate(tree[1:]):\n",
        "        if M<i:\n",
        "            M=i\n",
        "            Mi = idx+1\n",
        "    return Mi,M\n",
        "\n",
        "a,b = dijkstra(1)\n",
        "_,ans = dijkstra(a)\n",
        "\n",
        "print(ans if n!=1 else 0)"
      ]
    },
    {
      "cell_type": "code",
      "source": [
        "ans"
      ],
      "metadata": {
        "colab": {
          "base_uri": "https://localhost:8080/"
        },
        "id": "AdNBjgv4Oy3l",
        "outputId": "293d1aa2-e969-4817-bb1f-998111789b26"
      },
      "execution_count": 59,
      "outputs": [
        {
          "output_type": "execute_result",
          "data": {
            "text/plain": [
              "(12, 45)"
            ]
          },
          "metadata": {},
          "execution_count": 59
        }
      ]
    },
    {
      "cell_type": "code",
      "source": [
        ""
      ],
      "metadata": {
        "id": "KHTkABxROzEx"
      },
      "execution_count": null,
      "outputs": []
    }
  ]
}