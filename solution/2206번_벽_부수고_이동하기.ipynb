{
  "nbformat": 4,
  "nbformat_minor": 0,
  "metadata": {
    "colab": {
      "name": "2206번: 벽 부수고 이동하기.ipynb",
      "provenance": [],
      "authorship_tag": "ABX9TyNje9biosVFjgPOJ31gGQlf",
      "include_colab_link": true
    },
    "kernelspec": {
      "name": "python3",
      "display_name": "Python 3"
    },
    "language_info": {
      "name": "python"
    }
  },
  "cells": [
    {
      "cell_type": "markdown",
      "metadata": {
        "id": "view-in-github",
        "colab_type": "text"
      },
      "source": [
        "<a href=\"https://colab.research.google.com/github/easyseop/BOJ-Solution/blob/main/2206%EB%B2%88_%EB%B2%BD_%EB%B6%80%EC%88%98%EA%B3%A0_%EC%9D%B4%EB%8F%99%ED%95%98%EA%B8%B0.ipynb\" target=\"_parent\"><img src=\"https://colab.research.google.com/assets/colab-badge.svg\" alt=\"Open In Colab\"/></a>"
      ]
    },
    {
      "cell_type": "code",
      "source": [
        "from collections import deque\n",
        "n,m =map(int,input().split())\n",
        "lis = [list(map(int,input())) for i in range(n)]\n",
        "\n",
        "dx = [1,-1,0,0]\n",
        "dy = [0,0,1,-1]\n",
        "\n",
        "minimum = float(\"inf\")\n",
        "\n",
        "visited = [[[0]*m for i in range(n)] for j in range(2)] # 0번째 visited : 벽을 안 부쉈을 때 좌표 방문 List ,1번쨰: 반대 \n",
        "d = deque()\n",
        "leng = 1\n",
        "wall_flag = True # True면 벽을 부수지 않은 상태, 즉 1번의 부술 기회가 있다.\n",
        "d.append((0,0,leng,wall_flag)) \n",
        "visited[0][0][0] = 1\n",
        "flag = False # while 문이 끝나도 flag = False면 -1 출력\n",
        "while d:\n",
        "    x,y,l,wall_flag = d.popleft()\n",
        "    if x==n-1 and y==m-1:\n",
        "        minimum = min(minimum,l)\n",
        "        flag = True\n",
        "    if wall_flag:\n",
        "        idx = 0 \n",
        "    else:\n",
        "        idx = 1\n",
        "    for i in range(4):\n",
        "        a = x+dx[i]\n",
        "        b = y+dy[i]\n",
        "        if (0<=a<n and 0<=b<m) and not visited[idx][a][b]:\n",
        "            if lis[a][b] ==1 and wall_flag:\n",
        "                visited[1][a][b] = 1 #벽을 부쉈으면 1번째 방문 리스트에 방문 표시를 해야함 \n",
        "                d.append((a,b,l+1,False))\n",
        "\n",
        "            elif lis[a][b] ==0:\n",
        "                visited[idx][a][b] =1\n",
        "                d.append((a,b,l+1,wall_flag))\n",
        "          \n",
        "            else:\n",
        "                visited[idx][a][b]=1\n",
        "print(minimum if flag else -1)"
      ],
      "metadata": {
        "colab": {
          "base_uri": "https://localhost:8080/"
        },
        "id": "x240SkgFv7WO",
        "outputId": "dabd1073-908d-4b22-8940-104a39a336a5"
      },
      "execution_count": 60,
      "outputs": [
        {
          "output_type": "stream",
          "name": "stdout",
          "text": [
            "0 1\n",
            "2 0\n",
            "0 0\n",
            "0 2\n",
            "3 0\n",
            "2 1\n",
            "0 1\n",
            "0 3\n",
            "4 0\n",
            "2 2\n",
            "0 2\n",
            "1 3\n",
            "1 3\n",
            "0 4\n",
            "4 1\n",
            "2 3\n",
            "0 3\n",
            "2 3\n",
            "4 2\n",
            "2 4\n",
            "0 4\n",
            "2 4\n",
            "2 2\n",
            "2 1\n",
            "4 4\n",
            "2 0\n",
            "3 0\n",
            "4 0\n",
            "4 1\n",
            "4 2\n",
            "9\n"
          ]
        }
      ]
    },
    {
      "cell_type": "code",
      "source": [
        "# 나중에 공부해야할 코드\n",
        "# from collections import deque\n",
        "\n",
        "# n,m = map(int, input().split())\n",
        "\n",
        "# l = []\n",
        "# for _ in range(n):\n",
        "#     l.append(input())\n",
        "\n",
        "# visited = [[2] * m for _ in range(n)] # 2 방문 안함, 0이면 방문, 1이면 벽을 하나 뚫고옴\n",
        "# visited[0][0] = 0\n",
        "\n",
        "# res = 0\n",
        "# queue = deque([[0,0]])\n",
        "\n",
        "# can = False\n",
        "\n",
        "# dx = [1,-1,0,0]\n",
        "# dy = [0,0,1,-1]\n",
        "\n",
        "# while queue:\n",
        "#     if can:\n",
        "#         break\n",
        "\n",
        "#     res += 1\n",
        "#     for _ in range(len(queue)):     \n",
        "#         x, y = queue.popleft()\n",
        "\n",
        "#         if x == n-1 and y == m-1:\n",
        "#             print(res)\n",
        "#             can = True\n",
        "#             break\n",
        "\n",
        "#         for i in range(4):\n",
        "#             nx, my = x + dx[i], y + dy[i]\n",
        "#             if 0 <= nx < n and 0 <= my < m:\n",
        "#                 if l[nx][my] == '0' and visited[nx][my] > visited[x][y]: # 2 방문 안함, 0이면 방문, 1이면 벽을 하나 뚫고옴 \n",
        "#                     visited[nx][my] = visited[x][y]\n",
        "#                     queue.append([nx,my])\n",
        "#                 elif l[nx][my] == '1' and not visited[x][y]:\n",
        "#                     visited[nx][my] = visited[x][y] + 1\n",
        "#                     queue.append([nx,my])\n",
        "\n",
        "# if not can:\n",
        "#     print(-1)"
      ],
      "metadata": {
        "id": "-bEZ3-BqGzbe"
      },
      "execution_count": null,
      "outputs": []
    }
  ]
}