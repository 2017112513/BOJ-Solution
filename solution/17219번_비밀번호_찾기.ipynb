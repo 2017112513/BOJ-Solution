{
  "nbformat": 4,
  "nbformat_minor": 0,
  "metadata": {
    "colab": {
      "name": "17219번: 비밀번호 찾기.ipynb",
      "provenance": [],
      "authorship_tag": "ABX9TyNoYS1gb4nTJqsd3qlnCq5y",
      "include_colab_link": true
    },
    "kernelspec": {
      "name": "python3",
      "display_name": "Python 3"
    },
    "language_info": {
      "name": "python"
    }
  },
  "cells": [
    {
      "cell_type": "markdown",
      "metadata": {
        "id": "view-in-github",
        "colab_type": "text"
      },
      "source": [
        "<a href=\"https://colab.research.google.com/github/easyseop/BOJ-Solution/blob/main/17219%EB%B2%88_%EB%B9%84%EB%B0%80%EB%B2%88%ED%98%B8_%EC%B0%BE%EA%B8%B0.ipynb\" target=\"_parent\"><img src=\"https://colab.research.google.com/assets/colab-badge.svg\" alt=\"Open In Colab\"/></a>"
      ]
    },
    {
      "cell_type": "code",
      "execution_count": null,
      "metadata": {
        "id": "7EpoPmIRkHaR"
      },
      "outputs": [],
      "source": [
        "n,m = map(int,input().split())\n",
        "dic = {}\n",
        "for _ in range(n):\n",
        "    email,password = input().split()\n",
        "    dic[email]=password\n",
        "for _ in range(m):\n",
        "    print(dic[input()])"
      ]
    }
  ]
}