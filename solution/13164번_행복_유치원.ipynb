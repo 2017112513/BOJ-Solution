{
  "nbformat": 4,
  "nbformat_minor": 0,
  "metadata": {
    "colab": {
      "name": "13164번: 행복 유치원.ipynb",
      "provenance": [],
      "authorship_tag": "ABX9TyOuO8s6v4DoSbeuzS/j0zLs",
      "include_colab_link": true
    },
    "kernelspec": {
      "name": "python3",
      "display_name": "Python 3"
    },
    "language_info": {
      "name": "python"
    }
  },
  "cells": [
    {
      "cell_type": "markdown",
      "metadata": {
        "id": "view-in-github",
        "colab_type": "text"
      },
      "source": [
        "<a href=\"https://colab.research.google.com/github/easyseop/BOJ-Programmers/blob/main/13164%EB%B2%88_%ED%96%89%EB%B3%B5_%EC%9C%A0%EC%B9%98%EC%9B%90.ipynb\" target=\"_parent\"><img src=\"https://colab.research.google.com/assets/colab-badge.svg\" alt=\"Open In Colab\"/></a>"
      ]
    },
    {
      "cell_type": "code",
      "execution_count": null,
      "metadata": {
        "id": "Qky91rI4Cpca"
      },
      "outputs": [],
      "source": [
        "from cgitb import small\n",
        "from collections import defaultdict\n",
        "import re\n",
        "n,m  = map(int,input().split())\n",
        "arr = list(input().split())\n",
        "\n",
        "dic = defaultdict(int)\n",
        "\n",
        "for i in range(n-1):\n",
        "\ts = int(arr[i+1]) - int(arr[i])\n",
        "\tkey = str(i)+','+str(i+1)\n",
        "\tdic[key] =  s\n",
        "\n",
        "dic = sorted(dic.items(),key = lambda x: (x[1]) )\n",
        "M = m\n",
        "small_index = 0\n",
        "ans_idx =[0]\n",
        "while M>1:\n",
        "\tindex_str,value = dic.pop()\n",
        "\tstandard_s,standard_b = index_str.split(',')\n",
        "\n",
        "\tans_idx.append(int(standard_b))\n",
        "\n",
        "\tM-=1\n",
        "\n",
        "answer = 0\n",
        "\n",
        "ans_idx = sorted(ans_idx)\n",
        "\n",
        "for i in range(len(ans_idx)):\n",
        "\tif i == len(ans_idx) -1:\n",
        "\t\ts = ans_idx[i]\n",
        "\n",
        "\t\tsub = arr[s:]\n",
        "\t\tanswer+=int(sub[-1])-int(sub[0])\n",
        "\telse:\n",
        "\t\t\n",
        "\t\ts,b = ans_idx[i],ans_idx[i+1]\n",
        "\n",
        "\t\tsub = arr[s:b]\n",
        "\n",
        "\t\tif len(sub) >= 2:\n",
        "\t\t\tanswer += int(sub[-1]) - int(sub[0])\n",
        "\n",
        "\n",
        "print(answer)"
      ]
    }
  ]
}