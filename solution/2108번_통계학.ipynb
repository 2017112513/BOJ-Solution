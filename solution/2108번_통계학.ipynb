{
  "nbformat": 4,
  "nbformat_minor": 0,
  "metadata": {
    "colab": {
      "name": "2108번 : 통계학.ipynb",
      "provenance": [],
      "authorship_tag": "ABX9TyPBKj+OQI+nXoEheak3iAjl",
      "include_colab_link": true
    },
    "kernelspec": {
      "name": "python3",
      "display_name": "Python 3"
    },
    "language_info": {
      "name": "python"
    }
  },
  "cells": [
    {
      "cell_type": "markdown",
      "metadata": {
        "id": "view-in-github",
        "colab_type": "text"
      },
      "source": [
        "<a href=\"https://colab.research.google.com/github/easyseop/BOJ-Programmers/blob/main/2108%EB%B2%88_%ED%86%B5%EA%B3%84%ED%95%99.ipynb\" target=\"_parent\"><img src=\"https://colab.research.google.com/assets/colab-badge.svg\" alt=\"Open In Colab\"/></a>"
      ]
    },
    {
      "cell_type": "code",
      "execution_count": null,
      "metadata": {
        "id": "ezo67CX42QLF"
      },
      "outputs": [],
      "source": [
        "import sys\n",
        "from collections import defaultdict\n",
        "input = sys.stdin.readline\n",
        "n = int(input())\n",
        "arr = sorted([int(input()) for _ in range(n)])\n",
        "\n",
        "\n",
        "if n == 1:\n",
        "    print(arr[0])\n",
        "    print(arr[0])\n",
        "    print(arr[0])\n",
        "    print(0)\n",
        "else:\n",
        "\n",
        "    dic = defaultdict(int)\n",
        "    for i in arr:\n",
        "        dic[i]+=1\n",
        "    dic =sorted(dic.items(),key=lambda x: (-x[1],x[0]))\n",
        "\n",
        "\n",
        "    mean = round(sum(arr)/len(arr))\n",
        "\n",
        "\n",
        "\n",
        "    print(mean)\n",
        "    print(arr[len(arr)//2])\n",
        "    if dic[0][1] == dic[1][1]:\n",
        "        print(dic[1][0])\n",
        "    else:\n",
        "        print(dic[0][0])\n",
        "    print(max(arr)-min(arr))"
      ]
    }
  ]
}