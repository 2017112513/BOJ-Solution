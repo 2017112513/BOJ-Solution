{
  "nbformat": 4,
  "nbformat_minor": 0,
  "metadata": {
    "colab": {
      "name": "17144번: 미세먼지 안녕!.ipynb",
      "provenance": [],
      "authorship_tag": "ABX9TyOGymA3yPtPR4dg/kqR9MC4",
      "include_colab_link": true
    },
    "kernelspec": {
      "name": "python3",
      "display_name": "Python 3"
    },
    "language_info": {
      "name": "python"
    }
  },
  "cells": [
    {
      "cell_type": "markdown",
      "metadata": {
        "id": "view-in-github",
        "colab_type": "text"
      },
      "source": [
        "<a href=\"https://colab.research.google.com/github/easyseop/BOJ-Solution/blob/main/17144%EB%B2%88_%EB%AF%B8%EC%84%B8%EB%A8%BC%EC%A7%80_%EC%95%88%EB%85%95!.ipynb\" target=\"_parent\"><img src=\"https://colab.research.google.com/assets/colab-badge.svg\" alt=\"Open In Colab\"/></a>"
      ]
    },
    {
      "cell_type": "code",
      "execution_count": 2,
      "metadata": {
        "colab": {
          "base_uri": "https://localhost:8080/"
        },
        "id": "rHE6xzKXsXFg",
        "outputId": "794257fd-2e86-444e-aff1-a0e6f99050a3"
      },
      "outputs": [
        {
          "name": "stdout",
          "output_type": "stream",
          "text": [
            "7 8 1\n",
            "0 0 0 0 0 0 0 9\n",
            "0 0 0 0 3 0 0 8\n",
            "-1 0 5 0 0 0 22 0\n",
            "-1 8 0 0 0 0 0 0\n",
            "0 0 0 0 0 10 43 0\n",
            "0 0 5 0 15 0 0 0\n",
            "0 0 40 0 0 0 20 0\n"
          ]
        }
      ],
      "source": [
        "from copy import deepcopy\n",
        "from collections import deque\n",
        "\n",
        "def next_diffusion():\n",
        "    virus = [[0]*C for i in range(R)]\n",
        "    for i in range(R):\n",
        "        for j in range(C):\n",
        "            if lis[i][j] !=0 and lis[i][j] != -1 :\n",
        "                virus[i][j] = (lis[i][j]//5)\n",
        "\n",
        "    return virus\n",
        "\n",
        "R,C,T = map(int,input().split())\n",
        "lis = [list(map(int,input().split())) for i in range(R)]\n",
        "\n",
        "dx = [1,-1,0,0]\n",
        "dy = [0,0,1,-1]\n",
        "air = []\n",
        "direction = False\n",
        "for i in range(R):\n",
        "    for j in range(C):\n",
        "        if lis[i][j] == -1:\n",
        "            air.append((i,j,direction)) # direction = False -> 반시계 방향\n",
        "            direction = True \n",
        "\n",
        "\n",
        "\n",
        "day = 0\n",
        "while 1:\n",
        "    day +=1 \n",
        "    next_virus = next_diffusion()\n",
        "    for i in range(R):\n",
        "            for j in range(C):\n",
        "                if next_virus!= 0:\n",
        "                    for k in range(4):\n",
        "                        x = i+dx[k]\n",
        "                        y = j+dy[k]\n",
        "                        if (0<=x<R and 0<=y<C) and lis[x][y] != -1:\n",
        "                            lis[x][y] += next_virus[i][j]\n",
        "                            lis[i][j] -= next_virus[i][j]\n",
        "\n",
        "    for air_x,air_y,direction in air:\n",
        "        if not direction: #반시계일때 \n",
        "            for i in range(air_x-1,-1,-1): #위>아래 방향  \n",
        "                if i+1 == air_x: # 미세먼지가 공기정청기로 갈 경우\n",
        "                    continue\n",
        "                lis[i+1][air_y] = lis[i][air_y]\n",
        "\n",
        "            for j in range(1,C): #오>왼 방향  c가 8\n",
        "                  lis[0][j-1] = lis[0][j]\n",
        "            \n",
        "            for k in range(1,air_x+1):\n",
        "                  lis[k-1][C-1] = lis[k][C-1] # 아래>위 방향\n",
        "            \n",
        "            for z in range(C-2,-1,-1):\n",
        "                  if z == 0:\n",
        "                      lis[air_x][z+1] = 0\n",
        "                  else:\n",
        "                      lis[air_x][z+1] = lis[air_x][z] # 왼>오 방향\n",
        "          \n",
        "        else: #시계일때\n",
        "            for i in range(air_x+1,R): # 아래>위 방향\n",
        "                if i-1 == air_x:\n",
        "                    continue\n",
        "                lis[i-1][0] = lis[i][0] \n",
        "            \n",
        "            for j in range(1,C): #오>왼 방향\n",
        "            \n",
        "                lis[R-1][j-1] = lis[R-1][j]\n",
        "\n",
        "            for k in range(R-2,air_x-1,-1): #위>아래 방향\n",
        "                lis[k+1][C-1] = lis[k][C-1]\n",
        "            \n",
        "            for z in range(C-2,-1,-1):\n",
        "                if z == 0:\n",
        "                    lis[air_x][z+1] = 0\n",
        "                else:\n",
        "                    lis[air_x][z+1] = lis[air_x][z]\n",
        "    if day==T:\n",
        "        ans = 0\n",
        "        for i in range(R):\n",
        "            for j in range(C):\n",
        "                ans+=lis[i][j] \n",
        "        print(ans+2)\n",
        "        break"
      ]
    },
    {
      "cell_type": "code",
      "source": [
        "lis"
      ],
      "metadata": {
        "colab": {
          "base_uri": "https://localhost:8080/"
        },
        "id": "zTjaEKrk07Zb",
        "outputId": "08ac603c-4e8c-4ee2-bbda-a947d9fce8cb"
      },
      "execution_count": 115,
      "outputs": [
        {
          "output_type": "execute_result",
          "data": {
            "text/plain": [
              "[[0, 0, 0, 0, 0, 1, 8, 6],\n",
              " [0, 0, 1, 0, 3, 0, 5, 5],\n",
              " [-1, 0, 2, 1, 1, 0, 4, 6],\n",
              " [-1, 0, 5, 2, 0, 0, 2, 12],\n",
              " [0, 1, 1, 0, 5, 10, 13, 0],\n",
              " [0, 1, 9, 4, 3, 5, 12, 8],\n",
              " [8, 17, 8, 3, 4, 8, 4, 0]]"
            ]
          },
          "metadata": {},
          "execution_count": 115
        }
      ]
    },
    {
      "cell_type": "code",
      "source": [
        ""
      ],
      "metadata": {
        "id": "LEqOQtVh8xKD"
      },
      "execution_count": 115,
      "outputs": []
    }
  ]
}