{
  "nbformat": 4,
  "nbformat_minor": 0,
  "metadata": {
    "colab": {
      "name": "1920번:수 찾기.ipynb",
      "provenance": [],
      "authorship_tag": "ABX9TyM0Dwo0JnaNRJ7+oSMrx9yl",
      "include_colab_link": true
    },
    "kernelspec": {
      "name": "python3",
      "display_name": "Python 3"
    },
    "language_info": {
      "name": "python"
    }
  },
  "cells": [
    {
      "cell_type": "markdown",
      "metadata": {
        "id": "view-in-github",
        "colab_type": "text"
      },
      "source": [
        "<a href=\"https://colab.research.google.com/github/easyseop/BOJ-Solution/blob/main/1920%EB%B2%88_%EC%88%98_%EC%B0%BE%EA%B8%B0.ipynb\" target=\"_parent\"><img src=\"https://colab.research.google.com/assets/colab-badge.svg\" alt=\"Open In Colab\"/></a>"
      ]
    },
    {
      "cell_type": "code",
      "execution_count": null,
      "metadata": {
        "id": "vEX2XNTsJ20q"
      },
      "outputs": [],
      "source": [
        "N = int(input())\n",
        "arr  =sorted(list(set(map(int,input().split()))))\n",
        "\n",
        "M = int(input())\n",
        "var = list(map(int,input().split()))\n",
        "\n",
        "for n in var:\n",
        "    start = 0\n",
        "    end = len(arr)-1\n",
        "    mid = (start+end)//2\n",
        "    while 1:\n",
        "        if n<arr[start] or n>arr[end] or start>end:\n",
        "            print(0)\n",
        "            break\n",
        "        \n",
        "        if arr[mid] == n:\n",
        "            print(1)\n",
        "            break\n",
        "\n",
        "        \n",
        "        \n",
        "        elif arr[mid]>n:\n",
        "            end = mid-1\n",
        "            mid = (start+end)//2\n",
        "        else:\n",
        "            start = mid+1\n",
        "            mid = (start+end)//2\n",
        "        \n",
        "\n"
      ]
    }
  ]
}