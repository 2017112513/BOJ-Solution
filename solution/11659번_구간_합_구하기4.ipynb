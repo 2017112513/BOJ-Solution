{
  "nbformat": 4,
  "nbformat_minor": 0,
  "metadata": {
    "colab": {
      "name": "11659번: 구간 합 구하기4.ipynb",
      "provenance": [],
      "authorship_tag": "ABX9TyMbX8kxn48H2VrO2lKJrGNq",
      "include_colab_link": true
    },
    "kernelspec": {
      "name": "python3",
      "display_name": "Python 3"
    },
    "language_info": {
      "name": "python"
    }
  },
  "cells": [
    {
      "cell_type": "markdown",
      "metadata": {
        "id": "view-in-github",
        "colab_type": "text"
      },
      "source": [
        "<a href=\"https://colab.research.google.com/github/easyseop/BOJ-Solution/blob/main/11659%EB%B2%88_%EA%B5%AC%EA%B0%84_%ED%95%A9_%EA%B5%AC%ED%95%98%EA%B8%B04.ipynb\" target=\"_parent\"><img src=\"https://colab.research.google.com/assets/colab-badge.svg\" alt=\"Open In Colab\"/></a>"
      ]
    },
    {
      "cell_type": "code",
      "source": [
        "# 시간초과"
      ],
      "metadata": {
        "id": "GonHnslKw3ke"
      },
      "execution_count": null,
      "outputs": []
    },
    {
      "cell_type": "code",
      "execution_count": 15,
      "metadata": {
        "colab": {
          "base_uri": "https://localhost:8080/"
        },
        "id": "_y63PHpJmyaG",
        "outputId": "bc9a9b48-ff52-4550-9fd7-760fdd4cc8c3"
      },
      "outputs": [
        {
          "output_type": "stream",
          "name": "stdout",
          "text": [
            "5 3\n",
            "5 4 3 2 1\n",
            "1 3\n",
            "12\n",
            "2 4\n",
            "5\n",
            "5 5\n",
            "1\n"
          ]
        }
      ],
      "source": [
        "import sys\n",
        "input = sys.stdin.readline\n",
        "N,cnt = map(int,input().split())\n",
        "arr = list(map(int,input().split()))\n",
        "for _ in range(cnt):\n",
        "    a,b = map(int,input().split())\n",
        "    a,b = a-1,b-1\n",
        "    print(sum(arr[a:b+1]))\n",
        "    "
      ]
    },
    {
      "cell_type": "code",
      "source": [
        "\n",
        "N,cnt = map(int,input().split())\n",
        "arr = list(map(int,input().split()))\n",
        "num = [0 for i in range(N)]\n",
        "num[0] = arr[0]\n",
        "for i in range(1,N):\n",
        "    num[i] = num[i-1]+arr[i]\n",
        "    x\n",
        "for _ in range(cnt):\n",
        "    a,b = map(int,input().split())\n",
        "    a,b = a-1,b-1\n",
        "    if a==b:\n",
        "        print(arr[a])\n",
        "    elif a==0:\n",
        "        print(num[b])\n",
        "    else:\n",
        "        print(num[b]-num[a-1])"
      ],
      "metadata": {
        "colab": {
          "base_uri": "https://localhost:8080/"
        },
        "id": "1KjPOr8YnYAK",
        "outputId": "f9e12166-48c9-4e10-cc21-cd5fa2172c4e"
      },
      "execution_count": 12,
      "outputs": [
        {
          "output_type": "stream",
          "name": "stdout",
          "text": [
            "5 3\n",
            "5 4 3 2 1\n",
            "1 3\n",
            "12\n",
            "2 4\n",
            "5\n",
            "5 5\n",
            "1\n"
          ]
        }
      ]
    }
  ]
}