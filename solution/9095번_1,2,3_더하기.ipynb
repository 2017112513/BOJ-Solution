{
  "nbformat": 4,
  "nbformat_minor": 0,
  "metadata": {
    "colab": {
      "name": "9095번: 1,2,3 더하기.ipynb",
      "provenance": [],
      "authorship_tag": "ABX9TyN2spNCWwTY1KWFLp21aHdU",
      "include_colab_link": true
    },
    "kernelspec": {
      "name": "python3",
      "display_name": "Python 3"
    },
    "language_info": {
      "name": "python"
    }
  },
  "cells": [
    {
      "cell_type": "markdown",
      "metadata": {
        "id": "view-in-github",
        "colab_type": "text"
      },
      "source": [
        "<a href=\"https://colab.research.google.com/github/easyseop/BOJ-Solution/blob/main/9095%EB%B2%88_1%2C2%2C3_%EB%8D%94%ED%95%98%EA%B8%B0.ipynb\" target=\"_parent\"><img src=\"https://colab.research.google.com/assets/colab-badge.svg\" alt=\"Open In Colab\"/></a>"
      ]
    },
    {
      "cell_type": "code",
      "execution_count": 3,
      "metadata": {
        "colab": {
          "base_uri": "https://localhost:8080/"
        },
        "id": "WWo6zhOiIUBF",
        "outputId": "13c3c013-2e70-4b2f-fc76-983e2805c7b4"
      },
      "outputs": [
        {
          "name": "stdout",
          "output_type": "stream",
          "text": [
            "3\n"
          ]
        }
      ],
      "source": [
        "T = int(input())"
      ]
    },
    {
      "cell_type": "code",
      "source": [
        "f=[0]*11\n",
        "f[1]= 1\n",
        "f[2]= 2\n",
        "f[3]= 4\n",
        "for i in range(4,10+1):\n",
        "    f[i] = f[i-1]+f[i-2]+f[i-3]\n",
        "    \n",
        "for _ in range(int(input())):\n",
        "  print(f[int(input())])"
      ],
      "metadata": {
        "colab": {
          "base_uri": "https://localhost:8080/"
        },
        "id": "1Np9tpHJLSno",
        "outputId": "1998c89b-d21f-4934-e73d-08fdccf2b45e"
      },
      "execution_count": 9,
      "outputs": [
        {
          "output_type": "stream",
          "name": "stdout",
          "text": [
            "4\n",
            "7\n",
            "7\n",
            "44\n",
            "10\n",
            "274\n"
          ]
        }
      ]
    },
    {
      "cell_type": "code",
      "source": [
        ""
      ],
      "metadata": {
        "colab": {
          "base_uri": "https://localhost:8080/"
        },
        "id": "nDTNejbLLyp3",
        "outputId": "3e5ad816-07a1-444e-8c68-f6275c5b44a1"
      },
      "execution_count": 6,
      "outputs": [
        {
          "output_type": "execute_result",
          "data": {
            "text/plain": [
              "[0, 0, 0, 0, 0, 0, 0, 0, 0, 0, 0]"
            ]
          },
          "metadata": {},
          "execution_count": 6
        }
      ]
    },
    {
      "cell_type": "code",
      "source": [
        ""
      ],
      "metadata": {
        "id": "2iYeN460P8JK"
      },
      "execution_count": null,
      "outputs": []
    }
  ]
}