{
  "nbformat": 4,
  "nbformat_minor": 0,
  "metadata": {
    "colab": {
      "name": "11286번: 절대값 힙.ipynb",
      "provenance": [],
      "collapsed_sections": [],
      "authorship_tag": "ABX9TyN7p7eNU00/kQKjjW9AweS+",
      "include_colab_link": true
    },
    "kernelspec": {
      "name": "python3",
      "display_name": "Python 3"
    },
    "language_info": {
      "name": "python"
    }
  },
  "cells": [
    {
      "cell_type": "markdown",
      "metadata": {
        "id": "view-in-github",
        "colab_type": "text"
      },
      "source": [
        "<a href=\"https://colab.research.google.com/github/easyseop/BOJ-Solution/blob/main/11286%EB%B2%88_%EC%A0%88%EB%8C%80%EA%B0%92_%ED%9E%99.ipynb\" target=\"_parent\"><img src=\"https://colab.research.google.com/assets/colab-badge.svg\" alt=\"Open In Colab\"/></a>"
      ]
    },
    {
      "cell_type": "code",
      "execution_count": 1,
      "metadata": {
        "colab": {
          "base_uri": "https://localhost:8080/"
        },
        "id": "8osOUijaY1j5",
        "outputId": "99de5e75-10c1-4b51-95a9-f0a1272d3bac"
      },
      "outputs": [
        {
          "name": "stdout",
          "output_type": "stream",
          "text": [
            "18\n"
          ]
        }
      ],
      "source": [
        "import heapq\n",
        "n = int(input())\n",
        "heap = []\n",
        "for i in range(n):\n",
        "    string = int(input())\n",
        "    if string ==0:\n",
        "        if len(heap)==0:\n",
        "            print(0)\n",
        "        else:\n",
        "            pop = heapq.heappop(heap)\n",
        "            print(pop[1])\n",
        "\n",
        "    else:\n",
        "          heapq.heappush(heap,(abs(string),string))\n",
        "        "
      ]
    },
    {
      "cell_type": "code",
      "source": [
        ""
      ],
      "metadata": {
        "id": "Hdjc4xrFaSWx"
      },
      "execution_count": null,
      "outputs": []
    }
  ]
}