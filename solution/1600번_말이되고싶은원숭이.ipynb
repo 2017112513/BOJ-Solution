{
  "nbformat": 4,
  "nbformat_minor": 0,
  "metadata": {
    "colab": {
      "name": "1600번 : 말이되고싶은원숭이.ipynb",
      "provenance": [],
      "authorship_tag": "ABX9TyPA3RqF9XkuQZxQqpw2mt4i",
      "include_colab_link": true
    },
    "kernelspec": {
      "name": "python3",
      "display_name": "Python 3"
    },
    "language_info": {
      "name": "python"
    }
  },
  "cells": [
    {
      "cell_type": "markdown",
      "metadata": {
        "id": "view-in-github",
        "colab_type": "text"
      },
      "source": [
        "<a href=\"https://colab.research.google.com/github/easyseop/BOJ-Programmers/blob/main/1600%EB%B2%88_%EB%A7%90%EC%9D%B4%EB%90%98%EA%B3%A0%EC%8B%B6%EC%9D%80%EC%9B%90%EC%88%AD%EC%9D%B4.ipynb\" target=\"_parent\"><img src=\"https://colab.research.google.com/assets/colab-badge.svg\" alt=\"Open In Colab\"/></a>"
      ]
    },
    {
      "cell_type": "code",
      "execution_count": null,
      "metadata": {
        "id": "vx_VpR7STx-D"
      },
      "outputs": [],
      "source": [
        "import sys\n",
        "input = sys.stdin.readline\n",
        "K = int(input())\n",
        "n,m = map(int,input().split())\n",
        "\n",
        "arr  = [list(map(int,input().split())) for i in range(m)]\n",
        "\n",
        "start_x,start_y = 0,0\n",
        "\n",
        "from heapq import heappush,heappop\n",
        "\n",
        "h = []\n",
        "heappush(h,[0,0,0,K]) #x,y,K,cnt\n",
        "\n",
        "\n",
        "\n",
        "dx = [1,-1,0,0]\n",
        "dy = [0,0,1,-1]\n",
        "\n",
        "\n",
        "h_dx = [2,1,-2,-1,2,1,-2,-1] #말이 움직일 수 있는 방향\n",
        "h_dy = [1,2,1,2,-1,-2,-1,-2]\n",
        "\n",
        "visited = [[[0]*n for i in range(m)] for i in range(K+1)]\n",
        "\n",
        "answer = 0\n",
        "flag = False\n",
        "\n",
        "# print('------')\n",
        "while h:\n",
        "    \n",
        "    cnt,x,y,k = heappop(h)\n",
        "    # print(x,y,k,cnt)\n",
        "    if (x == m-1 and y== n-1):\n",
        "        answer = cnt\n",
        "        flag = True\n",
        "        break\n",
        "    for i in range(4):\n",
        "        a = x+dx[i]\n",
        "        b = y+dy[i]\n",
        "        \n",
        "        if (0<=a<m and 0<=b<n) and not visited[k][a][b]:\n",
        "            if (arr[a][b] != 1):\n",
        "                visited[k][a][b] = cnt+1\n",
        "                heappush(h,[cnt+1,a,b,k])\n",
        "        if k>=1:\n",
        "            for j in range(8):\n",
        "                p = x+h_dx[j]\n",
        "                q = y+h_dy[j]\n",
        "                if (0<=p<m and 0<=q<n)  and not visited[k-1][p][q]:\n",
        "                    if (arr[p][q]) != 1:\n",
        "                        visited[k-1][p][q] = cnt+1\n",
        "                        heappush(h,[cnt+1,p,q,k-1])\n",
        "    else:\n",
        "        pass\n",
        "\n",
        "\n",
        "if flag:\n",
        "    print(answer)\n",
        "else:\n",
        "    print(-1)"
      ]
    }
  ]
}