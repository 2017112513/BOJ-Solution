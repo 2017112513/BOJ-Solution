{
  "nbformat": 4,
  "nbformat_minor": 0,
  "metadata": {
    "colab": {
      "name": "13549번: 숨바꼭질 3.ipynb",
      "provenance": [],
      "authorship_tag": "ABX9TyO5pt44AZy0tm4S6mBtTAuQ",
      "include_colab_link": true
    },
    "kernelspec": {
      "name": "python3",
      "display_name": "Python 3"
    },
    "language_info": {
      "name": "python"
    }
  },
  "cells": [
    {
      "cell_type": "markdown",
      "metadata": {
        "id": "view-in-github",
        "colab_type": "text"
      },
      "source": [
        "<a href=\"https://colab.research.google.com/github/easyseop/BOJ-Solution/blob/main/13549%EB%B2%88_%EC%88%A8%EB%B0%94%EA%BC%AD%EC%A7%88_3.ipynb\" target=\"_parent\"><img src=\"https://colab.research.google.com/assets/colab-badge.svg\" alt=\"Open In Colab\"/></a>"
      ]
    },
    {
      "cell_type": "code",
      "execution_count": null,
      "metadata": {
        "id": "5i-Qo2JMRXf1"
      },
      "outputs": [],
      "source": [
        "from heapq import heappush,heappop\n",
        "n,m = map(int,input().split())\n",
        "visited=[float('inf')]*100001\n",
        "visited[n] = 0\n",
        "if n<=m:\n",
        "    h = []\n",
        "    heappush(h,(0,n))\n",
        "\n",
        "    dx = [1,-1]\n",
        "    while h:\n",
        "        time,x = heappop(h)\n",
        "        print(time,x)\n",
        "        if x==m:\n",
        "            print(time)\n",
        "            break\n",
        "        for i in range(2):\n",
        "            a = x + dx[i]\n",
        "            if 0<=a<=m:\n",
        "                if visited[a]>time+1:\n",
        "                    heappush(h,(time+1,a))\n",
        "                    visited[a]=time+1\n",
        "\n",
        "        if x!=0:\n",
        "            a = x*2\n",
        "            if 0<=a<=100000:\n",
        "                if visited[a]>time:\n",
        "                    heappush(h,(time,a))\n",
        "else:\n",
        "    print(n-m)\n",
        "      \n",
        "\n",
        "\n"
      ]
    }
  ]
}