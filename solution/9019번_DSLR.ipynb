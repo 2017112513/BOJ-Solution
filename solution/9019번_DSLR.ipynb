{
  "nbformat": 4,
  "nbformat_minor": 0,
  "metadata": {
    "colab": {
      "name": "9019번: DSLR.ipynb",
      "provenance": [],
      "authorship_tag": "ABX9TyPiU4aDKzHVS86mTNh4JwTC",
      "include_colab_link": true
    },
    "kernelspec": {
      "name": "python3",
      "display_name": "Python 3"
    },
    "language_info": {
      "name": "python"
    }
  },
  "cells": [
    {
      "cell_type": "markdown",
      "metadata": {
        "id": "view-in-github",
        "colab_type": "text"
      },
      "source": [
        "<a href=\"https://colab.research.google.com/github/easyseop/BOJ-Solution/blob/main/9019%EB%B2%88_DSLR.ipynb\" target=\"_parent\"><img src=\"https://colab.research.google.com/assets/colab-badge.svg\" alt=\"Open In Colab\"/></a>"
      ]
    },
    {
      "cell_type": "code",
      "source": [
        "from collections import deque\n",
        "\n",
        "def D(n,lis):\n",
        "    n = (2*n) % 10000\n",
        "    if n == B:\n",
        "        return True,lis+'D'\n",
        "    else:\n",
        "        if visted[n]==0:\n",
        "            visted[n]=1\n",
        "            d.append((n,lis+'D'))\n",
        "        return False,''\n",
        "\n",
        "def S(n,lis):\n",
        "    if n==0 :\n",
        "        n = 9999\n",
        "        if n == B:\n",
        "            return True,lis+'S'\n",
        "        else:\n",
        "            if visted[n]==0:\n",
        "                visted[n]=1\n",
        "                d.append((n,lis+'S'))\n",
        "            return False,''\n",
        "    else:\n",
        "        n = n-1\n",
        "        if n == B:\n",
        "            return True,lis+'S'\n",
        "        else:\n",
        "            if visted[n]==0:\n",
        "                visted[n]=1\n",
        "                d.append((n,lis+'S'))\n",
        "            return False,''\n",
        "\n",
        "\n",
        "def L(n,lis):\n",
        "    n = (n%1000)*10 + n//1000\n",
        "    if n == B:\n",
        "        return True,lis+'L'\n",
        "    else:\n",
        "      if visted[n]==0:\n",
        "            visted[n]=1\n",
        "            d.append((n,lis+'L'))\n",
        "      return False,''\n",
        "\n",
        "def R(n,lis):\n",
        "\n",
        "    n= (n%10)*1000 + n//10\n",
        "  \n",
        "    if n == B:\n",
        "        return True,lis+'R'\n",
        "    else:\n",
        "        if visted[n]==0:\n",
        "            visted[n]=1\n",
        "            d.append((n,lis+'R'))\n",
        "        return False,''\n",
        "\n",
        "\n",
        "for _ in range(int(input())):\n",
        "    A,B = map(int,input().strip().split())\n",
        "    d = deque([(A,'')])\n",
        "    visted=[0]*10001\n",
        "    while 1:\n",
        "        A,lis = d.popleft()\n",
        "  \n",
        "        flag , ans = D(A,lis)\n",
        "        if flag:\n",
        "            print(ans)\n",
        "            break\n",
        "        flag , ans = S(A,lis)\n",
        "        if flag:\n",
        "            print(ans)\n",
        "            break\n",
        "        flag , ans = L(A,lis)\n",
        "        if flag:\n",
        "            print(ans)\n",
        "            break\n",
        "        flag , ans = R(A,lis)\n",
        "        if flag:\n",
        "            print(ans)\n",
        "            break\n",
        "  "
      ],
      "metadata": {
        "colab": {
          "base_uri": "https://localhost:8080/"
        },
        "id": "c6JR_0jXvJET",
        "outputId": "f7312168-2faa-4ecd-e6d4-db3ba94e576e"
      },
      "execution_count": 236,
      "outputs": [
        {
          "output_type": "stream",
          "name": "stdout",
          "text": [
            "1\n",
            "2 1024\n",
            "DDDDDDDDD\n"
          ]
        }
      ]
    },
    {
      "cell_type": "code",
      "source": [
        "len(d)"
      ],
      "metadata": {
        "colab": {
          "base_uri": "https://localhost:8080/"
        },
        "id": "VhYjwQ_U-tGZ",
        "outputId": "9bcdd45c-129f-4315-8a70-5f180f7a5c84"
      },
      "execution_count": 237,
      "outputs": [
        {
          "output_type": "execute_result",
          "data": {
            "text/plain": [
              "1494"
            ]
          },
          "metadata": {},
          "execution_count": 237
        }
      ]
    },
    {
      "cell_type": "code",
      "source": [
        ""
      ],
      "metadata": {
        "id": "__n_8Xvr-tPy"
      },
      "execution_count": null,
      "outputs": []
    },
    {
      "cell_type": "code",
      "source": [
        ""
      ],
      "metadata": {
        "id": "TZs2t5YC9wOi"
      },
      "execution_count": null,
      "outputs": []
    }
  ]
}