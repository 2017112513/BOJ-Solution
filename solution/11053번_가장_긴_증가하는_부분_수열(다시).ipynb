{
  "nbformat": 4,
  "nbformat_minor": 0,
  "metadata": {
    "colab": {
      "name": "11053번: 가장 긴 증가하는 부분 수열(다시).ipynb",
      "provenance": [],
      "authorship_tag": "ABX9TyOzjKHuAWNOhYVf7OqbPOTH",
      "include_colab_link": true
    },
    "kernelspec": {
      "name": "python3",
      "display_name": "Python 3"
    },
    "language_info": {
      "name": "python"
    }
  },
  "cells": [
    {
      "cell_type": "markdown",
      "metadata": {
        "id": "view-in-github",
        "colab_type": "text"
      },
      "source": [
        "<a href=\"https://colab.research.google.com/github/easyseop/BOJ-Solution/blob/main/11053%EB%B2%88_%EA%B0%80%EC%9E%A5_%EA%B8%B4_%EC%A6%9D%EA%B0%80%ED%95%98%EB%8A%94_%EB%B6%80%EB%B6%84_%EC%88%98%EC%97%B4(%EB%8B%A4%EC%8B%9C).ipynb\" target=\"_parent\"><img src=\"https://colab.research.google.com/assets/colab-badge.svg\" alt=\"Open In Colab\"/></a>"
      ]
    },
    {
      "cell_type": "code",
      "execution_count": null,
      "metadata": {
        "colab": {
          "base_uri": "https://localhost:8080/"
        },
        "id": "ZFI27K1OnwvY",
        "outputId": "9ef836c4-e40b-4f01-f2fa-829f0f651daa"
      },
      "outputs": [
        {
          "output_type": "stream",
          "name": "stdout",
          "text": [
            "6\n",
            "10 20 10 30 20 50\n",
            "50\n"
          ]
        }
      ],
      "source": [
        "N = int(input())\n",
        "arr = list(map(int,input().split()))\n",
        "dp = [1]*N\n",
        "if N==1:\n",
        "    print(1)\n",
        "else:\n",
        "    for i in range(1,N):\n",
        "        if arr[i]>arr[i-1]:\n",
        "               dp[i]=dp[i-1]+1\n",
        "        for j in range(i-1,-1,-1):\n",
        "             if arr[i]>arr[j]:\n",
        "                dp[i]=max(dp[j]+1,dp[i])\n",
        "print(max(dp))\n",
        "    \n",
        "\n",
        "  "
      ]
    },
    {
      "cell_type": "code",
      "source": [
        "dp"
      ],
      "metadata": {
        "colab": {
          "base_uri": "https://localhost:8080/"
        },
        "id": "PQA2ttxnrPBs",
        "outputId": "849c923d-e7a8-4f05-d5f7-fc98bef5d70f"
      },
      "execution_count": null,
      "outputs": [
        {
          "output_type": "execute_result",
          "data": {
            "text/plain": [
              "[1, 2, 1, 3, 2, 4]"
            ]
          },
          "metadata": {},
          "execution_count": 17
        }
      ]
    },
    {
      "cell_type": "code",
      "source": [
        ""
      ],
      "metadata": {
        "id": "cIq9IjRhrPe9"
      },
      "execution_count": null,
      "outputs": []
    }
  ]
}