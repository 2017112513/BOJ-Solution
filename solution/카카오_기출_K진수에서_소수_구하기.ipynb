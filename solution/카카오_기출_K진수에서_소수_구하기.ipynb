{
  "nbformat": 4,
  "nbformat_minor": 0,
  "metadata": {
    "colab": {
      "name": "카카오_기출_K진수에서 소수 구하기.ipynb",
      "provenance": [],
      "authorship_tag": "ABX9TyNxJlwBlWfWh5dxly5sRCkb",
      "include_colab_link": true
    },
    "kernelspec": {
      "name": "python3",
      "display_name": "Python 3"
    },
    "language_info": {
      "name": "python"
    }
  },
  "cells": [
    {
      "cell_type": "markdown",
      "metadata": {
        "id": "view-in-github",
        "colab_type": "text"
      },
      "source": [
        "<a href=\"https://colab.research.google.com/github/easyseop/BOJ-Solution/blob/main/%EC%B9%B4%EC%B9%B4%EC%98%A4_%EA%B8%B0%EC%B6%9C_K%EC%A7%84%EC%88%98%EC%97%90%EC%84%9C_%EC%86%8C%EC%88%98_%EA%B5%AC%ED%95%98%EA%B8%B0.ipynb\" target=\"_parent\"><img src=\"https://colab.research.google.com/assets/colab-badge.svg\" alt=\"Open In Colab\"/></a>"
      ]
    },
    {
      "cell_type": "code",
      "execution_count": null,
      "metadata": {
        "id": "smImwzMrvwr9"
      },
      "outputs": [],
      "source": [
        "def solution(n,k):\n",
        "    from math import sqrt\n",
        "    def change(n, q):\n",
        "        rev_base = ''\n",
        "\n",
        "        while n > 0:\n",
        "            n, mod = divmod(n, q)\n",
        "            rev_base += str(mod)\n",
        "\n",
        "        return rev_base[::-1] \n",
        "\n",
        "    def isPrime(n):\n",
        "        if n<2:\n",
        "            return False\n",
        "        if n==2:\n",
        "            return True\n",
        "        if n>2:\n",
        "            for i in range(2,int(sqrt(n))+1):\n",
        "                if n%i==0:\n",
        "                    return False\n",
        "            return True        \n",
        "\n",
        "\n",
        "    N = change(n,k)\n",
        "    N = str(N).split('0')\n",
        "\n",
        "    answer = 0\n",
        "    for i in N:\n",
        "        if not i:\n",
        "            continue\n",
        "        i=int(i)\n",
        "        if isPrime(i):\n",
        "            answer+=1\n",
        "    return answer"
      ]
    }
  ]
}