{
  "nbformat": 4,
  "nbformat_minor": 0,
  "metadata": {
    "colab": {
      "name": "5575번: 타임카드.ipynb",
      "provenance": [],
      "authorship_tag": "ABX9TyNorY2kEArkk/uBOMIdSs7m",
      "include_colab_link": true
    },
    "kernelspec": {
      "name": "python3",
      "display_name": "Python 3"
    },
    "language_info": {
      "name": "python"
    }
  },
  "cells": [
    {
      "cell_type": "markdown",
      "metadata": {
        "id": "view-in-github",
        "colab_type": "text"
      },
      "source": [
        "<a href=\"https://colab.research.google.com/github/easyseop/BOJ-Solution/blob/main/5575%EB%B2%88_%ED%83%80%EC%9E%84%EC%B9%B4%EB%93%9C.ipynb\" target=\"_parent\"><img src=\"https://colab.research.google.com/assets/colab-badge.svg\" alt=\"Open In Colab\"/></a>"
      ]
    },
    {
      "cell_type": "code",
      "execution_count": null,
      "metadata": {
        "id": "yiGKyT9KxnI7"
      },
      "outputs": [],
      "source": [
        "for _ in range(3):\n",
        "    h1,m1,s1,h2,m2,s2 = map(int,input().split())\n",
        "    h=h2-h1\n",
        "    m=m2-m1\n",
        "    s=s2-s1\n",
        "    if s<0:\n",
        "        s=60+s\n",
        "        m=m-1\n",
        "    if m<0:\n",
        "        m=60+m\n",
        "        h=h-1\n",
        "    print(h,m,s)\n",
        "    "
      ]
    }
  ]
}