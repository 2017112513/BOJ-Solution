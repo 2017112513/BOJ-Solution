{
  "nbformat": 4,
  "nbformat_minor": 0,
  "metadata": {
    "colab": {
      "name": "3197번: 백조의 호수.ipynb",
      "provenance": [],
      "authorship_tag": "ABX9TyNYscYUJqIVQRUI5LcRR7Jr",
      "include_colab_link": true
    },
    "kernelspec": {
      "name": "python3",
      "display_name": "Python 3"
    },
    "language_info": {
      "name": "python"
    }
  },
  "cells": [
    {
      "cell_type": "markdown",
      "metadata": {
        "id": "view-in-github",
        "colab_type": "text"
      },
      "source": [
        "<a href=\"https://colab.research.google.com/github/easyseop/BOJ-Solution/blob/main/3197%EB%B2%88_%EB%B0%B1%EC%A1%B0%EC%9D%98_%ED%98%B8%EC%88%98.ipynb\" target=\"_parent\"><img src=\"https://colab.research.google.com/assets/colab-badge.svg\" alt=\"Open In Colab\"/></a>"
      ]
    },
    {
      "cell_type": "code",
      "source": [
        "def searchice(i,j,s):\n",
        "    global visted_ice\n",
        "    for k in range(4):\n",
        "        a = i+dx[k]\n",
        "        b = j+dy[k]\n",
        "        if 0<=a<n and 0<=b<m:\n",
        "            if lis[a][b]=='X' and visted_ice[a][b]==0:\n",
        "                visted_ice[a][b]=1\n",
        "                s.add((a,b))\n",
        "    return s\n",
        "def icetowater(ice):\n",
        "    global visted_ice\n",
        "    global day\n",
        "    new_ice=set()\n",
        "    for x,y in ice:\n",
        "        lis[x][y]='.'\n",
        "        searchice(x,y,new_ice)\n",
        "    day+=1    \n",
        "    return new_ice\n",
        "\n",
        "def search(d):\n",
        "    global visted\n",
        "    flag=False\n",
        "    new_swan=deque()\n",
        "    while d:\n",
        "        x,y = d.popleft()\n",
        "        for i in range(4):\n",
        "            a = x+dx[i]\n",
        "            b = y+dy[i]\n",
        "            if (0<=a<n and 0<=b<m) and visted[a][b]==0:\n",
        "                if lis[a][b]=='X':\n",
        "                    if visted[a][b]!=2:\n",
        "                        new_swan.append([a,b])\n",
        "                        visted[a][b]=1\n",
        "                elif lis[a][b]=='L':\n",
        "                    flag=True\n",
        "                else:\n",
        "                    visted[a][b]=1\n",
        "                    d.append([a,b])\n",
        "\n",
        "    return flag,new_swan\n",
        "\n",
        "from collections import deque\n",
        "n,m = map(int,input().split())\n",
        "lis = [list(input()) for _ in range(n)]\n",
        "swan = []\n",
        "for i in range(n):\n",
        "    for j in range(m):\n",
        "        if lis[i][j]=='L':\n",
        "            swan.append([i,j])\n",
        "day = 0\n",
        "dx = [1,-1,0,0]\n",
        "dy = [0,0,1,-1]\n",
        "sx = swan[0][0]\n",
        "sy = swan[0][1]\n",
        "d=deque()\n",
        "d.append([sx,sy])\n",
        "s=set()\n",
        "visted_ice=[[0]*m for _ in range(n)]\n",
        "visted=[[0]*m for _ in range(n)]\n",
        "visted[sx][sy]=1\n",
        "for i in range(n):\n",
        "        for j in range(m):\n",
        "            if lis[i][j] =='.' or lis[i][j] =='L':\n",
        "                ice = searchice(i,j,s) \n",
        "while 1:\n",
        "    f,d = search(d)\n",
        "    if f:\n",
        "        print(day)\n",
        "        break\n",
        "    ice = icetowater(ice)\n",
        "        "
      ],
      "metadata": {
        "colab": {
          "base_uri": "https://localhost:8080/"
        },
        "id": "Cvcu1byEbzNh",
        "outputId": "55992ed8-e978-4fb2-8e0d-a1173e6444ab"
      },
      "execution_count": 12,
      "outputs": [
        {
          "output_type": "stream",
          "name": "stdout",
          "text": [
            "4 11\n",
            "..XXX...X..\n",
            ".X.XXX...L.\n",
            "....XXX..X.\n",
            "X.L..XXX...\n",
            "2\n"
          ]
        }
      ]
    },
    {
      "cell_type": "markdown",
      "source": [
        "1. .이면 주위를 탐색하여 x가 있는지 확인함 \n",
        "2. x가 있으면 리스트에 x의 좌표 append\n",
        "3. 2에서 생성된 얼음 리스트는 다음 사이클에서 물로 녹을 리스트이다. \n",
        "4. .일때 주위를 탐색하여 x가 있는지 확인하고 있으면 해당 .의 좌표를 새로운 queue에 넣어줌.\n",
        "-> 2과정은 얼음을 찾는 과정을 계속 축소\n",
        "\n",
        "-> 4과정은 백조가 해당 .좌표의 위치로 이동했다고 가정한 것. -> 이미 지나온 곳을 다시 방문하지 않아도 되어 시간 단축"
      ],
      "metadata": {
        "id": "upJHuAEId79M"
      }
    },
    {
      "cell_type": "code",
      "source": [
        ""
      ],
      "metadata": {
        "id": "6r4JFJQcfPcO"
      },
      "execution_count": null,
      "outputs": []
    }
  ]
}