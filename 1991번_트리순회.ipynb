{
  "nbformat": 4,
  "nbformat_minor": 0,
  "metadata": {
    "colab": {
      "name": "1991번: 트리순회.ipynb",
      "provenance": [],
      "authorship_tag": "ABX9TyNcKczx5eem4MEABuQbVSI/",
      "include_colab_link": true
    },
    "kernelspec": {
      "name": "python3",
      "display_name": "Python 3"
    },
    "language_info": {
      "name": "python"
    }
  },
  "cells": [
    {
      "cell_type": "markdown",
      "metadata": {
        "id": "view-in-github",
        "colab_type": "text"
      },
      "source": [
        "<a href=\"https://colab.research.google.com/github/easyseop/BOJ-Solution/blob/main/1991%EB%B2%88_%ED%8A%B8%EB%A6%AC%EC%88%9C%ED%9A%8C.ipynb\" target=\"_parent\"><img src=\"https://colab.research.google.com/assets/colab-badge.svg\" alt=\"Open In Colab\"/></a>"
      ]
    },
    {
      "cell_type": "code",
      "source": [
        "n = int(input())\n",
        "\n",
        "from collections import defaultdict\n",
        "from collections import deque\n",
        "lis = defaultdict(list)\n",
        "for _ in range(n):\n",
        "    q,w,e =input().split()\n",
        "    lis[q]=[w,e]\n",
        "\n",
        "def one(root):\n",
        "    if root != '.' :\n",
        "        print(root, end='') # root\n",
        "        one(lis[root][0])  # left\n",
        "        one(lis[root][1])  # right\n",
        "\n",
        "def two(root):\n",
        "    if root !='.':\n",
        "        two(lis[root][0])\n",
        "        print(root,end='')\n",
        "        two(lis[root][1])\n",
        "def three(root):\n",
        "    if root != '.':\n",
        "        three(lis[root][0])\n",
        "        three(lis[root][1])\n",
        "        print(root,end='')\n",
        "\n",
        "one('A')\n",
        "print()\n",
        "two('A')\n",
        "print()\n",
        "three('A')"
      ],
      "metadata": {
        "colab": {
          "base_uri": "https://localhost:8080/"
        },
        "id": "9TDY9Ip9xBmY",
        "outputId": "0cee3e51-e579-4cc3-fb48-a21d740d1c1e"
      },
      "execution_count": 114,
      "outputs": [
        {
          "name": "stdout",
          "output_type": "stream",
          "text": [
            "1\n",
            "A . .\n"
          ]
        }
      ]
    },
    {
      "cell_type": "code",
      "source": [
        "# n = int(input())\n",
        "\n",
        "# from collections import defaultdict\n",
        "# from collections import deque\n",
        "# lis = defaultdict(list)\n",
        "# left_list=defaultdict(str)\n",
        "# right_list=defaultdict(str)\n",
        "# for _ in range(n):\n",
        "#     q,w,e =input().split()\n",
        "#     if w !='.':\n",
        "#         lis[q].append(('l',w))\n",
        "#         left_list[w]=q\n",
        "#     if e !='.':\n",
        "#         lis[q].append(('r',e))\n",
        "#         right_list[e]=q\n",
        "\n",
        "    \n",
        "# def one(x):\n",
        "#     print(x,end='')\n",
        "#     if x in lis:\n",
        "#         for i,j in lis[x]:\n",
        "#             one(j)\n",
        "# left=deque()\n",
        "# right=[]\n",
        "# visted = defaultdict(int)\n",
        "# def two(x):\n",
        "#     global left\n",
        "#     if not lis[x]:\n",
        "#         while left:\n",
        "#             k = left.popleft()\n",
        "#             if not visted[k]:\n",
        "#                 print(k,end='')\n",
        "#                 visted[k]=1\n",
        "#             if not visted[left_list[k]]:\n",
        "#                 print(left_list[k],end='')\n",
        "#                 visted[left_list[k]]=1\n",
        "#         left=deque()\n",
        "#         for i in right:\n",
        "#             if not visted[i]:\n",
        "#                 print(i,end='')\n",
        "#                 visted[i]=1\n",
        "#     for i,j in lis[x]:\n",
        "#         if i=='l':\n",
        "#             left.appendleft(j)\n",
        "#             two(j)  \n",
        "#         elif i=='r':\n",
        "#             right.append(j)\n",
        "#             two(j)  \n",
        "\n",
        "# d=deque()\n",
        "# def three(x):\n",
        "#     d.appendleft(x)\n",
        "#     if lis[x]:\n",
        "#         for i,j in sorted(lis[x],key=lambda x: x[0],reverse=True):\n",
        "#             three(j)\n",
        "\n",
        "# if n==1:\n",
        "#     for i in range(3):\n",
        "#         print('A')\n",
        "# else:\n",
        "#     one('A')\n",
        "#     print()\n",
        "#     two('A')\n",
        "#     print()\n",
        "#     three('A')\n",
        "#     for i in d:\n",
        "#         print(i,end='')"
      ],
      "metadata": {
        "colab": {
          "base_uri": "https://localhost:8080/",
          "height": 35
        },
        "id": "LJ5bWyi-CKar",
        "outputId": "1cf088bd-0cad-465a-8355-e0c60a871a0d"
      },
      "execution_count": 121,
      "outputs": [
        {
          "output_type": "execute_result",
          "data": {
            "application/vnd.google.colaboratory.intrinsic+json": {
              "type": "string"
            },
            "text/plain": [
              "'ABC'"
            ]
          },
          "metadata": {},
          "execution_count": 121
        }
      ]
    },
    {
      "cell_type": "code",
      "source": [
        "cur"
      ],
      "metadata": {
        "colab": {
          "base_uri": "https://localhost:8080/",
          "height": 35
        },
        "id": "eN_EMabpHc8F",
        "outputId": "e90074a1-0f4a-4962-a2ba-3de6f7912e7b"
      },
      "execution_count": 122,
      "outputs": [
        {
          "output_type": "execute_result",
          "data": {
            "application/vnd.google.colaboratory.intrinsic+json": {
              "type": "string"
            },
            "text/plain": [
              "'CBA'"
            ]
          },
          "metadata": {},
          "execution_count": 122
        }
      ]
    },
    {
      "cell_type": "code",
      "source": [
        ""
      ],
      "metadata": {
        "id": "pC427mP3MpqE"
      },
      "execution_count": null,
      "outputs": []
    }
  ]
}