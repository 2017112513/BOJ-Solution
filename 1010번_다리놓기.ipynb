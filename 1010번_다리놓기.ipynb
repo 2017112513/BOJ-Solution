{
  "nbformat": 4,
  "nbformat_minor": 0,
  "metadata": {
    "colab": {
      "name": "1010번:다리놓기.ipynb",
      "provenance": [],
      "authorship_tag": "ABX9TyNQW4T0UFKFwOTGsyiSBaIW",
      "include_colab_link": true
    },
    "kernelspec": {
      "name": "python3",
      "display_name": "Python 3"
    },
    "language_info": {
      "name": "python"
    }
  },
  "cells": [
    {
      "cell_type": "markdown",
      "metadata": {
        "id": "view-in-github",
        "colab_type": "text"
      },
      "source": [
        "<a href=\"https://colab.research.google.com/github/easyseop/BOJ-Solution/blob/main/1010%EB%B2%88_%EB%8B%A4%EB%A6%AC%EB%86%93%EA%B8%B0.ipynb\" target=\"_parent\"><img src=\"https://colab.research.google.com/assets/colab-badge.svg\" alt=\"Open In Colab\"/></a>"
      ]
    },
    {
      "cell_type": "code",
      "execution_count": null,
      "metadata": {
        "id": "li46k9oZrrWr"
      },
      "outputs": [],
      "source": [
        "from itertools import combinations\n",
        "for i in range(int(input())):\n",
        "    h=1\n",
        "    l=1\n",
        "    n,m = map(int,input().split())\n",
        "    for i in range(m,m-n,-1):\n",
        "        h*=i\n",
        "    for i in range(n,0,-1):\n",
        "        l*=i\n",
        "\n",
        "    print(h//l)"
      ]
    },
    {
      "cell_type": "code",
      "source": [
        "\n",
        "n,m = map(int,input().split())\n",
        "for i in range(m,m-n,-1):\n",
        "    h*=i\n",
        "for i in range(n,0,-1):\n",
        "    l*=i\n",
        "\n",
        "print(h//l)"
      ],
      "metadata": {
        "colab": {
          "base_uri": "https://localhost:8080/"
        },
        "id": "UYMaZbturzUa",
        "outputId": "7adfa4f2-41b4-4268-9021-082e3a6f0c2b"
      },
      "execution_count": null,
      "outputs": [
        {
          "name": "stdout",
          "output_type": "stream",
          "text": [
            "13 29\n"
          ]
        }
      ]
    },
    {
      "cell_type": "code",
      "source": [
        "for i in range(m,m-n,-1):\n",
        "    h*=i\n",
        "for i in range(n,0,-1):\n",
        "    l*=i\n",
        "\n",
        "print(h//l)"
      ],
      "metadata": {
        "id": "JhH4lb8Nr4lM"
      },
      "execution_count": null,
      "outputs": []
    },
    {
      "cell_type": "code",
      "source": [
        "h//l"
      ],
      "metadata": {
        "colab": {
          "base_uri": "https://localhost:8080/"
        },
        "id": "Cl7-8qkUsDaP",
        "outputId": "6ea40a5f-ad81-4c7b-9cab-93abbb0b5f63"
      },
      "execution_count": null,
      "outputs": [
        {
          "output_type": "execute_result",
          "data": {
            "text/plain": [
              "67863915"
            ]
          },
          "metadata": {},
          "execution_count": 22
        }
      ]
    },
    {
      "cell_type": "code",
      "source": [
        ""
      ],
      "metadata": {
        "id": "iU5qBSMntKei"
      },
      "execution_count": null,
      "outputs": []
    }
  ]
}