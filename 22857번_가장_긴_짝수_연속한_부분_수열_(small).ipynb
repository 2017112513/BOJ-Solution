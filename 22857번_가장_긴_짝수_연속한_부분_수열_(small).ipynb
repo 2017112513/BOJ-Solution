{
  "nbformat": 4,
  "nbformat_minor": 0,
  "metadata": {
    "colab": {
      "name": "22857번: 가장 긴 짝수 연속한 부분 수열 (small).ipynb",
      "provenance": [],
      "authorship_tag": "ABX9TyMa16p53PlxRIBaktfHZo4F",
      "include_colab_link": true
    },
    "kernelspec": {
      "name": "python3",
      "display_name": "Python 3"
    },
    "language_info": {
      "name": "python"
    }
  },
  "cells": [
    {
      "cell_type": "markdown",
      "metadata": {
        "id": "view-in-github",
        "colab_type": "text"
      },
      "source": [
        "<a href=\"https://colab.research.google.com/github/easyseop/BOJ-Programmers/blob/main/22857%EB%B2%88_%EA%B0%80%EC%9E%A5_%EA%B8%B4_%EC%A7%9D%EC%88%98_%EC%97%B0%EC%86%8D%ED%95%9C_%EB%B6%80%EB%B6%84_%EC%88%98%EC%97%B4_(small).ipynb\" target=\"_parent\"><img src=\"https://colab.research.google.com/assets/colab-badge.svg\" alt=\"Open In Colab\"/></a>"
      ]
    },
    {
      "cell_type": "code",
      "execution_count": null,
      "metadata": {
        "id": "9L4dMvl-kEJZ"
      },
      "outputs": [],
      "source": [
        "def solution():\n",
        "    N,M = map(int,input().split())\n",
        "    ans = 0\n",
        "    arr = [i%2 for i in list(map(int,input().split()))] #짝수면 0 홀수면 1로 보이게 [2,1,1,2] -> [0,1,1,0] 이런식으로 ㅇㅇ\n",
        "    can_minus=  M #무시할 수 있는 홀수 개\n",
        "\n",
        "    start,end,even = 0,1,0 #start는 범위의 시작 위치, end는 범위의 끝 위치 ,even은 짝수 개수 초기화\n",
        "    if arr[start] ==0: #부여받은 리스트의 첫 인덱스가 짝수인지 홀수인지.... dp는\n",
        "        even+=1\n",
        "    else:\n",
        "        can_minus -= 1 #첫 인덱스가 홀수면 뺴기\n",
        "\n",
        "    ans = even #정답 초기화 \n",
        "    \n",
        "    if N ==1: \n",
        "        return ans\n",
        "    \n",
        "    while end<N:  #arr[:1]에서 시작해서 arr[:2],arr[:3],...,arr[:N]까지 순차적으로 구할 것임\n",
        "    \n",
        "        if arr[end]==0: # 시작점을 그대로 두고 리스트를 한 칸씩 탐색하면서 짝수인지 판별  , 짝수이면 현재 짝수 개수인 even 1증가\n",
        "            even += 1 \n",
        "        else:\n",
        "            can_minus-=1 \n",
        "\n",
        "        if can_minus>=0: # 무시할 수 있는 홀수의 개수가 남아있으면 더 탐색가능 하므로 끝 범위 1증가 \n",
        "            end+=1\n",
        "\n",
        "        else:\n",
        "            while can_minus<0:  #무시할 수 있는 홀수 개수를 초과한다면? \n",
        "                if start == N or start==end: \n",
        "                    break\n",
        "                if arr[start]==0: #start = start + 1로 갱신하는데, 갱신하기 전에 start 가 짝수 즉 0이면 현재 짝수 개수인 even 1감소 : 범위에서 사라지니깐\n",
        "\n",
        "                    even -= 1\n",
        "                else:\n",
        "                    can_minus +=1 #start가 홀수인데 start+1로 갱신시키면 범위내에 포함된 홀수 개수가 1개 빠지는 거니까 can_minus 1증가\n",
        "                start+=1      \n",
        "            end+=1\n",
        "        ans = max(ans,even) #한 루프씩 탐색할 때마다 answer값을 갱신 \n",
        "    return ans\n",
        "ans = solution()\n",
        "print(ans)"
      ]
    }
  ]
}