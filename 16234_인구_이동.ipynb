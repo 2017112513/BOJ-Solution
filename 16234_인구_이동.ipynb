{
  "nbformat": 4,
  "nbformat_minor": 0,
  "metadata": {
    "colab": {
      "name": "16234:인구 이동.ipynb",
      "provenance": [],
      "authorship_tag": "ABX9TyNj99IdDqszFJ+rGJayPm2r",
      "include_colab_link": true
    },
    "kernelspec": {
      "name": "python3",
      "display_name": "Python 3"
    },
    "language_info": {
      "name": "python"
    }
  },
  "cells": [
    {
      "cell_type": "markdown",
      "metadata": {
        "id": "view-in-github",
        "colab_type": "text"
      },
      "source": [
        "<a href=\"https://colab.research.google.com/github/easyseop/BOJ-Solution/blob/main/16234_%EC%9D%B8%EA%B5%AC_%EC%9D%B4%EB%8F%99.ipynb\" target=\"_parent\"><img src=\"https://colab.research.google.com/assets/colab-badge.svg\" alt=\"Open In Colab\"/></a>"
      ]
    },
    {
      "cell_type": "code",
      "execution_count": null,
      "metadata": {
        "id": "7hJ8wZkZ0OFX"
      },
      "outputs": [],
      "source": [
        "import sys\n",
        "input = sys.stdin.readline\n",
        "from collections import deque\n",
        "from collections import defaultdict\n",
        "n ,l,r = map(int,input().split())\n",
        "arr = [list(map(int,input().split())) for i in range(n)]\n",
        "\n",
        "\n",
        "dx = [1,-1,0,0]\n",
        "dy = [0,0,1,-1]  \n",
        "lis = []\n",
        "ans = 0\n",
        "\n",
        "while 1:\n",
        "    flag = True\n",
        "    move = []\n",
        "    vis_arr = [[0]*n for i in range(n)]\n",
        "\n",
        "    num = 1\n",
        "    d = deque()\n",
        "    dic = defaultdict(list)\n",
        "    for i in range(n):\n",
        "        for j in range(n):\n",
        "            if vis_arr[i][j]:\n",
        "                continue\n",
        "            num+=1\n",
        "\n",
        "            d.append([i,j,num])\n",
        "            vis_arr[i][j]=num\n",
        "            lis = [[i,j]]\n",
        "            while d:\n",
        "\n",
        "                x,y,num = d.popleft()\n",
        "                for k in range(4):\n",
        "\n",
        "                    a = x + dx[k]\n",
        "                    b = y + dy[k]\n",
        "\n",
        "                    if 0<=a<n and 0<=b<n and l<=abs(arr[x][y] - arr[a][b])<=r and vis_arr[a][b]==0:\n",
        "  \n",
        "                        vis_arr[a][b] = num\n",
        "                        lis.append([a,b])\n",
        "                        if len(lis)>=2:\n",
        "                            flag=False\n",
        "                        d.append([a,b,num])\n",
        "\n",
        "            move.append(lis)\n",
        "\n",
        "    if flag:\n",
        "        break\n",
        "\n",
        "    move = [i for i in move if len(i)>=2]\n",
        "\n",
        "    for m in move:\n",
        "        leng = len(m)\n",
        "        if leng>=2:\n",
        "            s= 0\n",
        "            for i,j in m:\n",
        "                s+=arr[i][j]\n",
        "            for i,j in m:\n",
        "                arr[i][j] = s//leng\n",
        "    \n",
        "\n",
        "\n",
        "    ans+=1\n",
        "print(ans)"
      ]
    }
  ]
}