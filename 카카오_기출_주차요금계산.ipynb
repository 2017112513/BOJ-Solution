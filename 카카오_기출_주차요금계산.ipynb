{
  "nbformat": 4,
  "nbformat_minor": 0,
  "metadata": {
    "colab": {
      "name": "카카오_기출_주차요금계산.ipynb",
      "provenance": [],
      "authorship_tag": "ABX9TyPhktE+cPcrg6MRrK4y3ECl",
      "include_colab_link": true
    },
    "kernelspec": {
      "name": "python3",
      "display_name": "Python 3"
    },
    "language_info": {
      "name": "python"
    }
  },
  "cells": [
    {
      "cell_type": "markdown",
      "metadata": {
        "id": "view-in-github",
        "colab_type": "text"
      },
      "source": [
        "<a href=\"https://colab.research.google.com/github/easyseop/BOJ-Programmers/blob/main/%EC%B9%B4%EC%B9%B4%EC%98%A4_%EA%B8%B0%EC%B6%9C_%EC%A3%BC%EC%B0%A8%EC%9A%94%EA%B8%88%EA%B3%84%EC%82%B0.ipynb\" target=\"_parent\"><img src=\"https://colab.research.google.com/assets/colab-badge.svg\" alt=\"Open In Colab\"/></a>"
      ]
    },
    {
      "cell_type": "code",
      "execution_count": null,
      "metadata": {
        "id": "8dHs4pRK4PoZ"
      },
      "outputs": [],
      "source": [
        "\n",
        "2\n",
        "3\n",
        "4\n",
        "5\n",
        "6\n",
        "7\n",
        "8\n",
        "9\n",
        "10\n",
        "11\n",
        "12\n",
        "13\n",
        "14\n",
        "15\n",
        "16\n",
        "17\n",
        "18\n",
        "19\n",
        "20\n",
        "21\n",
        "22\n",
        "23\n",
        "24\n",
        "25\n",
        "26\n",
        "27\n",
        "28\n",
        "29\n",
        "30\n",
        "31\n",
        "32\n",
        "33\n",
        "34\n",
        "35\n",
        "36\n",
        "37\n",
        "def solution(fees,records):\n",
        "    base_time,base_fee,allo,allo_fee  = fees[0],fees[1],fees[2],fees[3]\n",
        "    import math\n",
        "    from collections import defaultdict\n",
        "\n",
        "    dic = defaultdict(int)\n",
        "    dic_flag = defaultdict(bool)\n",
        "\n",
        "    key_list = []\n",
        "    for i in records:\n",
        "        hm,car_num,state = i.split()\n",
        "        hour,mit = hm.split(':')\n",
        "        if car_num not in key_list:\n",
        "            key_list.append(car_num)\n",
        "        if state == 'IN':\n",
        "            dic[car_num] -= (int(hour)*60+int(mit))\n",
        "            dic_flag[car_num] = True\n",
        "        else:\n",
        "            dic[car_num] += (int(hour)*60+int(mit))\n",
        "            dic_flag[car_num] = False\n",
        "\n",
        "    for key,value in dic_flag.items():\n",
        "        if value :\n",
        "            dic[key] += 60*23+59\n",
        "\n",
        "    answer = []\n",
        "    for key,value in dic.items(): #5000 + ⌈(334 - 180) / 10⌉ x 600 = 14600\n",
        "        if value<=base_time:\n",
        "            cost = base_fee\n",
        "        else:\n",
        "\n",
        "            cost = base_fee+ (math.ceil((value-base_time)/allo))*allo_fee\n",
        "        dic[key] = cost\n",
        "    for i in sorted(key_list):\n",
        "        answer.append(dic[i])\n",
        "    return answer"
      ]
    }
  ]
}