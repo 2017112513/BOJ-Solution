{
  "nbformat": 4,
  "nbformat_minor": 0,
  "metadata": {
    "colab": {
      "name": "11054번: 가장 긴 바이토닉 부분 수열.ipynb",
      "provenance": [],
      "authorship_tag": "ABX9TyO/onrXkxfzcHTLNmBY/wtA",
      "include_colab_link": true
    },
    "kernelspec": {
      "name": "python3",
      "display_name": "Python 3"
    },
    "language_info": {
      "name": "python"
    }
  },
  "cells": [
    {
      "cell_type": "markdown",
      "metadata": {
        "id": "view-in-github",
        "colab_type": "text"
      },
      "source": [
        "<a href=\"https://colab.research.google.com/github/easyseop/BOJ-Solution/blob/main/11054%EB%B2%88_%EA%B0%80%EC%9E%A5_%EA%B8%B4_%EB%B0%94%EC%9D%B4%ED%86%A0%EB%8B%89_%EB%B6%80%EB%B6%84_%EC%88%98%EC%97%B4.ipynb\" target=\"_parent\"><img src=\"https://colab.research.google.com/assets/colab-badge.svg\" alt=\"Open In Colab\"/></a>"
      ]
    },
    {
      "cell_type": "code",
      "execution_count": 69,
      "metadata": {
        "id": "AOSgB1rDOD5B",
        "colab": {
          "base_uri": "https://localhost:8080/"
        },
        "outputId": "5e4d49af-cd0b-4380-f8c3-85dd4712b9eb"
      },
      "outputs": [
        {
          "name": "stdout",
          "output_type": "stream",
          "text": [
            "10\n",
            "1 5 2 1 4 3 4 5 2 1\n"
          ]
        }
      ],
      "source": [
        "n = int(input())\n",
        "lis = list(map(int,input().split()))\n",
        "\n",
        "dp = [1]*n\n",
        "for i in range(n):\n",
        "    for j in range(i):\n",
        "        if lis[i]>lis[j]:\n",
        "          dp[i] = max(dp[j]+1,dp[i])\n",
        "\n",
        "dp_down = [1]*n\n",
        "for i in range(n-1,-1,-1):\n",
        "   for j in range(n-1,i,-1):\n",
        "      if lis[i]>lis[j]:\n",
        "         dp_down[i] = max(dp_down[j]+1,dp_down[i])\n",
        "result = [0 for i in range(n)]\n",
        "for i in range(n):\n",
        "    result[i] = dp[i] + dp_down[i] -1 \n",
        "        \n",
        "print(max(result))"
      ]
    }
  ]
}