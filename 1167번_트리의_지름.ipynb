{
  "nbformat": 4,
  "nbformat_minor": 0,
  "metadata": {
    "colab": {
      "name": "1167번: 트리의 지름.ipynb",
      "provenance": [],
      "authorship_tag": "ABX9TyOZ301PZTYy6GPsu5GwBbmg",
      "include_colab_link": true
    },
    "kernelspec": {
      "name": "python3",
      "display_name": "Python 3"
    },
    "language_info": {
      "name": "python"
    }
  },
  "cells": [
    {
      "cell_type": "markdown",
      "metadata": {
        "id": "view-in-github",
        "colab_type": "text"
      },
      "source": [
        "<a href=\"https://colab.research.google.com/github/easyseop/BOJ-Solution/blob/main/1167%EB%B2%88_%ED%8A%B8%EB%A6%AC%EC%9D%98_%EC%A7%80%EB%A6%84.ipynb\" target=\"_parent\"><img src=\"https://colab.research.google.com/assets/colab-badge.svg\" alt=\"Open In Colab\"/></a>"
      ]
    },
    {
      "cell_type": "code",
      "execution_count": 17,
      "metadata": {
        "colab": {
          "base_uri": "https://localhost:8080/"
        },
        "id": "Mn3CtYNdSBxh",
        "outputId": "657997f1-8867-4db4-c59f-f392889fc244"
      },
      "outputs": [
        {
          "name": "stdout",
          "output_type": "stream",
          "text": [
            "5\n",
            "1 3 2 -1\n",
            "2 4 4 -1\n",
            "3 1 2 4 3 -1\n",
            "4 2 4 3 3 5 6 -1\n",
            "5 4 6 -1\n"
          ]
        }
      ],
      "source": [
        "from collections import deque\n",
        "N = int(input())\n",
        "lis = {}\n",
        "for _ in range(N):\n",
        "    M = list(map(int,input().split()))\n",
        "    num = M[0]\n",
        "    lis[num]=[]\n",
        "    for i in range(1,len(M)):\n",
        "        if i%2!=0:\n",
        "            if M[i]!=-1:\n",
        "                lis[num].append((M[i],M[i+1]))\n",
        "            else:\n",
        "                break\n",
        "        else:\n",
        "            continue\n",
        "\n",
        "\n",
        "def bfs(x):\n",
        "    visted = [0 for i in range(N+1)]\n",
        "    ans = [0 for i in range(N+1)]\n",
        "    d=deque()\n",
        "    d.append([x,0])\n",
        "    visted[x]=1\n",
        "    while d:\n",
        "        x,dst = d.popleft()\n",
        "        for a,l in lis[x]:\n",
        "            if not visted[a]:\n",
        "                ans[a]=dst+l\n",
        "                visted[a]=1\n",
        "                d.append([a,dst+l])\n",
        "    return max(ans), ans.index(max(ans))\n",
        "\n",
        "_,idx=bfs(1)\n",
        "answer,_ = bfs(idx)     \n",
        "print(answer)"
      ]
    },
    {
      "cell_type": "markdown",
      "source": [
        ""
      ],
      "metadata": {
        "id": "yARQrYC1pLc6"
      }
    },
    {
      "cell_type": "code",
      "source": [
        ""
      ],
      "metadata": {
        "id": "4KZ2sJEkCZH6"
      },
      "execution_count": null,
      "outputs": []
    }
  ]
}