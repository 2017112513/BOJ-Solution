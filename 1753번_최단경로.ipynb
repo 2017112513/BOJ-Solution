{
  "nbformat": 4,
  "nbformat_minor": 0,
  "metadata": {
    "colab": {
      "name": "1753번: 최단경로.ipynb",
      "provenance": [],
      "authorship_tag": "ABX9TyMA9rrj/0E6eXAxM8in2l/H",
      "include_colab_link": true
    },
    "kernelspec": {
      "name": "python3",
      "display_name": "Python 3"
    },
    "language_info": {
      "name": "python"
    }
  },
  "cells": [
    {
      "cell_type": "markdown",
      "metadata": {
        "id": "view-in-github",
        "colab_type": "text"
      },
      "source": [
        "<a href=\"https://colab.research.google.com/github/easyseop/BOJ-Solution/blob/main/1753%EB%B2%88_%EC%B5%9C%EB%8B%A8%EA%B2%BD%EB%A1%9C.ipynb\" target=\"_parent\"><img src=\"https://colab.research.google.com/assets/colab-badge.svg\" alt=\"Open In Colab\"/></a>"
      ]
    },
    {
      "cell_type": "code",
      "execution_count": null,
      "metadata": {
        "colab": {
          "base_uri": "https://localhost:8080/"
        },
        "id": "E6SkYaT51iAv",
        "outputId": "00fe5fdc-4328-42a5-c97f-e77ce13433b0"
      },
      "outputs": [
        {
          "output_type": "stream",
          "name": "stdout",
          "text": [
            "1 1\n",
            "1\n",
            "1 1 1\n",
            "0\n"
          ]
        }
      ],
      "source": [
        "from collections import defaultdict\n",
        "import heapq\n",
        "\n",
        "v,e =map(int,input().split())\n",
        "start  = int(input())\n",
        "inf = 100000000\n",
        "\n",
        "dic=defaultdict(list)\n",
        "\n",
        "for _ in range(e):\n",
        "    a,b,w = map(int,input().split())\n",
        "    dic[a].append((b,w))\n",
        "\n",
        "\n",
        "distance = [inf]*(v+1)\n",
        "h =[]\n",
        "heapq.heappush(h,(0,start))\n",
        "distance[start]=0\n",
        "while h:\n",
        "    d,node = heapq.heappop(h)\n",
        "    for nd,weight in dic[node]:\n",
        "        s=d+weight\n",
        "        if s<distance[nd]:\n",
        "            distance[nd]=s\n",
        "            heapq.heappush(h,(s,nd))\n",
        "\n",
        "for i in distance[1:]:\n",
        "    if i!=inf:\n",
        "        print(i)\n",
        "    else:\n",
        "        print('INF')"
      ]
    },
    {
      "cell_type": "code",
      "source": [
        ""
      ],
      "metadata": {
        "id": "VbzzKFeb8OIX"
      },
      "execution_count": null,
      "outputs": []
    }
  ]
}