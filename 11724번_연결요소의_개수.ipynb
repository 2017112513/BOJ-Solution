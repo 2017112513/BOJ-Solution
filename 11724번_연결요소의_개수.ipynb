{
  "nbformat": 4,
  "nbformat_minor": 0,
  "metadata": {
    "colab": {
      "name": "11724번: 연결요소의 개수.ipynb",
      "provenance": [],
      "authorship_tag": "ABX9TyNyMQTu1el98c6sRZysnOmI",
      "include_colab_link": true
    },
    "kernelspec": {
      "name": "python3",
      "display_name": "Python 3"
    },
    "language_info": {
      "name": "python"
    }
  },
  "cells": [
    {
      "cell_type": "markdown",
      "metadata": {
        "id": "view-in-github",
        "colab_type": "text"
      },
      "source": [
        "<a href=\"https://colab.research.google.com/github/easyseop/BOJ-Solution/blob/main/11724%EB%B2%88_%EC%97%B0%EA%B2%B0%EC%9A%94%EC%86%8C%EC%9D%98_%EA%B0%9C%EC%88%98.ipynb\" target=\"_parent\"><img src=\"https://colab.research.google.com/assets/colab-badge.svg\" alt=\"Open In Colab\"/></a>"
      ]
    },
    {
      "cell_type": "code",
      "execution_count": null,
      "metadata": {
        "id": "Y7uT3jHGugaB"
      },
      "outputs": [],
      "source": [
        "def dfs(i):\n",
        "    visted[i]=1\n",
        "    for num in arr[i]:\n",
        "        if visted[num]==0:\n",
        "            dfs(num)\n",
        "\n",
        "n,m =map(int,input().split())\n",
        "arr = [[] for i in range(n+1)]\n",
        "visted=[0]*(n+1)\n",
        "for i in range(m):\n",
        "   a,b = map(int,input().split())\n",
        "   arr[a].append(b)\n",
        "   arr[b].append(a)\n",
        "\n",
        "cnt = 0\n",
        "for i in range(1,n+1):\n",
        "    if visted[i]==0:\n",
        "        dfs(i)\n",
        "print(cnt)"
      ]
    },
    {
      "cell_type": "code",
      "source": [
        "cnt"
      ],
      "metadata": {
        "colab": {
          "base_uri": "https://localhost:8080/"
        },
        "id": "j_mBMqbLwK15",
        "outputId": "a5320f66-bd24-4bd9-86fc-ff78cfbb4a29"
      },
      "execution_count": 14,
      "outputs": [
        {
          "output_type": "execute_result",
          "data": {
            "text/plain": [
              "2"
            ]
          },
          "metadata": {},
          "execution_count": 14
        }
      ]
    },
    {
      "cell_type": "code",
      "source": [
        ""
      ],
      "metadata": {
        "id": "hxvYPNnNxXUI"
      },
      "execution_count": null,
      "outputs": []
    }
  ]
}