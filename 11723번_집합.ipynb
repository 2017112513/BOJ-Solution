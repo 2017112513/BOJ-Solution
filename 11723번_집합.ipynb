{
  "nbformat": 4,
  "nbformat_minor": 0,
  "metadata": {
    "colab": {
      "name": "11723번: 집합.ipynb",
      "provenance": [],
      "authorship_tag": "ABX9TyMd7AsHfXjKGatYxk9afHan",
      "include_colab_link": true
    },
    "kernelspec": {
      "name": "python3",
      "display_name": "Python 3"
    },
    "language_info": {
      "name": "python"
    }
  },
  "cells": [
    {
      "cell_type": "markdown",
      "metadata": {
        "id": "view-in-github",
        "colab_type": "text"
      },
      "source": [
        "<a href=\"https://colab.research.google.com/github/easyseop/BOJ-Solution/blob/main/11723%EB%B2%88_%EC%A7%91%ED%95%A9.ipynb\" target=\"_parent\"><img src=\"https://colab.research.google.com/assets/colab-badge.svg\" alt=\"Open In Colab\"/></a>"
      ]
    },
    {
      "cell_type": "code",
      "source": [
        "S = set()\n",
        "for i in range(int(input())):\n",
        "    lis = list(input().split())\n",
        "    if lis[0]=='add':\n",
        "        S.add(int(lis[1])\n",
        "    elif lis[0]=='remove':\n",
        "        try: \n",
        "            S.remove(int(lis[1])\n",
        "        except: \n",
        "            pass\n",
        "    elif lis[0]=='check':\n",
        "        if int(lis[1] in S:\n",
        "            print(1)\n",
        "        else:\n",
        "            print(0)\n",
        "    elif lis[0]=='toggle':\n",
        "        if int(lis[1] in S:\n",
        "            S.remove(int(lis[1])\n",
        "        else:\n",
        "            S.add(int(lis[1])\n",
        "    elif lis[0]=='all':\n",
        "            S = set(range(1,20+1))\n",
        "    elif lis[0]=='empty':\n",
        "            S.clear()"
      ],
      "metadata": {
        "id": "F4EdaAbBhnl8"
      },
      "execution_count": null,
      "outputs": []
    }
  ]
}