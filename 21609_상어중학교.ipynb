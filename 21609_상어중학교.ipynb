{
  "nbformat": 4,
  "nbformat_minor": 0,
  "metadata": {
    "colab": {
      "name": "\b21609:상어중학교.ipynb",
      "provenance": [],
      "collapsed_sections": [],
      "authorship_tag": "ABX9TyP8wPaEjxV28cg7dq5uRQOz",
      "include_colab_link": true
    },
    "kernelspec": {
      "name": "python3",
      "display_name": "Python 3"
    },
    "language_info": {
      "name": "python"
    }
  },
  "cells": [
    {
      "cell_type": "markdown",
      "metadata": {
        "id": "view-in-github",
        "colab_type": "text"
      },
      "source": [
        "<a href=\"https://colab.research.google.com/github/easyseop/BOJ-Solution/blob/main/%0821609_%EC%83%81%EC%96%B4%EC%A4%91%ED%95%99%EA%B5%90.ipynb\" target=\"_parent\"><img src=\"https://colab.research.google.com/assets/colab-badge.svg\" alt=\"Open In Colab\"/></a>"
      ]
    },
    {
      "cell_type": "code",
      "execution_count": 395,
      "metadata": {
        "colab": {
          "base_uri": "https://localhost:8080/"
        },
        "id": "PL5Pni-F6MIF",
        "outputId": "3469758b-4bba-4315-fd0b-f0f2b28e921b"
      },
      "outputs": [
        {
          "name": "stdout",
          "output_type": "stream",
          "text": [
            "6 4\n"
          ]
        }
      ],
      "source": [
        "N,M = map(int,input().split())"
      ]
    },
    {
      "cell_type": "code",
      "source": [
        "arr = [list(map(int,input().split())) for i in range(N)]"
      ],
      "metadata": {
        "colab": {
          "base_uri": "https://localhost:8080/"
        },
        "id": "0n2UyiBV6eSE",
        "outputId": "74fe0d1e-2453-44b9-8ef5-8b0aa2aae579"
      },
      "execution_count": 396,
      "outputs": [
        {
          "name": "stdout",
          "output_type": "stream",
          "text": [
            "2 3 1 0 -1 2\n",
            "2 -1 4 1 3 3\n",
            "3 0 4 2 2 1\n",
            "-1 4 -1 2 3 4\n",
            "3 -1 4 2 0 3\n",
            "1 2 2 2 2 1\n"
          ]
        }
      ]
    },
    {
      "cell_type": "code",
      "source": [
        "from copy import deepcopy\n",
        "\n",
        "from collections import deque"
      ],
      "metadata": {
        "id": "CjZxfb_P6kMz"
      },
      "execution_count": 483,
      "outputs": []
    },
    {
      "cell_type": "code",
      "source": [
        "lis = deepcopy(arr)\n",
        "ans = 0\n",
        "dx =[1,-1,0,0]\n",
        "dy = [0,0,1,-1]\n",
        "\n",
        "def search_zero_cnt(l):\n",
        "    cnt = 0\n",
        "    for i in l:\n",
        "      if lis[i[0]][i[1]] == 0:\n",
        "          cnt+=1\n",
        "    return cnt\n",
        "\n",
        "def search_standard(l):\n",
        "    a = [[i,j] for i,j in l if lis[i][j] != 0]\n",
        "    a = sorted(a,key=lambda x: (x[0],x[1]))\n",
        "    if len(a)>0:\n",
        "        return a[0][0],a[0][1]\n",
        "    else:\n",
        "        return -1,-1\n",
        "\n",
        "\n",
        "def search_big_group_list():\n",
        "    d=deque()\n",
        "    search_big_group = []\n",
        "    for i in range(N):\n",
        "        for j in range(N):\n",
        "            group = []\n",
        "            flag = lis[i][j]\n",
        "            if flag == -1 or flag == 'b':\n",
        "                continue\n",
        "            \n",
        "            d.append([i,j,flag])\n",
        "            plus = [i,j]\n",
        "            visited = [[0]*N for _ in range(N)] \n",
        "            visited[i][j] = 1\n",
        "            group.append(plus)\n",
        "            while d:\n",
        "                r = True\n",
        "                l = True\n",
        "                x,y,flag = d.popleft()\n",
        "                for k in range(4):\n",
        "                    sub_x = x\n",
        "                    sub_y = y\n",
        "                    while 1:\n",
        "                      a = sub_x+dx[k]\n",
        "                      b = sub_y+dy[k]     \n",
        "                      if 0<=a<N and 0<=b<N and lis[a][b]!=-1 and lis[a][b]!='b' and not visited[a][b]:\n",
        "                          visited[a][b] = 1\n",
        "                          if lis[a][b] == flag or lis[a][b] == 0:\n",
        "                         \n",
        "                              d.append([a,b,flag])\n",
        "                              group.append([a,b])\n",
        "                              sub_x = a\n",
        "                              sub_y = b\n",
        "                          else:\n",
        "                              break\n",
        "                      else:\n",
        "                          break\n",
        "            if group not in search_big_group:\n",
        "                search_big_group.append(group)\n",
        "\n",
        "    return search_big_group\n",
        "\n",
        "def search_big_group():\n",
        "    bg_group = list()\n",
        "    max_length = 0\n",
        "    zero_cnt = 0\n",
        "    standard_x,standard_y = N,N\n",
        "\n",
        "    for i in new_bg_list:\n",
        "        print(i)\n",
        "        cnt =search_zero_cnt(i)\n",
        "        x,y = search_standard(i)\n",
        "        if x==-1:\n",
        "            continue\n",
        "        if len(i)>max_length:\n",
        "            max_length = len(i)\n",
        "            standard_x,standard_y = x,y\n",
        "            zero_cnt = cnt\n",
        "        \n",
        "            bg_group = i\n",
        "        elif len(i) == max_length:\n",
        "            if cnt >zero_cnt:\n",
        "                bg_group = i\n",
        "                zero_cnt =  cnt\n",
        "                standard_x,standard_y=x,y\n",
        "\n",
        "            elif cnt==zero_cnt:\n",
        "      \n",
        "                if x>standard_x:\n",
        "                    standard_x = x\n",
        "                    standard_y = y\n",
        "                    bg_group = i\n",
        "                    zero_cnt = cnt\n",
        "                elif x == standard_x:\n",
        "                    if y>standard_y:\n",
        "                        standard_x = x\n",
        "                        standard_y = y\n",
        "                        bg_group = i\n",
        "                        zero_cnt = cnt\n",
        "                else:\n",
        "                    continue\n",
        "            else:\n",
        "              continue\n",
        "   \n",
        "    return bg_group\n",
        "\n",
        "\n",
        "\n",
        "\n",
        "def gravity(array):\n",
        "    for i in range(N-1,-1,-1):\n",
        "        for j in range(N-1,-1,-1):\n",
        "            if array[i][j] == -1:\n",
        "                continue\n",
        "            else:\n",
        "                k = i \n",
        "                while 1:\n",
        "                    if array[k][j] != 'b':\n",
        "                        if k+1<N and array[k+1][j] =='b':\n",
        "                  \n",
        "                            array[k+1][j] = array[k][j]\n",
        "                            array[k][j] = 'b'\n",
        "                            k+=1\n",
        "              \n",
        "                        else:\n",
        "                            break\n",
        "                    else:\n",
        "                        break\n",
        "    return array\n",
        "\n",
        "\n",
        "\n",
        "\n"
      ],
      "metadata": {
        "id": "QWk4S3xj6vh9"
      },
      "execution_count": 494,
      "outputs": []
    },
    {
      "cell_type": "code",
      "source": [
        "big_group_list = search_big_group_list()\n",
        "new_bg_list = []\n",
        "\n",
        "for i in big_group_list:\n",
        "    if len(i) == 1:\n",
        "      continue\n",
        "    i = sorted(i,key=lambda x: (x[0],x[1]))\n",
        "    flag = True\n",
        "    for j_x,j_y in i:\n",
        "        if lis[j_x][j_y]!=0:\n",
        "            flag = False\n",
        "    if not flag and i not in new_bg_list:\n",
        "        new_bg_list.append(i) # 중복의 그룹을 없앤다 . \n",
        "if not new_bg_list :\n",
        "    print(ans)\n",
        "\n",
        "sbg = search_big_group() # 1번 조건을 참고하여 가장 큰 블록 그룹을 찾는다. \n",
        "\n",
        "ans += len(sbg)**2 # 2번 조건을 참고하여 점수를 더한다 \n",
        "\n",
        "\n",
        "for i,j in sbg:\n",
        "    lis[i][j] = 'b'\n",
        "\n",
        "lis = gravity(lis) # 3번 조건을 활용해 중력이 작용한다 \n",
        "print('중력1 ', lis)\n",
        "new_lis = [[0]*N for _ in range(N)]\n",
        "for i in range(N):\n",
        "    for j in range(N):\n",
        "        new_i = N -1 - j \n",
        "        new_lis[new_i][i] = lis[i][j] # 4번 조건을 활용해 격자가 반시계 방향으로 회전한다. \n",
        "\n",
        "lis = gravity(new_lis) # 5번 조건을 활용해 다시 중력이 작용한다 .\n",
        "print('중력2 ', lis)"
      ],
      "metadata": {
        "colab": {
          "base_uri": "https://localhost:8080/"
        },
        "id": "7kkZrV3mm-j6",
        "outputId": "1e97511e-0350-4176-df7b-1e994f3916ea"
      },
      "execution_count": 507,
      "outputs": [
        {
          "output_type": "stream",
          "name": "stdout",
          "text": [
            "125\n",
            "중력1  [['b', 'b', 'b', 1, 4, 'b'], ['b', 'b', 'b', 3, -1, 3], ['b', 'b', 'b', -1, 'b', -1], ['b', 'b', 'b', 'b', 'b', 'b'], ['b', 'b', 4, 'b', -1, 1], ['b', -1, 2, 'b', 'b', 3]]\n",
            "중력2  [['b', 3, -1, 'b', 1, 'b'], ['b', -1, 'b', 'b', -1, 'b'], ['b', 'b', -1, 'b', 'b', 3], ['b', 'b', 'b', 'b', 'b', 2], [4, 'b', 'b', 'b', 'b', -1], [1, 3, 'b', 'b', 4, 'b']]\n"
          ]
        }
      ]
    },
    {
      "cell_type": "code",
      "source": [
        "[[-2, 3, -1, -2, 2, 2], [-2, -1, -2, -2, -1, 3], [-2, -2, -1, -2, -2, 1], [1, -2, -2, -2, -2, 4], [4, -2, -2, 3, -2, -1], [1, 0, -2, 1, 1, 2]]"
      ],
      "metadata": {
        "colab": {
          "base_uri": "https://localhost:8080/"
        },
        "id": "MV1RK-ktnBXH",
        "outputId": "b0efe3ae-eadf-4640-8931-b7b4585b0851"
      },
      "execution_count": 508,
      "outputs": [
        {
          "output_type": "execute_result",
          "data": {
            "text/plain": [
              "[[-2, 3, -1, -2, 2, 2],\n",
              " [-2, -1, -2, -2, -1, 3],\n",
              " [-2, -2, -1, -2, -2, 1],\n",
              " [1, -2, -2, -2, -2, 4],\n",
              " [4, -2, -2, 3, -2, -1],\n",
              " [1, 0, -2, 1, 1, 2]]"
            ]
          },
          "metadata": {},
          "execution_count": 508
        }
      ]
    },
    {
      "cell_type": "code",
      "source": [
        "ans"
      ],
      "metadata": {
        "colab": {
          "base_uri": "https://localhost:8080/"
        },
        "id": "gXab9HrWYIqg",
        "outputId": "967754e1-4a16-4560-a20f-2e4ccaa26a1e"
      },
      "execution_count": 509,
      "outputs": [
        {
          "output_type": "execute_result",
          "data": {
            "text/plain": [
              "125"
            ]
          },
          "metadata": {},
          "execution_count": 509
        }
      ]
    },
    {
      "cell_type": "code",
      "source": [
        "print(sbg)"
      ],
      "metadata": {
        "colab": {
          "base_uri": "https://localhost:8080/"
        },
        "id": "hhiKt_5eYuR1",
        "outputId": "f9a1920f-4195-4956-f555-a8a318df9bc0"
      },
      "execution_count": 344,
      "outputs": [
        {
          "output_type": "stream",
          "name": "stdout",
          "text": [
            "[[2, 4], [3, 4], [4, 4]]\n"
          ]
        }
      ]
    },
    {
      "cell_type": "code",
      "source": [
        "sbg = search_big_group()\n",
        "print(sbg)"
      ],
      "metadata": {
        "colab": {
          "base_uri": "https://localhost:8080/"
        },
        "id": "j4uoWygrhl0W",
        "outputId": "baf6c60c-e101-4559-b3c4-7ce80e29db10"
      },
      "execution_count": 339,
      "outputs": [
        {
          "output_type": "stream",
          "name": "stdout",
          "text": [
            "1\n",
            "standard_x 2\n",
            "[[2, 4], [3, 4], [4, 4]]\n"
          ]
        }
      ]
    },
    {
      "cell_type": "code",
      "source": [
        "search_standard([[2, 4], [3, 4], [4, 4]])"
      ],
      "metadata": {
        "colab": {
          "base_uri": "https://localhost:8080/"
        },
        "id": "h31Or1uBjRMt",
        "outputId": "39096332-ca9c-47a3-ecda-9fcda72f3220"
      },
      "execution_count": 301,
      "outputs": [
        {
          "output_type": "execute_result",
          "data": {
            "text/plain": [
              "(2, 4)"
            ]
          },
          "metadata": {},
          "execution_count": 301
        }
      ]
    },
    {
      "cell_type": "code",
      "source": [
        ""
      ],
      "metadata": {
        "id": "4KP1qI6SkyAt"
      },
      "execution_count": null,
      "outputs": []
    }
  ]
}